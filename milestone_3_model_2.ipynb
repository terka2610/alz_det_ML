{
 "cells": [
  {
   "cell_type": "markdown",
   "metadata": {
    "id": "2O4Yf-IoK0js"
   },
   "source": [
    "# Import"
   ]
  },
  {
   "cell_type": "code",
   "execution_count": 1,
   "metadata": {
    "colab": {
     "base_uri": "https://localhost:8080/"
    },
    "id": "61sxPLo3L5Ac",
    "outputId": "f9ae170a-5b95-4fd7-9ccb-a2ec0f87b1d1"
   },
   "outputs": [
    {
     "name": "stdout",
     "output_type": "stream",
     "text": [
      "\u001b[33mhint: Using 'master' as the name for the initial branch. This default branch name\u001b[m\n",
      "\u001b[33mhint: is subject to change. To configure the initial branch name to use in all\u001b[m\n",
      "\u001b[33mhint: of your new repositories, which will suppress this warning, call:\u001b[m\n",
      "\u001b[33mhint: \u001b[m\n",
      "\u001b[33mhint: \tgit config --global init.defaultBranch <name>\u001b[m\n",
      "\u001b[33mhint: \u001b[m\n",
      "\u001b[33mhint: Names commonly chosen instead of 'master' are 'main', 'trunk' and\u001b[m\n",
      "\u001b[33mhint: 'development'. The just-created branch can be renamed via this command:\u001b[m\n",
      "\u001b[33mhint: \u001b[m\n",
      "\u001b[33mhint: \tgit branch -m <name>\u001b[m\n",
      "Initialized empty Git repository in /content/.git/\n",
      "remote: Enumerating objects: 18120, done.\u001b[K\n",
      "remote: Counting objects: 100% (57/57), done.\u001b[K\n",
      "remote: Compressing objects: 100% (37/37), done.\u001b[K\n",
      "remote: Total 18120 (delta 38), reused 20 (delta 20), pack-reused 18063 (from 1)\u001b[K\n",
      "Receiving objects: 100% (18120/18120), 11.18 GiB | 34.72 MiB/s, done.\n",
      "Resolving deltas: 100% (103/103), done.\n",
      "From https://github.com/terka2610/alz_det_ML\n",
      " * branch              HEAD       -> FETCH_HEAD\n",
      "Updating files: 100% (17306/17306), done.\n"
     ]
    }
   ],
   "source": [
    "!git init\n",
    "!git pull https://github.com/terka2610/alz_det_ML.git"
   ]
  },
  {
   "cell_type": "code",
   "execution_count": 1,
   "metadata": {
    "colab": {
     "base_uri": "https://localhost:8080/"
    },
    "id": "SZbCfbMzL4L7",
    "outputId": "008aa97e-79ac-44cc-9ea1-77b099d006cb"
   },
   "outputs": [
    {
     "name": "stdout",
     "output_type": "stream",
     "text": [
      "Defaulting to user installation because normal site-packages is not writeable\n",
      "Requirement already satisfied: PyWavelets in /home/ya2225/.local/lib/python3.9/site-packages (1.6.0)\n",
      "Requirement already satisfied: numpy<3,>=1.22.4 in /home/ya2225/.local/lib/python3.9/site-packages (from PyWavelets) (2.0.2)\n",
      "Defaulting to user installation because normal site-packages is not writeable\n",
      "Requirement already satisfied: mne in /home/ya2225/.local/lib/python3.9/site-packages (1.8.0)\n",
      "Requirement already satisfied: decorator in /share/apps/pyenv/py3.9/lib/python3.9/site-packages (from mne) (5.1.1)\n",
      "Requirement already satisfied: jinja2 in /share/apps/pyenv/py3.9/lib/python3.9/site-packages (from mne) (3.1.3)\n",
      "Requirement already satisfied: lazy-loader>=0.3 in /home/ya2225/.local/lib/python3.9/site-packages (from mne) (0.4)\n",
      "Requirement already satisfied: matplotlib>=3.6 in /home/ya2225/.local/lib/python3.9/site-packages (from mne) (3.9.4)\n",
      "Requirement already satisfied: numpy<3,>=1.23 in /home/ya2225/.local/lib/python3.9/site-packages (from mne) (2.0.2)\n",
      "Requirement already satisfied: packaging in /share/apps/pyenv/py3.9/lib/python3.9/site-packages (from mne) (23.2)\n",
      "Requirement already satisfied: pooch>=1.5 in /home/ya2225/.local/lib/python3.9/site-packages (from mne) (1.8.2)\n",
      "Requirement already satisfied: scipy>=1.9 in /home/ya2225/.local/lib/python3.9/site-packages (from mne) (1.13.1)\n",
      "Requirement already satisfied: tqdm in /share/apps/pyenv/py3.9/lib/python3.9/site-packages (from mne) (4.61.2)\n",
      "Requirement already satisfied: contourpy>=1.0.1 in /home/ya2225/.local/lib/python3.9/site-packages (from matplotlib>=3.6->mne) (1.3.0)\n",
      "Requirement already satisfied: cycler>=0.10 in /home/ya2225/.local/lib/python3.9/site-packages (from matplotlib>=3.6->mne) (0.12.1)\n",
      "Requirement already satisfied: fonttools>=4.22.0 in /home/ya2225/.local/lib/python3.9/site-packages (from matplotlib>=3.6->mne) (4.57.0)\n",
      "Requirement already satisfied: kiwisolver>=1.3.1 in /home/ya2225/.local/lib/python3.9/site-packages (from matplotlib>=3.6->mne) (1.4.7)\n",
      "Requirement already satisfied: pillow>=8 in /home/ya2225/.local/lib/python3.9/site-packages (from matplotlib>=3.6->mne) (11.2.1)\n",
      "Requirement already satisfied: pyparsing>=2.3.1 in /home/ya2225/.local/lib/python3.9/site-packages (from matplotlib>=3.6->mne) (3.2.3)\n",
      "Requirement already satisfied: python-dateutil>=2.7 in /share/apps/pyenv/py3.9/lib/python3.9/site-packages (from matplotlib>=3.6->mne) (2.8.2)\n",
      "Requirement already satisfied: importlib-resources>=3.2.0 in /home/ya2225/.local/lib/python3.9/site-packages (from matplotlib>=3.6->mne) (6.5.2)\n",
      "Requirement already satisfied: platformdirs>=2.5.0 in /share/apps/pyenv/py3.9/lib/python3.9/site-packages (from pooch>=1.5->mne) (4.2.0)\n",
      "Requirement already satisfied: requests>=2.19.0 in /share/apps/pyenv/py3.9/lib/python3.9/site-packages (from pooch>=1.5->mne) (2.31.0)\n",
      "Requirement already satisfied: MarkupSafe>=2.0 in /share/apps/pyenv/py3.9/lib/python3.9/site-packages (from jinja2->mne) (2.1.4)\n",
      "Requirement already satisfied: zipp>=3.1.0 in /share/apps/pyenv/py3.9/lib/python3.9/site-packages (from importlib-resources>=3.2.0->matplotlib>=3.6->mne) (3.17.0)\n",
      "Requirement already satisfied: six>=1.5 in /share/apps/pyenv/py3.9/lib/python3.9/site-packages (from python-dateutil>=2.7->matplotlib>=3.6->mne) (1.16.0)\n",
      "Requirement already satisfied: charset-normalizer<4,>=2 in /share/apps/pyenv/py3.9/lib/python3.9/site-packages (from requests>=2.19.0->pooch>=1.5->mne) (3.3.2)\n",
      "Requirement already satisfied: idna<4,>=2.5 in /share/apps/pyenv/py3.9/lib/python3.9/site-packages (from requests>=2.19.0->pooch>=1.5->mne) (2.10)\n",
      "Requirement already satisfied: urllib3<3,>=1.21.1 in /share/apps/pyenv/py3.9/lib/python3.9/site-packages (from requests>=2.19.0->pooch>=1.5->mne) (1.26.6)\n",
      "Requirement already satisfied: certifi>=2017.4.17 in /share/apps/pyenv/py3.9/lib/python3.9/site-packages (from requests>=2.19.0->pooch>=1.5->mne) (2024.2.2)\n"
     ]
    }
   ],
   "source": [
    "!pip install PyWavelets\n",
    "!pip install mne\n"
   ]
  },
  {
   "cell_type": "code",
   "execution_count": 2,
   "metadata": {
    "colab": {
     "base_uri": "https://localhost:8080/"
    },
    "id": "XXbIhs81L_kv",
    "outputId": "a8a0dec2-8580-438e-d629-101e6b1e9ecd"
   },
   "outputs": [
    {
     "name": "stdout",
     "output_type": "stream",
     "text": [
      "Defaulting to user installation because normal site-packages is not writeable\n",
      "Requirement already satisfied: optuna in /home/ya2225/.local/lib/python3.9/site-packages (4.3.0)\n",
      "Requirement already satisfied: alembic>=1.5.0 in /home/ya2225/.local/lib/python3.9/site-packages (from optuna) (1.15.2)\n",
      "Requirement already satisfied: colorlog in /home/ya2225/.local/lib/python3.9/site-packages (from optuna) (6.9.0)\n",
      "Requirement already satisfied: numpy in /home/ya2225/.local/lib/python3.9/site-packages (from optuna) (2.0.2)\n",
      "Requirement already satisfied: packaging>=20.0 in /share/apps/pyenv/py3.9/lib/python3.9/site-packages (from optuna) (23.2)\n",
      "Requirement already satisfied: sqlalchemy>=1.4.2 in /home/ya2225/.local/lib/python3.9/site-packages (from optuna) (2.0.40)\n",
      "Requirement already satisfied: tqdm in /share/apps/pyenv/py3.9/lib/python3.9/site-packages (from optuna) (4.61.2)\n",
      "Requirement already satisfied: PyYAML in /share/apps/pyenv/py3.9/lib/python3.9/site-packages (from optuna) (6.0.1)\n",
      "Requirement already satisfied: Mako in /home/ya2225/.local/lib/python3.9/site-packages (from alembic>=1.5.0->optuna) (1.3.10)\n",
      "Requirement already satisfied: typing-extensions>=4.12 in /home/ya2225/.local/lib/python3.9/site-packages (from alembic>=1.5.0->optuna) (4.13.2)\n",
      "Requirement already satisfied: greenlet>=1 in /home/ya2225/.local/lib/python3.9/site-packages (from sqlalchemy>=1.4.2->optuna) (3.2.1)\n",
      "Requirement already satisfied: MarkupSafe>=0.9.2 in /share/apps/pyenv/py3.9/lib/python3.9/site-packages (from Mako->alembic>=1.5.0->optuna) (2.1.4)\n"
     ]
    }
   ],
   "source": [
    "!pip install optuna"
   ]
  },
  {
   "cell_type": "code",
   "execution_count": 3,
   "metadata": {
    "colab": {
     "base_uri": "https://localhost:8080/"
    },
    "id": "H3YS5IHmMAOa",
    "outputId": "b84dcd37-34c2-4ef9-fe26-57b9b4f9bfb6"
   },
   "outputs": [
    {
     "name": "stdout",
     "output_type": "stream",
     "text": [
      "Defaulting to user installation because normal site-packages is not writeable\n",
      "Requirement already satisfied: torchviz in /home/ya2225/.local/lib/python3.9/site-packages (0.0.3)\n",
      "Requirement already satisfied: torch in /home/ya2225/.local/lib/python3.9/site-packages (from torchviz) (2.7.0)\n",
      "Requirement already satisfied: graphviz in /home/ya2225/.local/lib/python3.9/site-packages (from torchviz) (0.20.3)\n",
      "Requirement already satisfied: filelock in /home/ya2225/.local/lib/python3.9/site-packages (from torch->torchviz) (3.18.0)\n",
      "Requirement already satisfied: typing-extensions>=4.10.0 in /home/ya2225/.local/lib/python3.9/site-packages (from torch->torchviz) (4.13.2)\n",
      "Requirement already satisfied: sympy>=1.13.3 in /home/ya2225/.local/lib/python3.9/site-packages (from torch->torchviz) (1.14.0)\n",
      "Requirement already satisfied: networkx in /home/ya2225/.local/lib/python3.9/site-packages (from torch->torchviz) (3.2.1)\n",
      "Requirement already satisfied: jinja2 in /share/apps/pyenv/py3.9/lib/python3.9/site-packages (from torch->torchviz) (3.1.3)\n",
      "Requirement already satisfied: fsspec in /home/ya2225/.local/lib/python3.9/site-packages (from torch->torchviz) (2025.3.2)\n",
      "Requirement already satisfied: nvidia-cuda-nvrtc-cu12==12.6.77 in /home/ya2225/.local/lib/python3.9/site-packages (from torch->torchviz) (12.6.77)\n",
      "Requirement already satisfied: nvidia-cuda-runtime-cu12==12.6.77 in /home/ya2225/.local/lib/python3.9/site-packages (from torch->torchviz) (12.6.77)\n",
      "Requirement already satisfied: nvidia-cuda-cupti-cu12==12.6.80 in /home/ya2225/.local/lib/python3.9/site-packages (from torch->torchviz) (12.6.80)\n",
      "Requirement already satisfied: nvidia-cudnn-cu12==9.5.1.17 in /home/ya2225/.local/lib/python3.9/site-packages (from torch->torchviz) (9.5.1.17)\n",
      "Requirement already satisfied: nvidia-cublas-cu12==12.6.4.1 in /home/ya2225/.local/lib/python3.9/site-packages (from torch->torchviz) (12.6.4.1)\n",
      "Requirement already satisfied: nvidia-cufft-cu12==11.3.0.4 in /home/ya2225/.local/lib/python3.9/site-packages (from torch->torchviz) (11.3.0.4)\n",
      "Requirement already satisfied: nvidia-curand-cu12==10.3.7.77 in /home/ya2225/.local/lib/python3.9/site-packages (from torch->torchviz) (10.3.7.77)\n",
      "Requirement already satisfied: nvidia-cusolver-cu12==11.7.1.2 in /home/ya2225/.local/lib/python3.9/site-packages (from torch->torchviz) (11.7.1.2)\n",
      "Requirement already satisfied: nvidia-cusparse-cu12==12.5.4.2 in /home/ya2225/.local/lib/python3.9/site-packages (from torch->torchviz) (12.5.4.2)\n",
      "Requirement already satisfied: nvidia-cusparselt-cu12==0.6.3 in /home/ya2225/.local/lib/python3.9/site-packages (from torch->torchviz) (0.6.3)\n",
      "Requirement already satisfied: nvidia-nccl-cu12==2.26.2 in /home/ya2225/.local/lib/python3.9/site-packages (from torch->torchviz) (2.26.2)\n",
      "Requirement already satisfied: nvidia-nvtx-cu12==12.6.77 in /home/ya2225/.local/lib/python3.9/site-packages (from torch->torchviz) (12.6.77)\n",
      "Requirement already satisfied: nvidia-nvjitlink-cu12==12.6.85 in /home/ya2225/.local/lib/python3.9/site-packages (from torch->torchviz) (12.6.85)\n",
      "Requirement already satisfied: nvidia-cufile-cu12==1.11.1.6 in /home/ya2225/.local/lib/python3.9/site-packages (from torch->torchviz) (1.11.1.6)\n",
      "Requirement already satisfied: triton==3.3.0 in /home/ya2225/.local/lib/python3.9/site-packages (from torch->torchviz) (3.3.0)\n",
      "Requirement already satisfied: setuptools>=40.8.0 in /share/apps/pyenv/py3.9/lib/python3.9/site-packages (from triton==3.3.0->torch->torchviz) (52.0.0.post20210125)\n",
      "Requirement already satisfied: mpmath<1.4,>=1.1.0 in /home/ya2225/.local/lib/python3.9/site-packages (from sympy>=1.13.3->torch->torchviz) (1.3.0)\n",
      "Requirement already satisfied: MarkupSafe>=2.0 in /share/apps/pyenv/py3.9/lib/python3.9/site-packages (from jinja2->torch->torchviz) (2.1.4)\n",
      "Defaulting to user installation because normal site-packages is not writeable\n",
      "Requirement already satisfied: pyprep in /home/ya2225/.local/lib/python3.9/site-packages (0.4.3)\n",
      "Requirement already satisfied: numpy>=1.20.2 in /home/ya2225/.local/lib/python3.9/site-packages (from pyprep) (2.0.2)\n",
      "Requirement already satisfied: scipy>=1.6.3 in /home/ya2225/.local/lib/python3.9/site-packages (from pyprep) (1.13.1)\n",
      "Requirement already satisfied: mne>=1.3.0 in /home/ya2225/.local/lib/python3.9/site-packages (from pyprep) (1.8.0)\n",
      "Requirement already satisfied: psutil>=5.4.3 in /share/apps/pyenv/py3.9/lib/python3.9/site-packages (from pyprep) (5.9.8)\n",
      "Requirement already satisfied: decorator in /share/apps/pyenv/py3.9/lib/python3.9/site-packages (from mne>=1.3.0->pyprep) (5.1.1)\n",
      "Requirement already satisfied: jinja2 in /share/apps/pyenv/py3.9/lib/python3.9/site-packages (from mne>=1.3.0->pyprep) (3.1.3)\n",
      "Requirement already satisfied: lazy-loader>=0.3 in /home/ya2225/.local/lib/python3.9/site-packages (from mne>=1.3.0->pyprep) (0.4)\n",
      "Requirement already satisfied: matplotlib>=3.6 in /home/ya2225/.local/lib/python3.9/site-packages (from mne>=1.3.0->pyprep) (3.9.4)\n",
      "Requirement already satisfied: packaging in /share/apps/pyenv/py3.9/lib/python3.9/site-packages (from mne>=1.3.0->pyprep) (23.2)\n",
      "Requirement already satisfied: pooch>=1.5 in /home/ya2225/.local/lib/python3.9/site-packages (from mne>=1.3.0->pyprep) (1.8.2)\n",
      "Requirement already satisfied: tqdm in /share/apps/pyenv/py3.9/lib/python3.9/site-packages (from mne>=1.3.0->pyprep) (4.61.2)\n",
      "Requirement already satisfied: contourpy>=1.0.1 in /home/ya2225/.local/lib/python3.9/site-packages (from matplotlib>=3.6->mne>=1.3.0->pyprep) (1.3.0)\n",
      "Requirement already satisfied: cycler>=0.10 in /home/ya2225/.local/lib/python3.9/site-packages (from matplotlib>=3.6->mne>=1.3.0->pyprep) (0.12.1)\n",
      "Requirement already satisfied: fonttools>=4.22.0 in /home/ya2225/.local/lib/python3.9/site-packages (from matplotlib>=3.6->mne>=1.3.0->pyprep) (4.57.0)\n",
      "Requirement already satisfied: kiwisolver>=1.3.1 in /home/ya2225/.local/lib/python3.9/site-packages (from matplotlib>=3.6->mne>=1.3.0->pyprep) (1.4.7)\n",
      "Requirement already satisfied: pillow>=8 in /home/ya2225/.local/lib/python3.9/site-packages (from matplotlib>=3.6->mne>=1.3.0->pyprep) (11.2.1)\n",
      "Requirement already satisfied: pyparsing>=2.3.1 in /home/ya2225/.local/lib/python3.9/site-packages (from matplotlib>=3.6->mne>=1.3.0->pyprep) (3.2.3)\n",
      "Requirement already satisfied: python-dateutil>=2.7 in /share/apps/pyenv/py3.9/lib/python3.9/site-packages (from matplotlib>=3.6->mne>=1.3.0->pyprep) (2.8.2)\n",
      "Requirement already satisfied: importlib-resources>=3.2.0 in /home/ya2225/.local/lib/python3.9/site-packages (from matplotlib>=3.6->mne>=1.3.0->pyprep) (6.5.2)\n",
      "Requirement already satisfied: platformdirs>=2.5.0 in /share/apps/pyenv/py3.9/lib/python3.9/site-packages (from pooch>=1.5->mne>=1.3.0->pyprep) (4.2.0)\n",
      "Requirement already satisfied: requests>=2.19.0 in /share/apps/pyenv/py3.9/lib/python3.9/site-packages (from pooch>=1.5->mne>=1.3.0->pyprep) (2.31.0)\n",
      "Requirement already satisfied: MarkupSafe>=2.0 in /share/apps/pyenv/py3.9/lib/python3.9/site-packages (from jinja2->mne>=1.3.0->pyprep) (2.1.4)\n",
      "Requirement already satisfied: zipp>=3.1.0 in /share/apps/pyenv/py3.9/lib/python3.9/site-packages (from importlib-resources>=3.2.0->matplotlib>=3.6->mne>=1.3.0->pyprep) (3.17.0)\n",
      "Requirement already satisfied: six>=1.5 in /share/apps/pyenv/py3.9/lib/python3.9/site-packages (from python-dateutil>=2.7->matplotlib>=3.6->mne>=1.3.0->pyprep) (1.16.0)\n",
      "Requirement already satisfied: charset-normalizer<4,>=2 in /share/apps/pyenv/py3.9/lib/python3.9/site-packages (from requests>=2.19.0->pooch>=1.5->mne>=1.3.0->pyprep) (3.3.2)\n",
      "Requirement already satisfied: idna<4,>=2.5 in /share/apps/pyenv/py3.9/lib/python3.9/site-packages (from requests>=2.19.0->pooch>=1.5->mne>=1.3.0->pyprep) (2.10)\n",
      "Requirement already satisfied: urllib3<3,>=1.21.1 in /share/apps/pyenv/py3.9/lib/python3.9/site-packages (from requests>=2.19.0->pooch>=1.5->mne>=1.3.0->pyprep) (1.26.6)\n",
      "Requirement already satisfied: certifi>=2017.4.17 in /share/apps/pyenv/py3.9/lib/python3.9/site-packages (from requests>=2.19.0->pooch>=1.5->mne>=1.3.0->pyprep) (2024.2.2)\n"
     ]
    }
   ],
   "source": [
    "!pip install torchviz\n",
    "!pip install pyprep"
   ]
  },
  {
   "cell_type": "code",
   "execution_count": 1,
   "metadata": {
    "id": "kqS6KVS9K0jo"
   },
   "outputs": [],
   "source": [
    "import numpy as np\n",
    "import pandas as pd\n",
    "import json\n",
    "import os\n",
    "import mne\n",
    "from sklearn.model_selection import train_test_split\n",
    "from sklearn.preprocessing import LabelEncoder, label_binarize\n",
    "from sklearn.metrics import classification_report, accuracy_score, roc_curve, auc\n",
    "\n",
    "import torch\n",
    "import torch.nn as nn\n",
    "import torch.nn.functional as F\n",
    "import torch.optim as optim\n",
    "from torch.utils.data import TensorDataset, DataLoader\n",
    "import time # To measure time\n",
    "\n",
    "\n",
    "import matplotlib.pyplot as plt\n",
    "\n"
   ]
  },
  {
   "cell_type": "code",
   "execution_count": 2,
   "metadata": {
    "id": "fiQT6hxkK0jt"
   },
   "outputs": [],
   "source": [
    "def read_json_dicts (file_path):\n",
    "    with open(file_path, 'r', encoding='utf-8') as f:\n",
    "        data_dict = json.load(f)\n",
    "    return pd.DataFrame(data_dict)\n",
    "\n",
    "def collect_eeg_data(folder_path):\n",
    "    data = {}\n",
    "    for filename in os.listdir(folder_path):\n",
    "        if filename.endswith(\".set\"):\n",
    "            file_path = os.path.join(folder_path, filename)\n",
    "            raw = mne.io.read_raw_eeglab(file_path, preload=True)\n",
    "            data[filename] = raw.get_data()\n",
    "\n",
    "    return data"
   ]
  },
  {
   "cell_type": "markdown",
   "metadata": {
    "id": "xH5v5FIEK0jt"
   },
   "source": [
    "# Preprocessing"
   ]
  },
  {
   "cell_type": "markdown",
   "metadata": {
    "id": "KKCfkxGeK0jv"
   },
   "source": [
    "## Model 2"
   ]
  },
  {
   "cell_type": "markdown",
   "metadata": {
    "id": "Vc1xIGdpK0jw"
   },
   "source": [
    "# Models"
   ]
  },
  {
   "cell_type": "markdown",
   "metadata": {
    "id": "EY_VTif5K0jx"
   },
   "source": [
    "## Model 2: charya et al., 2025"
   ]
  },
  {
   "cell_type": "code",
   "execution_count": 3,
   "metadata": {
    "id": "76XoNKuqsnln"
   },
   "outputs": [],
   "source": [
    "\n",
    "\n",
    "class ConvNeXt1DBlock(nn.Module):\n",
    "    def __init__(self, dim, drop_p=0.):\n",
    "        super().__init__()\n",
    "        # Depthwise convolution (applied independently to each channel)\n",
    "        self.dwconv = nn.Conv1d(dim, dim, kernel_size=7, padding=3, groups=dim)\n",
    "        self.norm = nn.LayerNorm(dim, eps=1e-6) # LayerNorm applied on the channel dimension\n",
    "        # Pointwise convolutions (expand and contract channels)\n",
    "        self.pwconv1 = nn.Linear(dim, 4 * dim) # Equivalent to 1x1 Conv for channel expansion\n",
    "        self.act = nn.LeakyReLU(negative_slope=0.01)  # Change GELU to LeakyReLU\n",
    "        self.pwconv2 = nn.Linear(4 * dim, dim) # Equivalent to 1x1 Conv for channel contraction\n",
    "        self.drop_p = drop_p\n",
    "        if self.drop_p > 0.0:\n",
    "            self.dropout = nn.Dropout(drop_p)\n",
    "\n",
    "    def forward(self, x):\n",
    "        input = x\n",
    "        x = self.dwconv(x)\n",
    "        x = x.permute(0, 2, 1)  # (batch_size, timesteps, channels)\n",
    "        x = self.norm(x)\n",
    "        x = self.pwconv1(x)\n",
    "        x = self.act(x)\n",
    "        x = self.pwconv2(x)\n",
    "        x = x.permute(0, 2, 1)  # (batch_size, channels, timesteps)\n",
    "        if self.drop_p > 0.0:\n",
    "            x = self.dropout(x)\n",
    "        x = input + x\n",
    "        return x\n",
    "\n",
    "class EEGConvNeXt_1D(nn.Module):\n",
    "    def __init__(self, n_channels, n_timesteps, num_classes,\n",
    "                 depths=[1, 1, 2, 1], dims=[96, 192, 384, 768], dropout_rate=0.5):\n",
    "        super().__init__()\n",
    "\n",
    "        self.n_timesteps = n_timesteps\n",
    "        stem_kernel_size = 4\n",
    "        stem_stride = 4\n",
    "        self.stem = nn.Sequential(\n",
    "            nn.Conv1d(n_channels, dims[0], kernel_size=stem_kernel_size, stride=stem_stride),\n",
    "            nn.BatchNorm1d(dims[0]),  # Added BatchNorm after the first convolution\n",
    "            nn.LeakyReLU(negative_slope=0.01),  # Added LeakyReLU after stem\n",
    "        )\n",
    "        current_timesteps = (n_timesteps - stem_kernel_size) // stem_stride + 1\n",
    "\n",
    "        self.stages = nn.ModuleList()\n",
    "        for i in range(4):  # 4 stages\n",
    "            if i > 0:\n",
    "                downsample_layer = nn.Sequential(\n",
    "                    nn.BatchNorm1d(dims[i-1]),  # Added BatchNorm\n",
    "                    nn.Conv1d(dims[i-1], dims[i], kernel_size=2, stride=2),\n",
    "                    nn.LeakyReLU(negative_slope=0.01),  # LeakyReLU for better gradient flow\n",
    "                )\n",
    "                self.stages.append(downsample_layer)\n",
    "                current_timesteps = (current_timesteps - 2) // 2 + 1\n",
    "\n",
    "            stage_blocks = nn.Sequential(\n",
    "                *[ConvNeXt1DBlock(dim=dims[i], drop_p=dropout_rate) for _ in range(depths[i])]\n",
    "            )\n",
    "            self.stages.append(stage_blocks)\n",
    "\n",
    "        self.norm_out = nn.LayerNorm(dims[-1], eps=1e-6)\n",
    "        self.avgpool = nn.AdaptiveAvgPool1d(1)\n",
    "        self.head = nn.Linear(dims[-1], num_classes)\n",
    "\n",
    "    def forward(self, x):\n",
    "        x = self.stem(x)\n",
    "        for stage_module in self.stages:\n",
    "            x = stage_module(x)\n",
    "        x = x.permute(0, 2, 1)\n",
    "        x = self.norm_out(x)\n",
    "        x = x.permute(0, 2, 1)\n",
    "        x = self.avgpool(x)\n",
    "        x = torch.flatten(x, 1)\n",
    "        x = self.head(x)\n",
    "        return x\n"
   ]
  },
  {
   "cell_type": "markdown",
   "metadata": {
    "id": "y_LE7IO3K0jy"
   },
   "source": [
    "# Training"
   ]
  },
  {
   "cell_type": "code",
   "execution_count": 4,
   "metadata": {
    "id": "dqR8q61MK0jy"
   },
   "outputs": [],
   "source": [
    "# --- Modified Generic Training Function with Validation ---\n",
    "def train_model(model, train_loader, val_loader, criterion, optimizer, num_epochs, device):\n",
    "    \"\"\"\n",
    "    Generic function to train and validate a PyTorch model.\n",
    "\n",
    "    Args:\n",
    "        model (nn.Module): The PyTorch model to train.\n",
    "        train_loader (DataLoader): DataLoader for the training data.\n",
    "        val_loader (DataLoader or None): DataLoader for the validation data. If None, validation is skipped.\n",
    "        criterion (nn.Module): The loss function (e.g., nn.CrossEntropyLoss).\n",
    "        optimizer (Optimizer): The optimizer (e.g., optim.Adam).\n",
    "        num_epochs (int): Number of epochs to train for.\n",
    "        device (torch.device): The device to train on (CPU or CUDA).\n",
    "\n",
    "    Returns:\n",
    "        None: Prints training and validation progress information directly.\n",
    "    \"\"\"\n",
    "    model.to(device) # Move model to the designated device\n",
    "    total_train_steps = len(train_loader)\n",
    "    if val_loader:\n",
    "        total_val_steps = len(val_loader)\n",
    "    start_time = time.time()\n",
    "\n",
    "    print(f\"\\n--- Training {model.__class__.__name__} ---\")\n",
    "\n",
    "    for epoch in range(num_epochs):\n",
    "        # --- Training Phase ---\n",
    "        model.train() # Set the model to training mode\n",
    "        epoch_train_loss = 0.0\n",
    "        train_correct_predictions = 0\n",
    "        train_total_samples = 0\n",
    "\n",
    "        for i, (inputs, labels) in enumerate(train_loader):\n",
    "            # Move data to the designated device\n",
    "            inputs = inputs.to(device)\n",
    "            labels = labels.to(device)\n",
    "\n",
    "            # Forward pass\n",
    "            outputs = model(inputs)\n",
    "            loss = criterion(outputs, labels)\n",
    "\n",
    "            # Backward pass and optimization\n",
    "            optimizer.zero_grad()\n",
    "            loss.backward()\n",
    "\n",
    "            torch.nn.utils.clip_grad_norm_(model.parameters(), max_norm=1.0)\n",
    "\n",
    "            optimizer.step()\n",
    "\n",
    "            # Accumulate training statistics\n",
    "            epoch_train_loss += loss.item()\n",
    "            _, predicted = torch.max(outputs.data, 1)\n",
    "            train_total_samples += labels.size(0)\n",
    "            train_correct_predictions += (predicted == labels).sum().item()\n",
    "\n",
    "\n",
    "\n",
    "        # Calculate average training loss and accuracy for the epoch\n",
    "        avg_epoch_train_loss = epoch_train_loss / total_train_steps\n",
    "        epoch_train_accuracy = 100 * train_correct_predictions / train_total_samples\n",
    "\n",
    "        # --- Validation Phase ---\n",
    "        if val_loader is not None:\n",
    "            model.eval() # Set the model to evaluation mode\n",
    "            epoch_val_loss = 0.0\n",
    "            val_correct_predictions = 0\n",
    "            val_total_samples = 0\n",
    "\n",
    "            with torch.no_grad(): # Disable gradient calculations during validation\n",
    "                for j, (val_inputs, val_labels) in enumerate(val_loader):\n",
    "                    # Move data to the designated device\n",
    "                    val_inputs = val_inputs.to(device)\n",
    "                    val_labels = val_labels.to(device)\n",
    "\n",
    "                    # Forward pass\n",
    "                    val_outputs = model(val_inputs)\n",
    "                    val_loss_batch = criterion(val_outputs, val_labels)\n",
    "\n",
    "                    # Accumulate validation statistics\n",
    "                    epoch_val_loss += val_loss_batch.item()\n",
    "\n",
    "                    _, val_predicted = torch.max(val_outputs.data, 1)\n",
    "                    # if j == 0:\n",
    "                      # print(val_predicted)\n",
    "                      # print(val_outputs)\n",
    "                    val_total_samples += val_labels.size(0)\n",
    "                    val_correct_predictions += (val_predicted == val_labels).sum().item()\n",
    "\n",
    "            # Calculate average validation loss and accuracy for the epoch\n",
    "            avg_epoch_val_loss = epoch_val_loss / total_val_steps\n",
    "            epoch_val_accuracy = 100 * val_correct_predictions / val_total_samples\n",
    "\n",
    "            # Print combined epoch results\n",
    "            print(f'Epoch [{epoch+1}/{num_epochs}], '\n",
    "                  f'Train Loss: {avg_epoch_train_loss:.4f}, Train Acc: {epoch_train_accuracy:.2f}%, '\n",
    "                  f'Val Loss: {avg_epoch_val_loss:.4f}, Val Acc: {epoch_val_accuracy:.2f}%')\n",
    "        else:\n",
    "            # Print only training results if no validation loader is provided\n",
    "            print(f'Epoch [{epoch+1}/{num_epochs}], '\n",
    "                  f'Train Loss: {avg_epoch_train_loss:.4f}, Train Acc: {epoch_train_accuracy:.2f}%')\n",
    "\n",
    "        # Note: model is already set back to train() mode at the start of the next epoch loop iteration\n",
    "\n",
    "    end_time = time.time()\n",
    "    print(f\"Finished Training {model.__class__.__name__}. Total time: {end_time - start_time:.2f} seconds\")\n",
    "    # --- Consider saving the best model based on validation performance ---\n",
    "    # (Logic for tracking best val_accuracy/lowest val_loss and saving model state_dict would go here)"
   ]
  },
  {
   "cell_type": "markdown",
   "metadata": {
    "id": "Z84oEIa-K0jz"
   },
   "source": [
    "# Running"
   ]
  },
  {
   "cell_type": "markdown",
   "metadata": {
    "id": "7pp_dHeOK0jz"
   },
   "source": [
    "## Parameters"
   ]
  },
  {
   "cell_type": "code",
   "execution_count": 5,
   "metadata": {
    "id": "_Y8iuJaJK0jz"
   },
   "outputs": [],
   "source": [
    "n_samples = 100   # Number of samples (example)\n",
    "n_channels = 19  # Number of EEG channels (example)\n",
    "n_timesteps = 1425 # Number of time points (example, may need adjustment for models like ConvNeXt)\n",
    "num_classes = 3   # Number of classes\n",
    "batch_size = 16\n",
    "learning_rate = 0.01\n",
    "num_epochs = 100    # Number of epochs (example, usually needs more)"
   ]
  },
  {
   "cell_type": "markdown",
   "metadata": {
    "id": "v7GAKWO3K0jz"
   },
   "source": [
    "## Import the data"
   ]
  },
  {
   "cell_type": "code",
   "execution_count": 6,
   "metadata": {
    "colab": {
     "base_uri": "https://localhost:8080/"
    },
    "id": "Bh1s0VaNL4L9",
    "outputId": "2983dc21-357c-456e-fe31-d16c3169572b"
   },
   "outputs": [],
   "source": [
    "import warnings\n",
    "from sklearn.preprocessing import StandardScaler\n",
    "from sklearn.ensemble import RandomForestClassifier\n",
    "from sklearn.metrics import accuracy_score, precision_score, recall_score, f1_score, confusion_matrix\n",
    "\n",
    "# Ignore RuntimeWarning\n",
    "warnings.filterwarnings('ignore', category=RuntimeWarning)\n",
    "\n",
    "# Enable CUDA\n",
    "mne.utils.set_config('MNE_USE_CUDA', 'true')\n",
    "mne.cuda.init_cuda(verbose=False)  # Set to True for debugging"
   ]
  },
  {
   "cell_type": "code",
   "execution_count": 7,
   "metadata": {
    "colab": {
     "base_uri": "https://localhost:8080/"
    },
    "id": "MY7y9L_fmViM",
    "outputId": "e9fa2e78-f7ca-4f17-c38b-a3f3f27248fa"
   },
   "outputs": [
    {
     "name": "stdout",
     "output_type": "stream",
     "text": [
      "Loaded 898 total entries with labels\n"
     ]
    }
   ],
   "source": [
    "folder_path_test = './test'             # Located in same directory as script\n",
    "label_path = \"Labels_epochs.json\"\n",
    "\n",
    "def collect_eeg_data_and_labels(folder_path, label_json):\n",
    "    # 1) Load label map from JSON\n",
    "    with open(label_json, 'r') as f:\n",
    "        label_map = json.load(f)\n",
    "\n",
    "    data = {}\n",
    "    y = {}\n",
    "\n",
    "    # 2) Walk through .set files\n",
    "    for filename in os.listdir(folder_path):\n",
    "        if not filename.endswith(\".set\"):\n",
    "            continue\n",
    "\n",
    "        sub_id = os.path.splitext(filename)[0][0:7]    # e.g. \"sub-077\"\n",
    "        label = label_map.get(sub_id)\n",
    "        # print(sub_id)\n",
    "        if label is None:\n",
    "            # no label available\n",
    "            continue\n",
    "\n",
    "        # 3) Read EEG and store\n",
    "        raw = mne.io.read_raw_eeglab(os.path.join(folder_path, filename), preload=True)\n",
    "        data[filename] = raw.get_data()\n",
    "        y[filename]    = label\n",
    "\n",
    "    return data, y\n",
    "\n",
    "# Load everything\n",
    "data_original_test, y_test_aligned = collect_eeg_data_and_labels(folder_path_test, label_path)\n",
    "print(f\"Loaded {len(data_original_test)} total entries with labels\")\n",
    "\n",
    "\n",
    "\n",
    "y_test_aligned = [y_test_aligned[key] for key in data_original_test.keys()]\n",
    "y_test_aligned = np.array([y_test_aligned])\n",
    "\n",
    "X_test_aligned = [data_original_test[key] for key in data_original_test.keys()]\n",
    "X_test_aligned = np.array(X_test_aligned)\n",
    "\n",
    "\n"
   ]
  },
  {
   "cell_type": "code",
   "execution_count": 8,
   "metadata": {
    "colab": {
     "base_uri": "https://localhost:8080/"
    },
    "id": "x0K9uMzRPDmi",
    "outputId": "2b20c7c0-83b1-47cf-9041-95fbf1e533a3"
   },
   "outputs": [
    {
     "name": "stdout",
     "output_type": "stream",
     "text": [
      "\n",
      "--- Test Data ---\n",
      "Test samples: 898\n",
      "Test labels: 898\n",
      "Unique test labels:: ['A' 'C' 'F']\n"
     ]
    }
   ],
   "source": [
    "print(\"\\n--- Test Data ---\")\n",
    "print(f\"Test samples: {np.shape(X_test_aligned)[0]}\")\n",
    "print(f\"Test labels: {np.size(y_test_aligned)}\")\n",
    "print(f\"Unique test labels:: {np.unique(y_test_aligned)}\")"
   ]
  },
  {
   "cell_type": "code",
   "execution_count": 9,
   "metadata": {
    "colab": {
     "base_uri": "https://localhost:8080/"
    },
    "id": "p_bWqKI-L4L-",
    "outputId": "184b7a44-8823-4cf8-f6ad-6a101991d39f"
   },
   "outputs": [
    {
     "name": "stdout",
     "output_type": "stream",
     "text": [
      "Loaded 10644 total entries with labels\n",
      "\n",
      "--- train Data ---\n",
      "train samples: 288186300\n",
      "train labels: 10644\n",
      "Unique train labels: ['A' 'C' 'F']\n"
     ]
    }
   ],
   "source": [
    "folder_path_train = './train'             # Located in same directory as script\n",
    "label_path = \"Labels_epochs.json\"\n",
    "\n",
    "def collect_eeg_data_and_labels(folder_path, label_json):\n",
    "    # 1) Load label map from JSON\n",
    "    with open(label_json, 'r') as f:\n",
    "        label_map = json.load(f)\n",
    "\n",
    "    data = {}\n",
    "    y = {}\n",
    "\n",
    "    # 2) Walk through .set files\n",
    "    for filename in os.listdir(folder_path):\n",
    "        if not filename.endswith(\".set\"):\n",
    "            continue\n",
    "\n",
    "        sub_id = os.path.splitext(filename)[0][0:7]    # e.g. \"sub-077\"\n",
    "        label = label_map.get(sub_id)\n",
    "        # print(sub_id)\n",
    "        if label is None:\n",
    "            # no label available\n",
    "            continue\n",
    "\n",
    "        # 3) Read EEG and store\n",
    "        raw = mne.io.read_raw_eeglab(os.path.join(folder_path, filename), preload=True)\n",
    "        data[filename] = raw.get_data()\n",
    "        y[filename]    = label\n",
    "\n",
    "    return data, y\n",
    "\n",
    "# Load everything\n",
    "data_original_train, y_train_aligned = collect_eeg_data_and_labels(folder_path_train, label_path)\n",
    "print(f\"Loaded {len(data_original_train)} total entries with labels\")\n",
    "\n",
    "\n",
    "\n",
    "y_train_aligned = [y_train_aligned[key] for key in data_original_train.keys()]\n",
    "y_train_aligned = np.array([y_train_aligned])\n",
    "\n",
    "X_train_aligned = [data_original_train[key] for key in data_original_train.keys()]\n",
    "X_train_aligned = np.array(X_train_aligned)\n",
    "\n",
    "\n",
    "print(\"\\n--- train Data ---\")\n",
    "print(f\"train samples: {np.size(X_train_aligned)}\")\n",
    "print(f\"train labels: {np.size(y_train_aligned)}\")\n",
    "print(f\"Unique train labels: {np.unique(y_train_aligned)}\")"
   ]
  },
  {
   "cell_type": "code",
   "execution_count": 10,
   "metadata": {
    "colab": {
     "base_uri": "https://localhost:8080/"
    },
    "id": "bXws33-GL4L-",
    "outputId": "4251ea80-cd23-46b4-bd9a-7c32f63f9698"
   },
   "outputs": [
    {
     "name": "stdout",
     "output_type": "stream",
     "text": [
      "(19, 1425)\n"
     ]
    }
   ],
   "source": [
    "print(data_original_test[\"sub-071_eeg_chunk_3.set\"].shape)"
   ]
  },
  {
   "cell_type": "code",
   "execution_count": 11,
   "metadata": {
    "colab": {
     "base_uri": "https://localhost:8080/"
    },
    "id": "67t9xFMIL4L-",
    "outputId": "5928b973-a178-4618-ae8c-5e9ff8a1c623"
   },
   "outputs": [
    {
     "name": "stdout",
     "output_type": "stream",
     "text": [
      "Loaded 877 total entries with labels\n",
      "\n",
      "--- val Data ---\n",
      "val samples: 877\n",
      "val labels: 877\n",
      "Unique val labels: ['A' 'C' 'F']\n"
     ]
    }
   ],
   "source": [
    "folder_path_validate = './validate'             # Located in same directory as script\n",
    "label_path = \"Labels_epochs.json\"\n",
    "\n",
    "def collect_eeg_data_and_labels(folder_path, label_json):\n",
    "    # 1) Load label map from JSON\n",
    "    with open(label_json, 'r') as f:\n",
    "        label_map = json.load(f)\n",
    "\n",
    "    data = {}\n",
    "    y = {}\n",
    "\n",
    "    # 2) Walk through .set files\n",
    "    for filename in os.listdir(folder_path):\n",
    "        if not filename.endswith(\".set\"):\n",
    "            continue\n",
    "\n",
    "        sub_id = os.path.splitext(filename)[0][0:7]    # e.g. \"sub-077\"\n",
    "        label = label_map.get(sub_id)\n",
    "        # print(sub_id)\n",
    "        if label is None:\n",
    "            # no label available\n",
    "            continue\n",
    "\n",
    "        # 3) Read EEG and store\n",
    "        raw = mne.io.read_raw_eeglab(os.path.join(folder_path, filename), preload=True)\n",
    "        data[filename] = raw.get_data()\n",
    "        y[filename]    = label\n",
    "\n",
    "    return data, y\n",
    "\n",
    "# Load everything\n",
    "data_original_val, y_val_aligned = collect_eeg_data_and_labels(folder_path_validate, label_path)\n",
    "print(f\"Loaded {len(data_original_val)} total entries with labels\")\n",
    "\n",
    "\n",
    "\n",
    "y_val_aligned = [y_val_aligned[key] for key in data_original_val.keys()]\n",
    "y_val_aligned = np.array([y_val_aligned])\n",
    "\n",
    "X_val_aligned = [data_original_val[key] for key in data_original_val.keys()]\n",
    "X_val_aligned = np.array(X_val_aligned)\n",
    "\n",
    "\n",
    "print(\"\\n--- val Data ---\")\n",
    "print(f\"val samples: {np.shape(X_val_aligned)[0]}\")\n",
    "print(f\"val labels: {np.size(y_val_aligned)}\")\n",
    "print(f\"Unique val labels: {np.unique(y_val_aligned)}\")"
   ]
  },
  {
   "cell_type": "code",
   "execution_count": 12,
   "metadata": {
    "id": "4e0kXfwQnFo9"
   },
   "outputs": [],
   "source": [
    "\n",
    "def normalize_eeg_data(data):\n",
    "    \"\"\"\n",
    "    Normalize EEG data such that each channel in each sample has zero mean and unit variance.\n",
    "\n",
    "    Args:\n",
    "    - data (numpy.ndarray): EEG data with shape (n_samples, n_channels, n_timesteps)\n",
    "\n",
    "    Returns:\n",
    "    - normalized_data (numpy.ndarray): Normalized EEG data\n",
    "    \"\"\"\n",
    "    # Check the shape of the data\n",
    "    assert len(data.shape) == 3, \"Input data must have 3 dimensions (n_samples, n_channels, n_timesteps)\"\n",
    "\n",
    "    # Normalize along the time dimension (axis=2) for each channel and each sample\n",
    "    mean = np.mean(data, axis=2, keepdims=True)  # Mean along time axis (for each channel, per sample)\n",
    "    std = np.std(data, axis=2, keepdims=True)  # Standard deviation along time axis (for each channel, per sample)\n",
    "\n",
    "    normalized_data = (data - mean) / std  # Normalize each channel across time\n",
    "\n",
    "    return normalized_data"
   ]
  },
  {
   "cell_type": "markdown",
   "metadata": {
    "id": "gE0CFDcOK0j0"
   },
   "source": [
    "## Preprocessing"
   ]
  },
  {
   "cell_type": "code",
   "execution_count": 13,
   "metadata": {
    "colab": {
     "base_uri": "https://localhost:8080/"
    },
    "id": "h4dVsjb6K0j1",
    "outputId": "c5b526ea-2adb-401d-8f86-e190d66b2634"
   },
   "outputs": [
    {
     "name": "stdout",
     "output_type": "stream",
     "text": [
      "\n",
      "--- Converting Processed Data to PyTorch Tensors ---\n",
      "LabelEncoder classes found: [np.str_('A'), np.str_('C'), np.str_('F')] -> mapped to indices 0-2\n",
      "Tensor shapes: X_train=torch.Size([10644, 19, 1425]), y_train=torch.Size([10644]) (torch.int64)\n",
      "Tensor shapes: X_val=torch.Size([877, 19, 1425]), y_val=torch.Size([877]) (torch.int64)\n",
      "Tensor shapes: X_test=torch.Size([898, 19, 1425]), y_test=torch.Size([898]) (torch.int64)\n"
     ]
    }
   ],
   "source": [
    "\n",
    "import torch\n",
    "import numpy as np\n",
    "from sklearn.preprocessing import LabelEncoder\n",
    "\n",
    "print(\"\\n--- Converting Processed Data to PyTorch Tensors ---\")\n",
    "\n",
    "\n",
    "## normalize\n",
    "\n",
    "X_val_norm = normalize_eeg_data(X_val_aligned)\n",
    "\n",
    "\n",
    "X_train_norm = normalize_eeg_data(X_train_aligned)\n",
    "\n",
    "X_test_norm = normalize_eeg_data(X_test_aligned)\n",
    "\n",
    "# # --- Convert X data ---\n",
    "\n",
    "if np.size(X_train_aligned) > 0:\n",
    "    X_train_tensor = torch.from_numpy(X_train_norm).float()\n",
    "\n",
    "if np.size(X_val_aligned) > 0:\n",
    "    X_val_tensor = torch.from_numpy(X_val_norm).float()\n",
    "\n",
    "\n",
    "if np.size(X_test_aligned) > 0:\n",
    "    X_test_tensor = torch.from_numpy(X_test_norm).float()\n",
    "\n",
    "# --- Convert Y labels (LabelEncoder for CrossEntropyLoss) ---\n",
    "label_encoder = LabelEncoder()\n",
    "y_train_flat = y_train_aligned.flatten()\n",
    "y_val_flat   = y_val_aligned.flatten()\n",
    "y_test_flat  = y_test_aligned.flatten()\n",
    "\n",
    "all_labels = np.concatenate([\n",
    "    y_train_flat,\n",
    "    y_val_flat,\n",
    "    y_test_flat\n",
    "])\n",
    "label_encoder.fit(all_labels)  # Fit on all available labels\n",
    "\n",
    "num_classes_actual = len(label_encoder.classes_)\n",
    "print(f\"LabelEncoder classes found: {list(label_encoder.classes_)} -> mapped to indices 0-{num_classes_actual - 1}\")\n",
    "\n",
    "# Encode each label split\n",
    "y_train_indices = label_encoder.transform(y_train_flat)\n",
    "y_val_indices = label_encoder.transform(y_val_flat)\n",
    "y_test_indices = label_encoder.transform(y_test_flat)\n",
    "\n",
    "# Convert to LongTensor for CrossEntropyLoss\n",
    "y_train_tensor = torch.tensor(y_train_indices, dtype=torch.long)\n",
    "y_val_tensor = torch.tensor(y_val_indices, dtype=torch.long)\n",
    "y_test_tensor = torch.tensor(y_test_indices, dtype=torch.long)\n",
    "\n",
    "# --- Summary Output ---\n",
    "print(f\"Tensor shapes: X_train={X_train_tensor.shape}, y_train={y_train_tensor.shape} ({y_train_tensor.dtype})\")\n",
    "if X_val_tensor.numel() > 0:\n",
    "    print(f\"Tensor shapes: X_val={X_val_tensor.shape}, y_val={y_val_tensor.shape} ({y_val_tensor.dtype})\")\n",
    "if X_test_tensor.numel() > 0:\n",
    "    print(f\"Tensor shapes: X_test={X_test_tensor.shape}, y_test={y_test_tensor.shape} ({y_test_tensor.dtype})\")\n",
    "\n",
    "\n"
   ]
  },
  {
   "cell_type": "code",
   "execution_count": 14,
   "metadata": {
    "colab": {
     "base_uri": "https://localhost:8080/"
    },
    "id": "kbXokzUGiAkR",
    "outputId": "796ee34f-3d11-4797-adb4-1bdf7bf6f585"
   },
   "outputs": [
    {
     "data": {
      "text/plain": [
       "(898, 19, 1425)"
      ]
     },
     "execution_count": 14,
     "metadata": {},
     "output_type": "execute_result"
    }
   ],
   "source": [
    "X_test_aligned.shape"
   ]
  },
  {
   "cell_type": "code",
   "execution_count": 15,
   "metadata": {
    "colab": {
     "base_uri": "https://localhost:8080/"
    },
    "id": "-QOH6KZ_K0j1",
    "outputId": "58c0dba8-ea41-4017-b4df-05138c80bc35"
   },
   "outputs": [
    {
     "name": "stdout",
     "output_type": "stream",
     "text": [
      "\n",
      "--- Creating DataLoaders ---\n",
      "DataLoaders created.\n"
     ]
    }
   ],
   "source": [
    "\n",
    "print(\"\\n--- Creating DataLoaders ---\")\n",
    "\n",
    "# --- Train Loader ---\n",
    "train_dataset = TensorDataset(X_train_tensor, y_train_tensor)\n",
    "train_loader = DataLoader(dataset=train_dataset, batch_size=batch_size, shuffle=True)\n",
    "\n",
    "# --- Validation Loader ---\n",
    "val_loader = None\n",
    "if X_val_tensor.shape[0] > 0:\n",
    "    val_dataset = TensorDataset(X_val_tensor, y_val_tensor)\n",
    "    val_loader = DataLoader(dataset=val_dataset, batch_size=batch_size, shuffle=False)\n",
    "\n",
    "# --- Test Loader ---\n",
    "test_loader = None\n",
    "if X_test_tensor.shape[0] > 0:\n",
    "    test_dataset = TensorDataset(X_test_tensor, y_test_tensor)\n",
    "    test_loader = DataLoader(dataset=test_dataset, batch_size=batch_size, shuffle=False)\n",
    "\n",
    "print(\"DataLoaders created.\")\n"
   ]
  },
  {
   "cell_type": "code",
   "execution_count": 16,
   "metadata": {
    "colab": {
     "base_uri": "https://localhost:8080/"
    },
    "id": "SqMmbvCmK0j2",
    "outputId": "cd355354-3578-4286-ef2e-e977ea70c4e7"
   },
   "outputs": [
    {
     "name": "stdout",
     "output_type": "stream",
     "text": [
      "\n",
      "--- Initializing and Training Models ---\n",
      "Using device: cuda\n",
      "torch.Size([10644, 19, 1425])\n"
     ]
    }
   ],
   "source": [
    "# --- Step 5: Initialize and Train Models ---\n",
    "print(\"\\n--- Initializing and Training Models ---\")\n",
    "device = torch.device(\"cuda\" if torch.cuda.is_available() else \"cpu\")\n",
    "print(f\"Using device: {device}\")\n",
    "\n",
    "# Get actual dimensions from data tensors\n",
    "actual_n_samples, actual_n_channels, actual_n_timesteps = X_train_tensor.shape\n",
    "print(X_train_tensor.shape)\n"
   ]
  },
  {
   "cell_type": "markdown",
   "metadata": {
    "id": "JomaMFtqK0j3"
   },
   "source": [
    "## Running Model 2"
   ]
  },
  {
   "cell_type": "code",
   "execution_count": null,
   "metadata": {
    "id": "1AbNlZp1ZJhx"
   },
   "outputs": [],
   "source": []
  },
  {
   "cell_type": "code",
   "execution_count": 17,
   "metadata": {
    "id": "aN1FYX7ptlUv"
   },
   "outputs": [],
   "source": [
    "def initialize_weights(model):\n",
    "    for name, param in model.named_parameters():\n",
    "        if 'weight' in name:\n",
    "            if isinstance(param, nn.Conv1d):\n",
    "                # Apply He (Kaiming) initialization for convolutional layers\n",
    "                init.kaiming_normal_(param, mode='fan_out', nonlinearity='relu')\n",
    "            elif isinstance(param, nn.Linear):\n",
    "                # Apply Xavier initialization for linear layers\n",
    "                init.xavier_normal_(param)\n",
    "        elif 'bias' in name:\n",
    "            # Initialize biases to zero or a small positive value\n",
    "            init.zeros_(param)  # or init.constant_(param, 0.1) for small positive bias\n"
   ]
  },
  {
   "cell_type": "code",
   "execution_count": 18,
   "metadata": {
    "id": "lvdFlz3rZTwD"
   },
   "outputs": [],
   "source": [
    "def init_weights(m):\n",
    "    if isinstance(m, nn.Conv1d):\n",
    "        nn.init.kaiming_normal_(m.weight, mode='fan_out', nonlinearity='relu')\n",
    "    elif isinstance(m, nn.Linear):\n",
    "        nn.init.xavier_normal_(m.weight)\n",
    "\n"
   ]
  },
  {
   "cell_type": "code",
   "execution_count": 19,
   "metadata": {
    "colab": {
     "base_uri": "https://localhost:8080/"
    },
    "id": "FwEoQhJVL4L-",
    "outputId": "a10b9fd8-7b6e-4b5b-9d2a-711ac7212411"
   },
   "outputs": [
    {
     "name": "stdout",
     "output_type": "stream",
     "text": [
      "<bound method Module.parameters of EEGConvNeXt_1D(\n",
      "  (stem): Sequential(\n",
      "    (0): Conv1d(19, 128, kernel_size=(4,), stride=(4,))\n",
      "    (1): BatchNorm1d(128, eps=1e-05, momentum=0.1, affine=True, track_running_stats=True)\n",
      "    (2): LeakyReLU(negative_slope=0.01)\n",
      "  )\n",
      "  (stages): ModuleList(\n",
      "    (0): Sequential(\n",
      "      (0): ConvNeXt1DBlock(\n",
      "        (dwconv): Conv1d(128, 128, kernel_size=(7,), stride=(1,), padding=(3,), groups=128)\n",
      "        (norm): LayerNorm((128,), eps=1e-06, elementwise_affine=True)\n",
      "        (pwconv1): Linear(in_features=128, out_features=512, bias=True)\n",
      "        (act): LeakyReLU(negative_slope=0.01)\n",
      "        (pwconv2): Linear(in_features=512, out_features=128, bias=True)\n",
      "        (dropout): Dropout(p=0.5, inplace=False)\n",
      "      )\n",
      "      (1): ConvNeXt1DBlock(\n",
      "        (dwconv): Conv1d(128, 128, kernel_size=(7,), stride=(1,), padding=(3,), groups=128)\n",
      "        (norm): LayerNorm((128,), eps=1e-06, elementwise_affine=True)\n",
      "        (pwconv1): Linear(in_features=128, out_features=512, bias=True)\n",
      "        (act): LeakyReLU(negative_slope=0.01)\n",
      "        (pwconv2): Linear(in_features=512, out_features=128, bias=True)\n",
      "        (dropout): Dropout(p=0.5, inplace=False)\n",
      "      )\n",
      "    )\n",
      "    (1): Sequential(\n",
      "      (0): BatchNorm1d(128, eps=1e-05, momentum=0.1, affine=True, track_running_stats=True)\n",
      "      (1): Conv1d(128, 256, kernel_size=(2,), stride=(2,))\n",
      "      (2): LeakyReLU(negative_slope=0.01)\n",
      "    )\n",
      "    (2): Sequential(\n",
      "      (0): ConvNeXt1DBlock(\n",
      "        (dwconv): Conv1d(256, 256, kernel_size=(7,), stride=(1,), padding=(3,), groups=256)\n",
      "        (norm): LayerNorm((256,), eps=1e-06, elementwise_affine=True)\n",
      "        (pwconv1): Linear(in_features=256, out_features=1024, bias=True)\n",
      "        (act): LeakyReLU(negative_slope=0.01)\n",
      "        (pwconv2): Linear(in_features=1024, out_features=256, bias=True)\n",
      "        (dropout): Dropout(p=0.5, inplace=False)\n",
      "      )\n",
      "      (1): ConvNeXt1DBlock(\n",
      "        (dwconv): Conv1d(256, 256, kernel_size=(7,), stride=(1,), padding=(3,), groups=256)\n",
      "        (norm): LayerNorm((256,), eps=1e-06, elementwise_affine=True)\n",
      "        (pwconv1): Linear(in_features=256, out_features=1024, bias=True)\n",
      "        (act): LeakyReLU(negative_slope=0.01)\n",
      "        (pwconv2): Linear(in_features=1024, out_features=256, bias=True)\n",
      "        (dropout): Dropout(p=0.5, inplace=False)\n",
      "      )\n",
      "    )\n",
      "    (3): Sequential(\n",
      "      (0): BatchNorm1d(256, eps=1e-05, momentum=0.1, affine=True, track_running_stats=True)\n",
      "      (1): Conv1d(256, 512, kernel_size=(2,), stride=(2,))\n",
      "      (2): LeakyReLU(negative_slope=0.01)\n",
      "    )\n",
      "    (4): Sequential(\n",
      "      (0): ConvNeXt1DBlock(\n",
      "        (dwconv): Conv1d(512, 512, kernel_size=(7,), stride=(1,), padding=(3,), groups=512)\n",
      "        (norm): LayerNorm((512,), eps=1e-06, elementwise_affine=True)\n",
      "        (pwconv1): Linear(in_features=512, out_features=2048, bias=True)\n",
      "        (act): LeakyReLU(negative_slope=0.01)\n",
      "        (pwconv2): Linear(in_features=2048, out_features=512, bias=True)\n",
      "        (dropout): Dropout(p=0.5, inplace=False)\n",
      "      )\n",
      "      (1): ConvNeXt1DBlock(\n",
      "        (dwconv): Conv1d(512, 512, kernel_size=(7,), stride=(1,), padding=(3,), groups=512)\n",
      "        (norm): LayerNorm((512,), eps=1e-06, elementwise_affine=True)\n",
      "        (pwconv1): Linear(in_features=512, out_features=2048, bias=True)\n",
      "        (act): LeakyReLU(negative_slope=0.01)\n",
      "        (pwconv2): Linear(in_features=2048, out_features=512, bias=True)\n",
      "        (dropout): Dropout(p=0.5, inplace=False)\n",
      "      )\n",
      "      (2): ConvNeXt1DBlock(\n",
      "        (dwconv): Conv1d(512, 512, kernel_size=(7,), stride=(1,), padding=(3,), groups=512)\n",
      "        (norm): LayerNorm((512,), eps=1e-06, elementwise_affine=True)\n",
      "        (pwconv1): Linear(in_features=512, out_features=2048, bias=True)\n",
      "        (act): LeakyReLU(negative_slope=0.01)\n",
      "        (pwconv2): Linear(in_features=2048, out_features=512, bias=True)\n",
      "        (dropout): Dropout(p=0.5, inplace=False)\n",
      "      )\n",
      "      (3): ConvNeXt1DBlock(\n",
      "        (dwconv): Conv1d(512, 512, kernel_size=(7,), stride=(1,), padding=(3,), groups=512)\n",
      "        (norm): LayerNorm((512,), eps=1e-06, elementwise_affine=True)\n",
      "        (pwconv1): Linear(in_features=512, out_features=2048, bias=True)\n",
      "        (act): LeakyReLU(negative_slope=0.01)\n",
      "        (pwconv2): Linear(in_features=2048, out_features=512, bias=True)\n",
      "        (dropout): Dropout(p=0.5, inplace=False)\n",
      "      )\n",
      "    )\n",
      "    (5): Sequential(\n",
      "      (0): BatchNorm1d(512, eps=1e-05, momentum=0.1, affine=True, track_running_stats=True)\n",
      "      (1): Conv1d(512, 1024, kernel_size=(2,), stride=(2,))\n",
      "      (2): LeakyReLU(negative_slope=0.01)\n",
      "    )\n",
      "    (6): Sequential(\n",
      "      (0): ConvNeXt1DBlock(\n",
      "        (dwconv): Conv1d(1024, 1024, kernel_size=(7,), stride=(1,), padding=(3,), groups=1024)\n",
      "        (norm): LayerNorm((1024,), eps=1e-06, elementwise_affine=True)\n",
      "        (pwconv1): Linear(in_features=1024, out_features=4096, bias=True)\n",
      "        (act): LeakyReLU(negative_slope=0.01)\n",
      "        (pwconv2): Linear(in_features=4096, out_features=1024, bias=True)\n",
      "        (dropout): Dropout(p=0.5, inplace=False)\n",
      "      )\n",
      "      (1): ConvNeXt1DBlock(\n",
      "        (dwconv): Conv1d(1024, 1024, kernel_size=(7,), stride=(1,), padding=(3,), groups=1024)\n",
      "        (norm): LayerNorm((1024,), eps=1e-06, elementwise_affine=True)\n",
      "        (pwconv1): Linear(in_features=1024, out_features=4096, bias=True)\n",
      "        (act): LeakyReLU(negative_slope=0.01)\n",
      "        (pwconv2): Linear(in_features=4096, out_features=1024, bias=True)\n",
      "        (dropout): Dropout(p=0.5, inplace=False)\n",
      "      )\n",
      "    )\n",
      "  )\n",
      "  (norm_out): LayerNorm((1024,), eps=1e-06, elementwise_affine=True)\n",
      "  (avgpool): AdaptiveAvgPool1d(output_size=1)\n",
      "  (head): Linear(in_features=1024, out_features=3, bias=True)\n",
      ")>\n"
     ]
    },
    {
     "data": {
      "text/plain": [
       "EEGConvNeXt_1D(\n",
       "  (stem): Sequential(\n",
       "    (0): Conv1d(19, 128, kernel_size=(4,), stride=(4,))\n",
       "    (1): BatchNorm1d(128, eps=1e-05, momentum=0.1, affine=True, track_running_stats=True)\n",
       "    (2): LeakyReLU(negative_slope=0.01)\n",
       "  )\n",
       "  (stages): ModuleList(\n",
       "    (0): Sequential(\n",
       "      (0): ConvNeXt1DBlock(\n",
       "        (dwconv): Conv1d(128, 128, kernel_size=(7,), stride=(1,), padding=(3,), groups=128)\n",
       "        (norm): LayerNorm((128,), eps=1e-06, elementwise_affine=True)\n",
       "        (pwconv1): Linear(in_features=128, out_features=512, bias=True)\n",
       "        (act): LeakyReLU(negative_slope=0.01)\n",
       "        (pwconv2): Linear(in_features=512, out_features=128, bias=True)\n",
       "        (dropout): Dropout(p=0.5, inplace=False)\n",
       "      )\n",
       "      (1): ConvNeXt1DBlock(\n",
       "        (dwconv): Conv1d(128, 128, kernel_size=(7,), stride=(1,), padding=(3,), groups=128)\n",
       "        (norm): LayerNorm((128,), eps=1e-06, elementwise_affine=True)\n",
       "        (pwconv1): Linear(in_features=128, out_features=512, bias=True)\n",
       "        (act): LeakyReLU(negative_slope=0.01)\n",
       "        (pwconv2): Linear(in_features=512, out_features=128, bias=True)\n",
       "        (dropout): Dropout(p=0.5, inplace=False)\n",
       "      )\n",
       "    )\n",
       "    (1): Sequential(\n",
       "      (0): BatchNorm1d(128, eps=1e-05, momentum=0.1, affine=True, track_running_stats=True)\n",
       "      (1): Conv1d(128, 256, kernel_size=(2,), stride=(2,))\n",
       "      (2): LeakyReLU(negative_slope=0.01)\n",
       "    )\n",
       "    (2): Sequential(\n",
       "      (0): ConvNeXt1DBlock(\n",
       "        (dwconv): Conv1d(256, 256, kernel_size=(7,), stride=(1,), padding=(3,), groups=256)\n",
       "        (norm): LayerNorm((256,), eps=1e-06, elementwise_affine=True)\n",
       "        (pwconv1): Linear(in_features=256, out_features=1024, bias=True)\n",
       "        (act): LeakyReLU(negative_slope=0.01)\n",
       "        (pwconv2): Linear(in_features=1024, out_features=256, bias=True)\n",
       "        (dropout): Dropout(p=0.5, inplace=False)\n",
       "      )\n",
       "      (1): ConvNeXt1DBlock(\n",
       "        (dwconv): Conv1d(256, 256, kernel_size=(7,), stride=(1,), padding=(3,), groups=256)\n",
       "        (norm): LayerNorm((256,), eps=1e-06, elementwise_affine=True)\n",
       "        (pwconv1): Linear(in_features=256, out_features=1024, bias=True)\n",
       "        (act): LeakyReLU(negative_slope=0.01)\n",
       "        (pwconv2): Linear(in_features=1024, out_features=256, bias=True)\n",
       "        (dropout): Dropout(p=0.5, inplace=False)\n",
       "      )\n",
       "    )\n",
       "    (3): Sequential(\n",
       "      (0): BatchNorm1d(256, eps=1e-05, momentum=0.1, affine=True, track_running_stats=True)\n",
       "      (1): Conv1d(256, 512, kernel_size=(2,), stride=(2,))\n",
       "      (2): LeakyReLU(negative_slope=0.01)\n",
       "    )\n",
       "    (4): Sequential(\n",
       "      (0): ConvNeXt1DBlock(\n",
       "        (dwconv): Conv1d(512, 512, kernel_size=(7,), stride=(1,), padding=(3,), groups=512)\n",
       "        (norm): LayerNorm((512,), eps=1e-06, elementwise_affine=True)\n",
       "        (pwconv1): Linear(in_features=512, out_features=2048, bias=True)\n",
       "        (act): LeakyReLU(negative_slope=0.01)\n",
       "        (pwconv2): Linear(in_features=2048, out_features=512, bias=True)\n",
       "        (dropout): Dropout(p=0.5, inplace=False)\n",
       "      )\n",
       "      (1): ConvNeXt1DBlock(\n",
       "        (dwconv): Conv1d(512, 512, kernel_size=(7,), stride=(1,), padding=(3,), groups=512)\n",
       "        (norm): LayerNorm((512,), eps=1e-06, elementwise_affine=True)\n",
       "        (pwconv1): Linear(in_features=512, out_features=2048, bias=True)\n",
       "        (act): LeakyReLU(negative_slope=0.01)\n",
       "        (pwconv2): Linear(in_features=2048, out_features=512, bias=True)\n",
       "        (dropout): Dropout(p=0.5, inplace=False)\n",
       "      )\n",
       "      (2): ConvNeXt1DBlock(\n",
       "        (dwconv): Conv1d(512, 512, kernel_size=(7,), stride=(1,), padding=(3,), groups=512)\n",
       "        (norm): LayerNorm((512,), eps=1e-06, elementwise_affine=True)\n",
       "        (pwconv1): Linear(in_features=512, out_features=2048, bias=True)\n",
       "        (act): LeakyReLU(negative_slope=0.01)\n",
       "        (pwconv2): Linear(in_features=2048, out_features=512, bias=True)\n",
       "        (dropout): Dropout(p=0.5, inplace=False)\n",
       "      )\n",
       "      (3): ConvNeXt1DBlock(\n",
       "        (dwconv): Conv1d(512, 512, kernel_size=(7,), stride=(1,), padding=(3,), groups=512)\n",
       "        (norm): LayerNorm((512,), eps=1e-06, elementwise_affine=True)\n",
       "        (pwconv1): Linear(in_features=512, out_features=2048, bias=True)\n",
       "        (act): LeakyReLU(negative_slope=0.01)\n",
       "        (pwconv2): Linear(in_features=2048, out_features=512, bias=True)\n",
       "        (dropout): Dropout(p=0.5, inplace=False)\n",
       "      )\n",
       "    )\n",
       "    (5): Sequential(\n",
       "      (0): BatchNorm1d(512, eps=1e-05, momentum=0.1, affine=True, track_running_stats=True)\n",
       "      (1): Conv1d(512, 1024, kernel_size=(2,), stride=(2,))\n",
       "      (2): LeakyReLU(negative_slope=0.01)\n",
       "    )\n",
       "    (6): Sequential(\n",
       "      (0): ConvNeXt1DBlock(\n",
       "        (dwconv): Conv1d(1024, 1024, kernel_size=(7,), stride=(1,), padding=(3,), groups=1024)\n",
       "        (norm): LayerNorm((1024,), eps=1e-06, elementwise_affine=True)\n",
       "        (pwconv1): Linear(in_features=1024, out_features=4096, bias=True)\n",
       "        (act): LeakyReLU(negative_slope=0.01)\n",
       "        (pwconv2): Linear(in_features=4096, out_features=1024, bias=True)\n",
       "        (dropout): Dropout(p=0.5, inplace=False)\n",
       "      )\n",
       "      (1): ConvNeXt1DBlock(\n",
       "        (dwconv): Conv1d(1024, 1024, kernel_size=(7,), stride=(1,), padding=(3,), groups=1024)\n",
       "        (norm): LayerNorm((1024,), eps=1e-06, elementwise_affine=True)\n",
       "        (pwconv1): Linear(in_features=1024, out_features=4096, bias=True)\n",
       "        (act): LeakyReLU(negative_slope=0.01)\n",
       "        (pwconv2): Linear(in_features=4096, out_features=1024, bias=True)\n",
       "        (dropout): Dropout(p=0.5, inplace=False)\n",
       "      )\n",
       "    )\n",
       "  )\n",
       "  (norm_out): LayerNorm((1024,), eps=1e-06, elementwise_affine=True)\n",
       "  (avgpool): AdaptiveAvgPool1d(output_size=1)\n",
       "  (head): Linear(in_features=1024, out_features=3, bias=True)\n",
       ")"
      ]
     },
     "execution_count": 19,
     "metadata": {},
     "output_type": "execute_result"
    }
   ],
   "source": [
    "model2 = EEGConvNeXt_1D(n_channels=actual_n_channels,\n",
    "                                n_timesteps=actual_n_timesteps,\n",
    "                                depths = [2, 2, 4, 2],  # Increase depth\n",
    "                                dims = [128, 256, 512, 1024],  # Increase dimensions\n",
    "                                num_classes=num_classes_actual).to(device)\n",
    "print(model2.parameters)\n",
    "\n",
    "model2.apply(init_weights)\n"
   ]
  },
  {
   "cell_type": "code",
   "execution_count": 20,
   "metadata": {
    "id": "lWpo_1wpuS7W"
   },
   "outputs": [],
   "source": [
    "num_epochs = 10"
   ]
  },
  {
   "cell_type": "code",
   "execution_count": 21,
   "metadata": {
    "colab": {
     "base_uri": "https://localhost:8080/"
    },
    "id": "I9meSwbmK0j3",
    "outputId": "5c2292c9-8850-4373-c3ef-811a8491623e"
   },
   "outputs": [
    {
     "name": "stdout",
     "output_type": "stream",
     "text": [
      "\n",
      "Initializing Model 2: EEGConvNeXt_1D...\n",
      "\n",
      "--- Training EEGConvNeXt_1D ---\n",
      "Epoch [1/10], Train Loss: 1.1803, Train Acc: 40.79%, Val Loss: 1.0969, Val Acc: 40.48%\n",
      "Epoch [2/10], Train Loss: 1.0658, Train Acc: 41.33%, Val Loss: 1.2237, Val Acc: 24.29%\n",
      "Epoch [3/10], Train Loss: 1.0576, Train Acc: 41.38%, Val Loss: 1.1267, Val Acc: 40.48%\n",
      "Epoch [4/10], Train Loss: 1.0581, Train Acc: 40.91%, Val Loss: 1.2202, Val Acc: 40.48%\n",
      "Epoch [5/10], Train Loss: 1.0578, Train Acc: 41.62%, Val Loss: 1.2572, Val Acc: 40.48%\n",
      "Epoch [6/10], Train Loss: 1.0566, Train Acc: 40.33%, Val Loss: 1.1874, Val Acc: 24.29%\n",
      "Epoch [7/10], Train Loss: 1.0558, Train Acc: 41.75%, Val Loss: 1.2122, Val Acc: 40.48%\n",
      "Epoch [8/10], Train Loss: 1.0059, Train Acc: 49.29%, Val Loss: 1.5787, Val Acc: 35.01%\n",
      "Epoch [9/10], Train Loss: 0.8781, Train Acc: 59.78%, Val Loss: 1.5113, Val Acc: 35.23%\n",
      "Epoch [10/10], Train Loss: 0.8211, Train Acc: 62.57%, Val Loss: 1.8892, Val Acc: 29.99%\n",
      "Finished Training EEGConvNeXt_1D. Total time: 71.14 seconds\n"
     ]
    }
   ],
   "source": [
    "\n",
    "# --- Train Model 2: EEGConvNeXt_1D ---\n",
    "if len(train_loader) > 0:\n",
    "    try:\n",
    "        print(\"\\nInitializing Model 2: EEGConvNeXt_1D...\")\n",
    "        model2 = EEGConvNeXt_1D(n_channels=actual_n_channels,\n",
    "                                n_timesteps=actual_n_timesteps,\n",
    "                                num_classes=num_classes_actual).to(device)\n",
    "        # criterion2 = nn.CrossEntropyLoss()\n",
    "        # Set class weights (adjust these based on your dataset)\n",
    "        class_weights = torch.tensor([1.0, 1.0, 1.0]).cuda()  # Example of class weights for imbalanced data\n",
    "\n",
    "        # Define criterion with class weights\n",
    "        criterion2 = nn.CrossEntropyLoss(weight=class_weights)\n",
    "\n",
    "\n",
    "        optimizer2 = optim.Adam(model2.parameters(), lr=learning_rate)\n",
    "        train_model(model2, train_loader, val_loader, criterion2, optimizer2, num_epochs, device)\n",
    "        # Add evaluation calls here if needed\n",
    "    except NameError:\n",
    "        print(\"Error: EEGConvNeXt_1D or PermuteLayerNorm class not defined.\")\n",
    "    except Exception as e:\n",
    "        print(f\"An error occurred during Model 2 training: {e}\")\n",
    "else:\n",
    "    print(\"Skipping Model 2 training: Train loader is empty.\")\n"
   ]
  },
  {
   "cell_type": "code",
   "execution_count": 22,
   "metadata": {
    "id": "MvLPxOskL4L-"
   },
   "outputs": [],
   "source": [
    "\n",
    "from sklearn.metrics import classification_report, accuracy_score, roc_curve, auc\n",
    "from sklearn.preprocessing import label_binarize\n",
    "import pandas as pd\n",
    "import matplotlib.pyplot as plt\n",
    "import numpy as np\n",
    "import torch\n",
    "\n",
    "def evaluate_and_compare_models(model, name, data_loader, device, num_classes):\n",
    "    \"\"\"\n",
    "    Evaluate multiple trained models on the same dataset and plot ROC curves.\n",
    "\n",
    "    Args:\n",
    "        models (list): List of trained PyTorch models.\n",
    "        model_names (list): List of model names for labeling.\n",
    "        data_loader (DataLoader): DataLoader for validation or test set.\n",
    "        device (torch.device): Device for model execution.\n",
    "        num_classes (int): Total number of output classes.\n",
    "\n",
    "    Returns:\n",
    "        reports (dict): A dictionary of classification report DataFrames per model.\n",
    "    \"\"\"\n",
    "    reports = {}\n",
    "    plt.figure(figsize=(8, 6))\n",
    "\n",
    "\n",
    "\n",
    "\n",
    "    model.eval()\n",
    "    y_true, y_pred, y_probs = [], [], []\n",
    "\n",
    "    with torch.no_grad():\n",
    "        for X_batch, y_batch in data_loader:\n",
    "            X_batch = X_batch.to(device)\n",
    "            outputs = model(X_batch)\n",
    "            probs = torch.softmax(outputs, dim=1).cpu().numpy()\n",
    "            y_probs.extend(probs)\n",
    "            y_true.extend(y_batch.numpy())\n",
    "            _, predicted = torch.max(outputs, 1)\n",
    "            y_pred.extend(predicted.cpu().numpy())\n",
    "\n",
    "    # Print Accuracy\n",
    "    acc = accuracy_score(y_true, y_pred)\n",
    "    print(f\"\\n=== {name} ===\")\n",
    "    print(f\"Accuracy: {acc*100:.2f}%\")\n",
    "\n",
    "    # Print classification report\n",
    "    report = classification_report(y_true, y_pred, output_dict=True, zero_division=0)\n",
    "    report_df = pd.DataFrame(report).transpose()\n",
    "    display(report_df[[\"precision\", \"recall\", \"f1-score\", \"support\"]])\n",
    "    reports[name] = report_df\n",
    "\n",
    "    # Compute ROC Curve (Micro-average for multiclass)\n",
    "    y_true_bin = label_binarize(y_true, classes=list(range(num_classes)))\n",
    "    y_probs = np.array(y_probs)\n",
    "\n",
    "    fpr, tpr, _ = roc_curve(y_true_bin.ravel(), y_probs.ravel())\n",
    "    roc_auc = auc(fpr, tpr)\n",
    "\n",
    "    plt.plot(fpr, tpr, label=f\"{name} (AUC = {roc_auc:.2f})\")\n",
    "\n",
    "    # ROC Plot settings\n",
    "    plt.plot([0, 1], [0, 1], 'k--', label='Random Classifier')\n",
    "    plt.title(\"Micro-Averaged ROC Curves\")\n",
    "    plt.xlabel(\"False Positive Rate\")\n",
    "    plt.ylabel(\"True Positive Rate\")\n",
    "    plt.legend(loc=\"lower right\")\n",
    "    plt.grid(True)\n",
    "    plt.tight_layout()\n",
    "    plt.show()\n",
    "\n",
    "    return reports\n"
   ]
  },
  {
   "cell_type": "code",
   "execution_count": 23,
   "metadata": {
    "colab": {
     "base_uri": "https://localhost:8080/",
     "height": 881
    },
    "id": "y8ZUCqXmK0j4",
    "outputId": "09fb48d0-f16a-4a0d-aa39-9ae04dd6e318"
   },
   "outputs": [
    {
     "name": "stdout",
     "output_type": "stream",
     "text": [
      "\n",
      "=== model 2 ===\n",
      "Accuracy: 34.08%\n"
     ]
    },
    {
     "data": {
      "text/html": [
       "<div>\n",
       "<style scoped>\n",
       "    .dataframe tbody tr th:only-of-type {\n",
       "        vertical-align: middle;\n",
       "    }\n",
       "\n",
       "    .dataframe tbody tr th {\n",
       "        vertical-align: top;\n",
       "    }\n",
       "\n",
       "    .dataframe thead th {\n",
       "        text-align: right;\n",
       "    }\n",
       "</style>\n",
       "<table border=\"1\" class=\"dataframe\">\n",
       "  <thead>\n",
       "    <tr style=\"text-align: right;\">\n",
       "      <th></th>\n",
       "      <th>precision</th>\n",
       "      <th>recall</th>\n",
       "      <th>f1-score</th>\n",
       "      <th>support</th>\n",
       "    </tr>\n",
       "  </thead>\n",
       "  <tbody>\n",
       "    <tr>\n",
       "      <th>0</th>\n",
       "      <td>0.500000</td>\n",
       "      <td>0.141732</td>\n",
       "      <td>0.220859</td>\n",
       "      <td>381.000000</td>\n",
       "    </tr>\n",
       "    <tr>\n",
       "      <th>1</th>\n",
       "      <td>0.318987</td>\n",
       "      <td>0.965517</td>\n",
       "      <td>0.479543</td>\n",
       "      <td>261.000000</td>\n",
       "    </tr>\n",
       "    <tr>\n",
       "      <th>2</th>\n",
       "      <td>0.000000</td>\n",
       "      <td>0.000000</td>\n",
       "      <td>0.000000</td>\n",
       "      <td>256.000000</td>\n",
       "    </tr>\n",
       "    <tr>\n",
       "      <th>accuracy</th>\n",
       "      <td>0.340757</td>\n",
       "      <td>0.340757</td>\n",
       "      <td>0.340757</td>\n",
       "      <td>0.340757</td>\n",
       "    </tr>\n",
       "    <tr>\n",
       "      <th>macro avg</th>\n",
       "      <td>0.272996</td>\n",
       "      <td>0.369083</td>\n",
       "      <td>0.233467</td>\n",
       "      <td>898.000000</td>\n",
       "    </tr>\n",
       "    <tr>\n",
       "      <th>weighted avg</th>\n",
       "      <td>0.304850</td>\n",
       "      <td>0.340757</td>\n",
       "      <td>0.233082</td>\n",
       "      <td>898.000000</td>\n",
       "    </tr>\n",
       "  </tbody>\n",
       "</table>\n",
       "</div>"
      ],
      "text/plain": [
       "              precision    recall  f1-score     support\n",
       "0              0.500000  0.141732  0.220859  381.000000\n",
       "1              0.318987  0.965517  0.479543  261.000000\n",
       "2              0.000000  0.000000  0.000000  256.000000\n",
       "accuracy       0.340757  0.340757  0.340757    0.340757\n",
       "macro avg      0.272996  0.369083  0.233467  898.000000\n",
       "weighted avg   0.304850  0.340757  0.233082  898.000000"
      ]
     },
     "metadata": {},
     "output_type": "display_data"
    },
    {
     "data": {
      "image/png": "[encoded data removed]",
      "text/plain": [
       "<Figure size 800x600 with 1 Axes>"
      ]
     },
     "metadata": {},
     "output_type": "display_data"
    }
   ],
   "source": [
    "data_loader_to_use =  test_loader\n",
    "if data_loader_to_use is None:\n",
    "    raise ValueError(\"No data available for evaluation.\")\n",
    "\n",
    "all_reports = evaluate_and_compare_models(\n",
    "    model=model2,\n",
    "    name=\"model 2\",\n",
    "    data_loader=data_loader_to_use,\n",
    "    device=device,\n",
    "    num_classes=3\n",
    ")\n"
   ]
  },
  {
   "cell_type": "code",
   "execution_count": 24,
   "metadata": {
    "id": "thItOU4DS_BV"
   },
   "outputs": [],
   "source": [
    "import optuna\n"
   ]
  },
  {
   "cell_type": "code",
   "execution_count": 25,
   "metadata": {
    "id": "AS6gQfqbTAEL"
   },
   "outputs": [],
   "source": [
    "def objective(trial):\n",
    "    # ─── Hyperparameter suggestions ───\n",
    "    lr           = trial.suggest_loguniform(\"learning_rate\",   1e-5, 1e-2)\n",
    "    weight_decay = trial.suggest_loguniform(\"weight_decay\",   1e-6, 1e-2)\n",
    "    dropout      = trial.suggest_float(\"dropout_rate\",        0.2, 0.7)\n",
    "    base_dim     = trial.suggest_categorical(\"base_dim\",   [64, 96, 128])\n",
    "    n_blocks     = trial.suggest_int(\"n_blocks\",             1, 3)\n",
    "    batch_size   = trial.suggest_categorical(\"batch_size\", [8, 16, 32])\n",
    "\n",
    "    # ─── Build model with sampled capacity + dropout ───\n",
    "    model = EEGConvNeXt_1D(\n",
    "        n_channels=actual_n_channels,\n",
    "        n_timesteps=actual_n_timesteps,\n",
    "        num_classes=num_classes_actual,\n",
    "        depths=[n_blocks, n_blocks, n_blocks*2, n_blocks],\n",
    "        dims=[base_dim, base_dim*2, base_dim*4, base_dim*8],\n",
    "        dropout_rate=dropout\n",
    "    ).to(device)\n",
    "\n",
    "    model.apply(init_weights)\n",
    "\n",
    "\n",
    "    # ─── Create loaders with sampled batch size ───\n",
    "    train_loader = DataLoader(\n",
    "        TensorDataset(X_train_tensor, y_train_tensor),\n",
    "        batch_size=batch_size, shuffle=True\n",
    "    )\n",
    "    val_loader = DataLoader(\n",
    "        TensorDataset(X_val_tensor, y_val_tensor),\n",
    "        batch_size=batch_size, shuffle=False\n",
    "    )\n",
    "\n",
    "    # ─── Optimizer + weight decay ───\n",
    "    optimizer = optim.Adam(\n",
    "        model.parameters(),\n",
    "        lr=lr,\n",
    "        weight_decay=weight_decay\n",
    "    )\n",
    "    criterion = nn.CrossEntropyLoss(weight=class_weights.to(device))\n",
    "\n",
    "    # ─── Quick training ───\n",
    "    train_model(model, train_loader, val_loader, criterion, optimizer,\n",
    "                num_epochs=20, device=device)\n",
    "\n",
    "    # ─── Validation accuracy ───\n",
    "    model.eval()\n",
    "    correct = total = 0\n",
    "    with torch.no_grad():\n",
    "        for Xv, yv in val_loader:\n",
    "            Xv, yv = Xv.to(device), yv.to(device)\n",
    "            preds = model(Xv).argmax(dim=1)\n",
    "            correct += (preds == yv).sum().item()\n",
    "            total   += yv.size(0)\n",
    "    return correct / total\n"
   ]
  },
  {
   "cell_type": "code",
   "execution_count": 26,
   "metadata": {
    "colab": {
     "base_uri": "https://localhost:8080/"
    },
    "id": "GhpzgRCFU0cf",
    "outputId": "aeaee031-331e-4a6e-d673-e74e0acec0ee"
   },
   "outputs": [
    {
     "name": "stderr",
     "output_type": "stream",
     "text": [
      "[I 2025-05-07 01:46:58,789] A new study created in memory with name: eeg_hpo\n",
      "/tmp/ipykernel_5640/3435734996.py:3: FutureWarning: suggest_loguniform has been deprecated in v3.0.0. This feature will be removed in v6.0.0. See https://github.com/optuna/optuna/releases/tag/v3.0.0. Use suggest_float(..., log=True) instead.\n",
      "  lr           = trial.suggest_loguniform(\"learning_rate\",   1e-5, 1e-2)\n",
      "/tmp/ipykernel_5640/3435734996.py:4: FutureWarning: suggest_loguniform has been deprecated in v3.0.0. This feature will be removed in v6.0.0. See https://github.com/optuna/optuna/releases/tag/v3.0.0. Use suggest_float(..., log=True) instead.\n",
      "  weight_decay = trial.suggest_loguniform(\"weight_decay\",   1e-6, 1e-2)\n"
     ]
    },
    {
     "name": "stdout",
     "output_type": "stream",
     "text": [
      "\n",
      "--- Training EEGConvNeXt_1D ---\n",
      "Epoch [1/20], Train Loss: 0.8256, Train Acc: 66.64%, Val Loss: 2.9097, Val Acc: 42.99%\n",
      "Epoch [2/20], Train Loss: 0.5246, Train Acc: 76.13%, Val Loss: 6.7100, Val Acc: 39.79%\n",
      "Epoch [3/20], Train Loss: 0.4306, Train Acc: 80.09%, Val Loss: 4.4622, Val Acc: 37.63%\n",
      "Epoch [4/20], Train Loss: 0.3818, Train Acc: 82.16%, Val Loss: 4.5801, Val Acc: 40.14%\n",
      "Epoch [5/20], Train Loss: 0.3370, Train Acc: 84.44%, Val Loss: 6.6194, Val Acc: 32.04%\n",
      "Epoch [6/20], Train Loss: 0.3087, Train Acc: 86.48%, Val Loss: 5.7362, Val Acc: 35.01%\n",
      "Epoch [7/20], Train Loss: 0.2655, Train Acc: 88.95%, Val Loss: 5.2980, Val Acc: 39.68%\n",
      "Epoch [8/20], Train Loss: 0.2363, Train Acc: 90.63%, Val Loss: 4.5063, Val Acc: 36.83%\n",
      "Epoch [9/20], Train Loss: 0.1814, Train Acc: 93.31%, Val Loss: 6.7575, Val Acc: 38.77%\n",
      "Epoch [10/20], Train Loss: 0.1417, Train Acc: 94.89%, Val Loss: 6.5243, Val Acc: 35.80%\n",
      "Epoch [11/20], Train Loss: 0.1247, Train Acc: 96.02%, Val Loss: 13.4338, Val Acc: 28.73%\n",
      "Epoch [12/20], Train Loss: 0.0981, Train Acc: 97.22%, Val Loss: 11.1074, Val Acc: 36.94%\n",
      "Epoch [13/20], Train Loss: 0.0834, Train Acc: 97.47%, Val Loss: 8.3597, Val Acc: 38.43%\n",
      "Epoch [14/20], Train Loss: 0.0931, Train Acc: 97.44%, Val Loss: 8.5714, Val Acc: 40.59%\n",
      "Epoch [15/20], Train Loss: 0.0799, Train Acc: 97.98%, Val Loss: 10.2744, Val Acc: 36.49%\n",
      "Epoch [16/20], Train Loss: 0.0799, Train Acc: 97.83%, Val Loss: 13.1284, Val Acc: 29.99%\n",
      "Epoch [17/20], Train Loss: 0.0658, Train Acc: 98.29%, Val Loss: 12.2654, Val Acc: 37.06%\n",
      "Epoch [18/20], Train Loss: 0.0800, Train Acc: 97.90%, Val Loss: 11.3187, Val Acc: 38.08%\n",
      "Epoch [19/20], Train Loss: 0.0627, Train Acc: 98.46%, Val Loss: 11.7086, Val Acc: 35.58%\n",
      "Epoch [20/20], Train Loss: 0.0763, Train Acc: 98.15%, Val Loss: 11.6244, Val Acc: 35.35%\n",
      "Finished Training EEGConvNeXt_1D. Total time: 154.18 seconds\n"
     ]
    },
    {
     "name": "stderr",
     "output_type": "stream",
     "text": [
      "[I 2025-05-07 01:49:33,356] Trial 0 finished with value: 0.35347776510832385 and parameters: {'learning_rate': 0.0002012263266299448, 'weight_decay': 1.2404139999790797e-06, 'dropout_rate': 0.21398473384511313, 'base_dim': 128, 'n_blocks': 1, 'batch_size': 16}. Best is trial 0 with value: 0.35347776510832385.\n"
     ]
    },
    {
     "name": "stdout",
     "output_type": "stream",
     "text": [
      "\n",
      "--- Training EEGConvNeXt_1D ---\n",
      "Epoch [1/20], Train Loss: 0.9953, Train Acc: 53.08%, Val Loss: 2.3312, Val Acc: 33.30%\n",
      "Epoch [2/20], Train Loss: 0.7481, Train Acc: 66.15%, Val Loss: 3.6741, Val Acc: 34.66%\n",
      "Epoch [3/20], Train Loss: 0.6009, Train Acc: 72.73%, Val Loss: 4.3085, Val Acc: 33.64%\n",
      "Epoch [4/20], Train Loss: 0.5386, Train Acc: 75.65%, Val Loss: 3.7449, Val Acc: 39.45%\n",
      "Epoch [5/20], Train Loss: 0.5015, Train Acc: 76.56%, Val Loss: 3.7527, Val Acc: 38.65%\n",
      "Epoch [6/20], Train Loss: 0.4660, Train Acc: 78.53%, Val Loss: 5.0588, Val Acc: 38.88%\n",
      "Epoch [7/20], Train Loss: 0.4437, Train Acc: 79.69%, Val Loss: 4.3349, Val Acc: 41.39%\n",
      "Epoch [8/20], Train Loss: 0.4300, Train Acc: 80.34%, Val Loss: 5.4191, Val Acc: 34.78%\n",
      "Epoch [9/20], Train Loss: 0.3924, Train Acc: 81.25%, Val Loss: 5.7796, Val Acc: 35.58%\n",
      "Epoch [10/20], Train Loss: 0.3783, Train Acc: 82.21%, Val Loss: 5.8315, Val Acc: 37.74%\n",
      "Epoch [11/20], Train Loss: 0.3636, Train Acc: 82.55%, Val Loss: 5.6606, Val Acc: 40.25%\n",
      "Epoch [12/20], Train Loss: 0.3456, Train Acc: 84.00%, Val Loss: 6.2003, Val Acc: 37.97%\n",
      "Epoch [13/20], Train Loss: 0.3408, Train Acc: 83.89%, Val Loss: 5.2775, Val Acc: 39.91%\n",
      "Epoch [14/20], Train Loss: 0.3308, Train Acc: 84.29%, Val Loss: 5.7411, Val Acc: 36.37%\n",
      "Epoch [15/20], Train Loss: 0.3298, Train Acc: 85.00%, Val Loss: 6.7017, Val Acc: 38.08%\n",
      "Epoch [16/20], Train Loss: 0.3194, Train Acc: 85.21%, Val Loss: 6.6776, Val Acc: 34.21%\n",
      "Epoch [17/20], Train Loss: 0.2987, Train Acc: 86.20%, Val Loss: 6.8746, Val Acc: 37.63%\n",
      "Epoch [18/20], Train Loss: 0.2981, Train Acc: 87.67%, Val Loss: 6.8827, Val Acc: 38.08%\n",
      "Epoch [19/20], Train Loss: 0.2852, Train Acc: 87.80%, Val Loss: 6.5516, Val Acc: 36.26%\n",
      "Epoch [20/20], Train Loss: 0.2685, Train Acc: 88.94%, Val Loss: 7.1028, Val Acc: 35.92%\n",
      "Finished Training EEGConvNeXt_1D. Total time: 402.10 seconds\n"
     ]
    },
    {
     "name": "stderr",
     "output_type": "stream",
     "text": [
      "[I 2025-05-07 01:56:16,059] Trial 1 finished with value: 0.35917901938426455 and parameters: {'learning_rate': 0.00011716874858621579, 'weight_decay': 5.202023439678176e-06, 'dropout_rate': 0.6205557921989057, 'base_dim': 96, 'n_blocks': 2, 'batch_size': 8}. Best is trial 1 with value: 0.35917901938426455.\n"
     ]
    },
    {
     "name": "stdout",
     "output_type": "stream",
     "text": [
      "\n",
      "--- Training EEGConvNeXt_1D ---\n",
      "Epoch [1/20], Train Loss: 0.8276, Train Acc: 63.16%, Val Loss: 3.8545, Val Acc: 41.16%\n",
      "Epoch [2/20], Train Loss: 0.5413, Train Acc: 75.54%, Val Loss: 5.5446, Val Acc: 38.77%\n",
      "Epoch [3/20], Train Loss: 0.4600, Train Acc: 78.67%, Val Loss: 3.2214, Val Acc: 33.87%\n",
      "Epoch [4/20], Train Loss: 0.4080, Train Acc: 80.91%, Val Loss: 3.4504, Val Acc: 37.17%\n",
      "Epoch [5/20], Train Loss: 0.3664, Train Acc: 82.78%, Val Loss: 4.3718, Val Acc: 37.51%\n",
      "Epoch [6/20], Train Loss: 0.3372, Train Acc: 84.22%, Val Loss: 5.3788, Val Acc: 31.24%\n",
      "Epoch [7/20], Train Loss: 0.2943, Train Acc: 86.71%, Val Loss: 4.5609, Val Acc: 34.55%\n",
      "Epoch [8/20], Train Loss: 0.2697, Train Acc: 88.64%, Val Loss: 3.7885, Val Acc: 37.86%\n",
      "Epoch [9/20], Train Loss: 0.2185, Train Acc: 91.11%, Val Loss: 4.0623, Val Acc: 36.60%\n",
      "Epoch [10/20], Train Loss: 0.1766, Train Acc: 93.32%, Val Loss: 4.7165, Val Acc: 36.94%\n",
      "Epoch [11/20], Train Loss: 0.1422, Train Acc: 94.91%, Val Loss: 4.7098, Val Acc: 38.20%\n",
      "Epoch [12/20], Train Loss: 0.1110, Train Acc: 95.99%, Val Loss: 5.8380, Val Acc: 38.88%\n",
      "Epoch [13/20], Train Loss: 0.0876, Train Acc: 96.87%, Val Loss: 5.9294, Val Acc: 33.52%\n",
      "Epoch [14/20], Train Loss: 0.0798, Train Acc: 97.27%, Val Loss: 5.9267, Val Acc: 36.60%\n",
      "Epoch [15/20], Train Loss: 0.0765, Train Acc: 97.47%, Val Loss: 5.7140, Val Acc: 39.68%\n",
      "Epoch [16/20], Train Loss: 0.0662, Train Acc: 97.89%, Val Loss: 6.3860, Val Acc: 35.69%\n",
      "Epoch [17/20], Train Loss: 0.0659, Train Acc: 97.84%, Val Loss: 6.5710, Val Acc: 37.97%\n",
      "Epoch [18/20], Train Loss: 0.0717, Train Acc: 97.75%, Val Loss: 6.1215, Val Acc: 37.17%\n",
      "Epoch [19/20], Train Loss: 0.0528, Train Acc: 98.33%, Val Loss: 6.0339, Val Acc: 42.87%\n",
      "Epoch [20/20], Train Loss: 0.0573, Train Acc: 98.15%, Val Loss: 6.8657, Val Acc: 39.34%\n",
      "Finished Training EEGConvNeXt_1D. Total time: 209.55 seconds\n"
     ]
    },
    {
     "name": "stderr",
     "output_type": "stream",
     "text": [
      "[I 2025-05-07 01:59:46,027] Trial 2 finished with value: 0.3933865450399088 and parameters: {'learning_rate': 0.00019450117968237345, 'weight_decay': 0.00031663302014960413, 'dropout_rate': 0.26712996197780897, 'base_dim': 96, 'n_blocks': 2, 'batch_size': 16}. Best is trial 2 with value: 0.3933865450399088.\n"
     ]
    },
    {
     "name": "stdout",
     "output_type": "stream",
     "text": [
      "\n",
      "--- Training EEGConvNeXt_1D ---\n",
      "Epoch [1/20], Train Loss: 0.8463, Train Acc: 62.01%, Val Loss: 1.5620, Val Acc: 43.90%\n",
      "Epoch [2/20], Train Loss: 0.6794, Train Acc: 69.36%, Val Loss: 1.8791, Val Acc: 38.43%\n",
      "Epoch [3/20], Train Loss: 0.6402, Train Acc: 70.68%, Val Loss: 1.8964, Val Acc: 39.57%\n",
      "Epoch [4/20], Train Loss: 0.6318, Train Acc: 70.43%, Val Loss: 2.2992, Val Acc: 36.72%\n",
      "Epoch [5/20], Train Loss: 0.6343, Train Acc: 70.50%, Val Loss: 1.9845, Val Acc: 36.03%\n",
      "Epoch [6/20], Train Loss: 0.6340, Train Acc: 70.78%, Val Loss: 2.8393, Val Acc: 28.39%\n",
      "Epoch [7/20], Train Loss: 0.6436, Train Acc: 71.15%, Val Loss: 2.0881, Val Acc: 34.09%\n",
      "Epoch [8/20], Train Loss: 0.6489, Train Acc: 70.32%, Val Loss: 2.0664, Val Acc: 40.59%\n",
      "Epoch [9/20], Train Loss: 0.6522, Train Acc: 70.15%, Val Loss: 2.2174, Val Acc: 38.31%\n",
      "Epoch [10/20], Train Loss: 0.6655, Train Acc: 69.70%, Val Loss: 1.5277, Val Acc: 41.96%\n",
      "Epoch [11/20], Train Loss: 0.6625, Train Acc: 69.23%, Val Loss: 2.3154, Val Acc: 28.96%\n",
      "Epoch [12/20], Train Loss: 0.6551, Train Acc: 70.11%, Val Loss: 2.1654, Val Acc: 35.80%\n",
      "Epoch [13/20], Train Loss: 0.6674, Train Acc: 69.33%, Val Loss: 1.5670, Val Acc: 34.89%\n",
      "Epoch [14/20], Train Loss: 0.6625, Train Acc: 70.16%, Val Loss: 1.9167, Val Acc: 33.30%\n",
      "Epoch [15/20], Train Loss: 0.6586, Train Acc: 70.35%, Val Loss: 2.7413, Val Acc: 28.73%\n",
      "Epoch [16/20], Train Loss: 0.6819, Train Acc: 68.91%, Val Loss: 1.7069, Val Acc: 39.45%\n",
      "Epoch [17/20], Train Loss: 0.6834, Train Acc: 68.73%, Val Loss: 1.8895, Val Acc: 34.66%\n",
      "Epoch [18/20], Train Loss: 0.6721, Train Acc: 69.37%, Val Loss: 2.1894, Val Acc: 27.82%\n",
      "Epoch [19/20], Train Loss: 0.6666, Train Acc: 69.82%, Val Loss: 2.4794, Val Acc: 24.52%\n",
      "Epoch [20/20], Train Loss: 0.6729, Train Acc: 69.35%, Val Loss: 2.2155, Val Acc: 28.39%\n",
      "Finished Training EEGConvNeXt_1D. Total time: 265.26 seconds\n"
     ]
    },
    {
     "name": "stderr",
     "output_type": "stream",
     "text": [
      "[I 2025-05-07 02:04:11,654] Trial 3 finished with value: 0.2839224629418472 and parameters: {'learning_rate': 0.0005758178423490434, 'weight_decay': 0.004963251707140753, 'dropout_rate': 0.30314139084769925, 'base_dim': 64, 'n_blocks': 1, 'batch_size': 8}. Best is trial 2 with value: 0.3933865450399088.\n"
     ]
    },
    {
     "name": "stdout",
     "output_type": "stream",
     "text": [
      "\n",
      "--- Training EEGConvNeXt_1D ---\n",
      "Epoch [1/20], Train Loss: 1.1013, Train Acc: 40.92%, Val Loss: 1.5281, Val Acc: 24.29%\n",
      "Epoch [2/20], Train Loss: 0.8647, Train Acc: 59.25%, Val Loss: 1.9210, Val Acc: 35.46%\n",
      "Epoch [3/20], Train Loss: 0.6524, Train Acc: 71.42%, Val Loss: 2.0630, Val Acc: 35.80%\n",
      "Epoch [4/20], Train Loss: 0.5465, Train Acc: 76.81%, Val Loss: 1.9265, Val Acc: 37.63%\n",
      "Epoch [5/20], Train Loss: 0.4608, Train Acc: 81.50%, Val Loss: 2.1334, Val Acc: 33.98%\n",
      "Epoch [6/20], Train Loss: 0.4165, Train Acc: 83.77%, Val Loss: 1.8932, Val Acc: 39.11%\n",
      "Epoch [7/20], Train Loss: 0.3875, Train Acc: 85.04%, Val Loss: 1.7551, Val Acc: 37.63%\n",
      "Epoch [8/20], Train Loss: 0.3636, Train Acc: 87.27%, Val Loss: 1.7715, Val Acc: 38.43%\n",
      "Epoch [9/20], Train Loss: 0.3528, Train Acc: 88.32%, Val Loss: 1.6397, Val Acc: 42.08%\n",
      "Epoch [10/20], Train Loss: 0.3543, Train Acc: 88.58%, Val Loss: 1.5916, Val Acc: 38.88%\n",
      "Epoch [11/20], Train Loss: 0.3524, Train Acc: 89.68%, Val Loss: 1.5892, Val Acc: 36.60%\n",
      "Epoch [12/20], Train Loss: 0.3536, Train Acc: 90.10%, Val Loss: 1.4484, Val Acc: 35.35%\n",
      "Epoch [13/20], Train Loss: 0.3738, Train Acc: 90.07%, Val Loss: 1.4822, Val Acc: 35.69%\n",
      "Epoch [14/20], Train Loss: 0.3930, Train Acc: 89.59%, Val Loss: 1.3465, Val Acc: 40.02%\n",
      "Epoch [15/20], Train Loss: 0.4197, Train Acc: 89.60%, Val Loss: 1.2723, Val Acc: 40.48%\n",
      "Epoch [16/20], Train Loss: 0.4606, Train Acc: 88.27%, Val Loss: 1.3305, Val Acc: 39.11%\n",
      "Epoch [17/20], Train Loss: 0.4980, Train Acc: 87.55%, Val Loss: 1.2737, Val Acc: 38.20%\n",
      "Epoch [18/20], Train Loss: 0.5525, Train Acc: 85.68%, Val Loss: 1.2088, Val Acc: 39.45%\n",
      "Epoch [19/20], Train Loss: 0.6106, Train Acc: 83.89%, Val Loss: 1.1678, Val Acc: 40.25%\n",
      "Epoch [20/20], Train Loss: 0.6817, Train Acc: 81.17%, Val Loss: 1.1797, Val Acc: 35.58%\n",
      "Finished Training EEGConvNeXt_1D. Total time: 401.99 seconds\n"
     ]
    },
    {
     "name": "stderr",
     "output_type": "stream",
     "text": [
      "[I 2025-05-07 02:10:54,166] Trial 4 finished with value: 0.3557582668187001 and parameters: {'learning_rate': 3.498681667330291e-05, 'weight_decay': 0.009469595367345407, 'dropout_rate': 0.688963205593684, 'base_dim': 64, 'n_blocks': 2, 'batch_size': 8}. Best is trial 2 with value: 0.3933865450399088.\n"
     ]
    },
    {
     "name": "stdout",
     "output_type": "stream",
     "text": [
      "\n",
      "--- Training EEGConvNeXt_1D ---\n",
      "Epoch [1/20], Train Loss: 1.1759, Train Acc: 40.43%, Val Loss: 1.1465, Val Acc: 40.48%\n",
      "Epoch [2/20], Train Loss: 1.0635, Train Acc: 40.44%, Val Loss: 1.2607, Val Acc: 24.29%\n",
      "Epoch [3/20], Train Loss: 1.0635, Train Acc: 41.49%, Val Loss: 1.2510, Val Acc: 24.29%\n",
      "Epoch [4/20], Train Loss: 1.0614, Train Acc: 40.35%, Val Loss: 1.1666, Val Acc: 24.29%\n",
      "Epoch [5/20], Train Loss: 1.0563, Train Acc: 41.22%, Val Loss: 1.1516, Val Acc: 40.48%\n",
      "Epoch [6/20], Train Loss: 1.0603, Train Acc: 40.81%, Val Loss: 1.2215, Val Acc: 40.48%\n",
      "Epoch [7/20], Train Loss: 1.0554, Train Acc: 40.88%, Val Loss: 1.1981, Val Acc: 24.29%\n",
      "Epoch [8/20], Train Loss: 1.0600, Train Acc: 41.16%, Val Loss: 1.2192, Val Acc: 40.48%\n",
      "Epoch [9/20], Train Loss: 1.0514, Train Acc: 40.91%, Val Loss: 1.2452, Val Acc: 40.48%\n",
      "Epoch [10/20], Train Loss: 1.0581, Train Acc: 41.01%, Val Loss: 1.2246, Val Acc: 24.29%\n",
      "Epoch [11/20], Train Loss: 1.0568, Train Acc: 40.87%, Val Loss: 1.0931, Val Acc: 40.48%\n",
      "Epoch [12/20], Train Loss: 1.0532, Train Acc: 41.47%, Val Loss: 1.2252, Val Acc: 24.29%\n",
      "Epoch [13/20], Train Loss: 1.0554, Train Acc: 41.11%, Val Loss: 1.1670, Val Acc: 40.48%\n",
      "Epoch [14/20], Train Loss: 1.0506, Train Acc: 41.13%, Val Loss: 1.2912, Val Acc: 24.29%\n",
      "Epoch [15/20], Train Loss: 1.0575, Train Acc: 40.60%, Val Loss: 1.1895, Val Acc: 40.48%\n",
      "Epoch [16/20], Train Loss: 1.0581, Train Acc: 42.11%, Val Loss: 1.1717, Val Acc: 24.29%\n",
      "Epoch [17/20], Train Loss: 1.0547, Train Acc: 40.81%, Val Loss: 1.1317, Val Acc: 40.48%\n",
      "Epoch [18/20], Train Loss: 1.0542, Train Acc: 40.53%, Val Loss: 1.1739, Val Acc: 24.29%\n",
      "Epoch [19/20], Train Loss: 1.0516, Train Acc: 41.23%, Val Loss: 1.1742, Val Acc: 40.48%\n",
      "Epoch [20/20], Train Loss: 1.0536, Train Acc: 41.38%, Val Loss: 1.1429, Val Acc: 40.48%\n",
      "Finished Training EEGConvNeXt_1D. Total time: 272.80 seconds\n"
     ]
    },
    {
     "name": "stderr",
     "output_type": "stream",
     "text": [
      "[I 2025-05-07 02:15:27,427] Trial 5 finished with value: 0.4047890535917902 and parameters: {'learning_rate': 0.00836174147858395, 'weight_decay': 1.8056443588778537e-05, 'dropout_rate': 0.5845118646576506, 'base_dim': 128, 'n_blocks': 1, 'batch_size': 8}. Best is trial 5 with value: 0.4047890535917902.\n"
     ]
    },
    {
     "name": "stdout",
     "output_type": "stream",
     "text": [
      "\n",
      "--- Training EEGConvNeXt_1D ---\n",
      "Epoch [1/20], Train Loss: 0.9557, Train Acc: 63.13%, Val Loss: 3.6956, Val Acc: 42.08%\n",
      "Epoch [2/20], Train Loss: 0.5516, Train Acc: 74.96%, Val Loss: 2.8738, Val Acc: 31.36%\n",
      "Epoch [3/20], Train Loss: 0.4646, Train Acc: 78.04%, Val Loss: 3.4531, Val Acc: 40.36%\n",
      "Epoch [4/20], Train Loss: 0.4335, Train Acc: 79.43%, Val Loss: 2.8015, Val Acc: 39.91%\n",
      "Epoch [5/20], Train Loss: 0.3879, Train Acc: 81.73%, Val Loss: 2.7977, Val Acc: 39.22%\n",
      "Epoch [6/20], Train Loss: 0.3752, Train Acc: 81.82%, Val Loss: 3.7466, Val Acc: 36.26%\n",
      "Epoch [7/20], Train Loss: 0.3460, Train Acc: 83.48%, Val Loss: 3.5052, Val Acc: 37.06%\n",
      "Epoch [8/20], Train Loss: 0.3247, Train Acc: 84.88%, Val Loss: 3.8338, Val Acc: 38.65%\n",
      "Epoch [9/20], Train Loss: 0.3111, Train Acc: 85.75%, Val Loss: 4.3976, Val Acc: 36.49%\n",
      "Epoch [10/20], Train Loss: 0.2852, Train Acc: 87.23%, Val Loss: 4.1771, Val Acc: 36.72%\n",
      "Epoch [11/20], Train Loss: 0.2668, Train Acc: 88.28%, Val Loss: 4.2608, Val Acc: 36.49%\n",
      "Epoch [12/20], Train Loss: 0.2537, Train Acc: 89.36%, Val Loss: 4.6442, Val Acc: 34.21%\n",
      "Epoch [13/20], Train Loss: 0.2298, Train Acc: 90.71%, Val Loss: 4.2938, Val Acc: 35.23%\n",
      "Epoch [14/20], Train Loss: 0.2200, Train Acc: 91.26%, Val Loss: 4.8868, Val Acc: 35.01%\n",
      "Epoch [15/20], Train Loss: 0.2076, Train Acc: 92.09%, Val Loss: 5.3871, Val Acc: 35.12%\n",
      "Epoch [16/20], Train Loss: 0.1797, Train Acc: 93.41%, Val Loss: 5.4826, Val Acc: 35.12%\n",
      "Epoch [17/20], Train Loss: 0.1622, Train Acc: 93.81%, Val Loss: 5.2145, Val Acc: 38.08%\n",
      "Epoch [18/20], Train Loss: 0.1529, Train Acc: 94.17%, Val Loss: 4.8943, Val Acc: 37.74%\n",
      "Epoch [19/20], Train Loss: 0.1406, Train Acc: 94.77%, Val Loss: 5.5891, Val Acc: 35.46%\n"
     ]
    },
    {
     "name": "stderr",
     "output_type": "stream",
     "text": [
      "[I 2025-05-07 02:17:28,359] Trial 6 finished with value: 0.3694412770809578 and parameters: {'learning_rate': 0.0007625679308912389, 'weight_decay': 0.0002866080644924093, 'dropout_rate': 0.3711067985158759, 'base_dim': 128, 'n_blocks': 1, 'batch_size': 32}. Best is trial 5 with value: 0.4047890535917902.\n"
     ]
    },
    {
     "name": "stdout",
     "output_type": "stream",
     "text": [
      "Epoch [20/20], Train Loss: 0.1493, Train Acc: 94.67%, Val Loss: 5.7928, Val Acc: 36.94%\n",
      "Finished Training EEGConvNeXt_1D. Total time: 120.62 seconds\n",
      "\n",
      "--- Training EEGConvNeXt_1D ---\n",
      "Epoch [1/20], Train Loss: 0.9012, Train Acc: 59.83%, Val Loss: 2.8490, Val Acc: 38.54%\n",
      "Epoch [2/20], Train Loss: 0.5739, Train Acc: 73.84%, Val Loss: 2.1786, Val Acc: 41.62%\n",
      "Epoch [3/20], Train Loss: 0.5253, Train Acc: 75.70%, Val Loss: 2.0205, Val Acc: 40.59%\n",
      "Epoch [4/20], Train Loss: 0.5005, Train Acc: 76.57%, Val Loss: 2.2246, Val Acc: 39.91%\n",
      "Epoch [5/20], Train Loss: 0.4794, Train Acc: 77.72%, Val Loss: 2.8107, Val Acc: 34.21%\n",
      "Epoch [6/20], Train Loss: 0.4627, Train Acc: 78.31%, Val Loss: 2.3940, Val Acc: 43.10%\n",
      "Epoch [7/20], Train Loss: 0.4438, Train Acc: 79.15%, Val Loss: 2.6308, Val Acc: 36.37%\n",
      "Epoch [8/20], Train Loss: 0.4359, Train Acc: 79.65%, Val Loss: 2.8212, Val Acc: 37.17%\n",
      "Epoch [9/20], Train Loss: 0.4380, Train Acc: 79.47%, Val Loss: 2.7001, Val Acc: 39.57%\n",
      "Epoch [10/20], Train Loss: 0.4408, Train Acc: 79.47%, Val Loss: 3.0035, Val Acc: 32.73%\n",
      "Epoch [11/20], Train Loss: 0.4412, Train Acc: 79.13%, Val Loss: 2.9453, Val Acc: 34.89%\n",
      "Epoch [12/20], Train Loss: 0.4428, Train Acc: 79.25%, Val Loss: 2.7953, Val Acc: 34.09%\n",
      "Epoch [13/20], Train Loss: 0.4482, Train Acc: 79.26%, Val Loss: 2.6999, Val Acc: 36.49%\n",
      "Epoch [14/20], Train Loss: 0.4400, Train Acc: 79.85%, Val Loss: 2.7872, Val Acc: 37.86%\n",
      "Epoch [15/20], Train Loss: 0.4418, Train Acc: 79.72%, Val Loss: 2.6818, Val Acc: 36.72%\n",
      "Epoch [16/20], Train Loss: 0.4478, Train Acc: 79.52%, Val Loss: 2.6193, Val Acc: 36.26%\n",
      "Epoch [17/20], Train Loss: 0.4338, Train Acc: 80.73%, Val Loss: 2.8938, Val Acc: 31.70%\n",
      "Epoch [18/20], Train Loss: 0.4490, Train Acc: 79.68%, Val Loss: 2.5490, Val Acc: 38.54%\n",
      "Epoch [19/20], Train Loss: 0.4491, Train Acc: 78.85%, Val Loss: 2.5228, Val Acc: 34.32%\n",
      "Epoch [20/20], Train Loss: 0.4539, Train Acc: 79.19%, Val Loss: 2.5241, Val Acc: 39.57%\n",
      "Finished Training EEGConvNeXt_1D. Total time: 270.17 seconds\n"
     ]
    },
    {
     "name": "stderr",
     "output_type": "stream",
     "text": [
      "[I 2025-05-07 02:21:58,935] Trial 7 finished with value: 0.3956670467502851 and parameters: {'learning_rate': 0.00040680169750350605, 'weight_decay': 0.0028354894431111893, 'dropout_rate': 0.6675460406266935, 'base_dim': 64, 'n_blocks': 3, 'batch_size': 16}. Best is trial 5 with value: 0.4047890535917902.\n"
     ]
    },
    {
     "name": "stdout",
     "output_type": "stream",
     "text": [
      "\n",
      "--- Training EEGConvNeXt_1D ---\n",
      "Epoch [1/20], Train Loss: 0.9580, Train Acc: 61.68%, Val Loss: 6.1563, Val Acc: 27.37%\n",
      "Epoch [2/20], Train Loss: 0.5110, Train Acc: 75.97%, Val Loss: 3.3020, Val Acc: 31.58%\n",
      "Epoch [3/20], Train Loss: 0.4567, Train Acc: 78.31%, Val Loss: 3.7033, Val Acc: 36.94%\n",
      "Epoch [4/20], Train Loss: 0.3967, Train Acc: 80.70%, Val Loss: 3.8346, Val Acc: 39.11%\n",
      "Epoch [5/20], Train Loss: 0.3724, Train Acc: 82.04%, Val Loss: 4.7240, Val Acc: 36.26%\n",
      "Epoch [6/20], Train Loss: 0.3432, Train Acc: 83.77%, Val Loss: 4.3971, Val Acc: 36.49%\n",
      "Epoch [7/20], Train Loss: 0.3244, Train Acc: 84.55%, Val Loss: 4.7297, Val Acc: 34.32%\n",
      "Epoch [8/20], Train Loss: 0.3040, Train Acc: 86.57%, Val Loss: 4.0124, Val Acc: 37.17%\n",
      "Epoch [9/20], Train Loss: 0.2781, Train Acc: 87.65%, Val Loss: 4.2829, Val Acc: 36.49%\n",
      "Epoch [10/20], Train Loss: 0.2537, Train Acc: 89.08%, Val Loss: 4.2999, Val Acc: 33.98%\n",
      "Epoch [11/20], Train Loss: 0.2250, Train Acc: 90.91%, Val Loss: 4.7140, Val Acc: 37.29%\n",
      "Epoch [12/20], Train Loss: 0.1918, Train Acc: 92.47%, Val Loss: 4.6525, Val Acc: 38.65%\n",
      "Epoch [13/20], Train Loss: 0.1711, Train Acc: 93.45%, Val Loss: 5.4458, Val Acc: 39.68%\n",
      "Epoch [14/20], Train Loss: 0.1523, Train Acc: 94.33%, Val Loss: 6.6610, Val Acc: 32.84%\n",
      "Epoch [15/20], Train Loss: 0.1249, Train Acc: 95.25%, Val Loss: 5.7170, Val Acc: 36.37%\n",
      "Epoch [16/20], Train Loss: 0.1205, Train Acc: 95.38%, Val Loss: 6.7695, Val Acc: 31.93%\n",
      "Epoch [17/20], Train Loss: 0.1104, Train Acc: 96.04%, Val Loss: 7.3722, Val Acc: 35.01%\n",
      "Epoch [18/20], Train Loss: 0.0927, Train Acc: 96.83%, Val Loss: 7.2854, Val Acc: 36.26%\n",
      "Epoch [19/20], Train Loss: 0.1030, Train Acc: 96.52%, Val Loss: 7.8908, Val Acc: 36.60%\n"
     ]
    },
    {
     "name": "stderr",
     "output_type": "stream",
     "text": [
      "[I 2025-05-07 02:23:59,528] Trial 8 finished with value: 0.3933865450399088 and parameters: {'learning_rate': 0.0005165076249896145, 'weight_decay': 0.00028963058456652396, 'dropout_rate': 0.5644871254947746, 'base_dim': 128, 'n_blocks': 1, 'batch_size': 32}. Best is trial 5 with value: 0.4047890535917902.\n"
     ]
    },
    {
     "name": "stdout",
     "output_type": "stream",
     "text": [
      "Epoch [20/20], Train Loss: 0.0873, Train Acc: 97.08%, Val Loss: 7.1404, Val Acc: 39.34%\n",
      "Finished Training EEGConvNeXt_1D. Total time: 120.29 seconds\n",
      "\n",
      "--- Training EEGConvNeXt_1D ---\n",
      "Epoch [1/20], Train Loss: 1.1106, Train Acc: 40.76%, Val Loss: 1.0997, Val Acc: 39.11%\n",
      "Epoch [2/20], Train Loss: 0.8642, Train Acc: 59.39%, Val Loss: 1.8572, Val Acc: 39.91%\n",
      "Epoch [3/20], Train Loss: 0.6698, Train Acc: 70.06%, Val Loss: 2.2439, Val Acc: 37.86%\n",
      "Epoch [4/20], Train Loss: 0.5562, Train Acc: 75.08%, Val Loss: 2.3928, Val Acc: 38.31%\n",
      "Epoch [5/20], Train Loss: 0.4840, Train Acc: 78.34%, Val Loss: 2.3820, Val Acc: 40.02%\n",
      "Epoch [6/20], Train Loss: 0.4228, Train Acc: 82.00%, Val Loss: 2.3049, Val Acc: 39.91%\n",
      "Epoch [7/20], Train Loss: 0.3732, Train Acc: 84.49%, Val Loss: 2.1230, Val Acc: 39.00%\n",
      "Epoch [8/20], Train Loss: 0.3435, Train Acc: 86.44%, Val Loss: 2.1499, Val Acc: 41.28%\n",
      "Epoch [9/20], Train Loss: 0.3147, Train Acc: 88.25%, Val Loss: 2.2296, Val Acc: 37.86%\n",
      "Epoch [10/20], Train Loss: 0.2883, Train Acc: 89.88%, Val Loss: 2.0487, Val Acc: 41.51%\n",
      "Epoch [11/20], Train Loss: 0.2675, Train Acc: 91.27%, Val Loss: 1.9402, Val Acc: 37.51%\n",
      "Epoch [12/20], Train Loss: 0.2517, Train Acc: 92.04%, Val Loss: 2.0765, Val Acc: 36.03%\n",
      "Epoch [13/20], Train Loss: 0.2509, Train Acc: 91.85%, Val Loss: 2.0216, Val Acc: 38.54%\n",
      "Epoch [14/20], Train Loss: 0.2570, Train Acc: 92.22%, Val Loss: 2.1527, Val Acc: 40.25%\n",
      "Epoch [15/20], Train Loss: 0.2561, Train Acc: 92.35%, Val Loss: 1.7650, Val Acc: 37.51%\n",
      "Epoch [16/20], Train Loss: 0.2702, Train Acc: 92.57%, Val Loss: 1.6692, Val Acc: 37.74%\n",
      "Epoch [17/20], Train Loss: 0.2882, Train Acc: 92.11%, Val Loss: 1.8108, Val Acc: 32.84%\n",
      "Epoch [18/20], Train Loss: 0.3052, Train Acc: 92.42%, Val Loss: 1.6796, Val Acc: 38.77%\n",
      "Epoch [19/20], Train Loss: 0.3104, Train Acc: 92.71%, Val Loss: 1.8553, Val Acc: 41.39%\n",
      "Epoch [20/20], Train Loss: 0.3035, Train Acc: 92.31%, Val Loss: 1.7458, Val Acc: 35.12%\n",
      "Finished Training EEGConvNeXt_1D. Total time: 516.74 seconds\n"
     ]
    },
    {
     "name": "stderr",
     "output_type": "stream",
     "text": [
      "[I 2025-05-07 02:32:36,929] Trial 9 finished with value: 0.35119726339794755 and parameters: {'learning_rate': 3.8918863322576624e-05, 'weight_decay': 0.0037113171852921436, 'dropout_rate': 0.6202491847828939, 'base_dim': 64, 'n_blocks': 3, 'batch_size': 8}. Best is trial 5 with value: 0.4047890535917902.\n"
     ]
    },
    {
     "name": "stdout",
     "output_type": "stream",
     "text": [
      "\n",
      "--- Training EEGConvNeXt_1D ---\n",
      "Epoch [1/20], Train Loss: 1.1850, Train Acc: 40.55%, Val Loss: 1.1920, Val Acc: 40.48%\n",
      "Epoch [2/20], Train Loss: 1.0592, Train Acc: 39.82%, Val Loss: 1.2137, Val Acc: 24.29%\n",
      "Epoch [3/20], Train Loss: 1.0528, Train Acc: 41.38%, Val Loss: 1.2037, Val Acc: 40.48%\n",
      "Epoch [4/20], Train Loss: 1.0540, Train Acc: 41.08%, Val Loss: 1.1340, Val Acc: 40.48%\n",
      "Epoch [5/20], Train Loss: 1.0525, Train Acc: 41.51%, Val Loss: 1.1925, Val Acc: 40.48%\n",
      "Epoch [6/20], Train Loss: 1.0528, Train Acc: 40.71%, Val Loss: 1.2848, Val Acc: 24.29%\n",
      "Epoch [7/20], Train Loss: 1.0504, Train Acc: 41.58%, Val Loss: 1.1795, Val Acc: 24.29%\n",
      "Epoch [8/20], Train Loss: 1.0473, Train Acc: 40.32%, Val Loss: 1.2351, Val Acc: 40.48%\n",
      "Epoch [9/20], Train Loss: 1.0513, Train Acc: 41.67%, Val Loss: 1.1702, Val Acc: 40.48%\n",
      "Epoch [10/20], Train Loss: 1.0479, Train Acc: 41.53%, Val Loss: 1.1562, Val Acc: 24.29%\n",
      "Epoch [11/20], Train Loss: 1.0485, Train Acc: 41.17%, Val Loss: 1.1323, Val Acc: 40.48%\n",
      "Epoch [12/20], Train Loss: 1.0492, Train Acc: 40.99%, Val Loss: 1.1637, Val Acc: 40.48%\n",
      "Epoch [13/20], Train Loss: 1.0483, Train Acc: 41.33%, Val Loss: 1.1886, Val Acc: 24.29%\n",
      "Epoch [14/20], Train Loss: 1.0512, Train Acc: 40.38%, Val Loss: 1.2095, Val Acc: 24.29%\n",
      "Epoch [15/20], Train Loss: 1.0491, Train Acc: 40.75%, Val Loss: 1.2032, Val Acc: 24.29%\n",
      "Epoch [16/20], Train Loss: 1.0479, Train Acc: 41.04%, Val Loss: 1.2163, Val Acc: 40.48%\n",
      "Epoch [17/20], Train Loss: 1.0505, Train Acc: 40.59%, Val Loss: 1.0995, Val Acc: 40.48%\n",
      "Epoch [18/20], Train Loss: 1.0494, Train Acc: 40.97%, Val Loss: 1.1722, Val Acc: 40.48%\n",
      "Epoch [19/20], Train Loss: 1.0487, Train Acc: 41.77%, Val Loss: 1.1829, Val Acc: 40.48%\n",
      "Epoch [20/20], Train Loss: 1.0481, Train Acc: 40.99%, Val Loss: 1.1929, Val Acc: 24.29%\n",
      "Finished Training EEGConvNeXt_1D. Total time: 264.34 seconds\n"
     ]
    },
    {
     "name": "stderr",
     "output_type": "stream",
     "text": [
      "[I 2025-05-07 02:37:01,769] Trial 10 finished with value: 0.24287343215507412 and parameters: {'learning_rate': 0.005771856383123271, 'weight_decay': 1.9424541207414068e-05, 'dropout_rate': 0.4857264672176199, 'base_dim': 128, 'n_blocks': 1, 'batch_size': 8}. Best is trial 5 with value: 0.4047890535917902.\n"
     ]
    },
    {
     "name": "stdout",
     "output_type": "stream",
     "text": [
      "\n",
      "--- Training EEGConvNeXt_1D ---\n",
      "Epoch [1/20], Train Loss: 1.1327, Train Acc: 39.98%, Val Loss: 1.4655, Val Acc: 40.48%\n",
      "Epoch [2/20], Train Loss: 1.0496, Train Acc: 40.79%, Val Loss: 1.2141, Val Acc: 24.29%\n",
      "Epoch [3/20], Train Loss: 1.0461, Train Acc: 41.16%, Val Loss: 1.1452, Val Acc: 40.48%\n",
      "Epoch [4/20], Train Loss: 1.0460, Train Acc: 40.66%, Val Loss: 1.2067, Val Acc: 24.29%\n",
      "Epoch [5/20], Train Loss: 1.0448, Train Acc: 41.48%, Val Loss: 1.1175, Val Acc: 40.48%\n",
      "Epoch [6/20], Train Loss: 1.0463, Train Acc: 41.42%, Val Loss: 1.2090, Val Acc: 40.48%\n",
      "Epoch [7/20], Train Loss: 1.0468, Train Acc: 42.00%, Val Loss: 1.2310, Val Acc: 24.29%\n",
      "Epoch [8/20], Train Loss: 1.0439, Train Acc: 40.81%, Val Loss: 1.2329, Val Acc: 40.48%\n",
      "Epoch [9/20], Train Loss: 1.0458, Train Acc: 41.34%, Val Loss: 1.2351, Val Acc: 40.48%\n",
      "Epoch [10/20], Train Loss: 1.0445, Train Acc: 41.18%, Val Loss: 1.2300, Val Acc: 40.48%\n",
      "Epoch [11/20], Train Loss: 1.0462, Train Acc: 41.54%, Val Loss: 1.2254, Val Acc: 40.48%\n",
      "Epoch [12/20], Train Loss: 1.0436, Train Acc: 41.42%, Val Loss: 1.1919, Val Acc: 40.48%\n",
      "Epoch [13/20], Train Loss: 1.0463, Train Acc: 41.09%, Val Loss: 1.1297, Val Acc: 40.48%\n",
      "Epoch [14/20], Train Loss: 1.0450, Train Acc: 41.71%, Val Loss: 1.1753, Val Acc: 40.48%\n",
      "Epoch [15/20], Train Loss: 1.0450, Train Acc: 40.99%, Val Loss: 1.1821, Val Acc: 40.48%\n",
      "Epoch [16/20], Train Loss: 1.0446, Train Acc: 41.65%, Val Loss: 1.1721, Val Acc: 40.48%\n",
      "Epoch [17/20], Train Loss: 1.0438, Train Acc: 41.50%, Val Loss: 1.1691, Val Acc: 40.48%\n",
      "Epoch [18/20], Train Loss: 1.0449, Train Acc: 40.75%, Val Loss: 1.1691, Val Acc: 24.29%\n",
      "Epoch [19/20], Train Loss: 1.0449, Train Acc: 42.09%, Val Loss: 1.1697, Val Acc: 24.29%\n",
      "Epoch [20/20], Train Loss: 1.0473, Train Acc: 41.52%, Val Loss: 1.1799, Val Acc: 24.29%\n",
      "Finished Training EEGConvNeXt_1D. Total time: 268.57 seconds\n"
     ]
    },
    {
     "name": "stderr",
     "output_type": "stream",
     "text": [
      "[I 2025-05-07 02:41:30,768] Trial 11 finished with value: 0.24287343215507412 and parameters: {'learning_rate': 0.006499582399870366, 'weight_decay': 2.769646770168462e-05, 'dropout_rate': 0.5093571259741112, 'base_dim': 64, 'n_blocks': 3, 'batch_size': 16}. Best is trial 5 with value: 0.4047890535917902.\n"
     ]
    },
    {
     "name": "stdout",
     "output_type": "stream",
     "text": [
      "\n",
      "--- Training EEGConvNeXt_1D ---\n",
      "Epoch [1/20], Train Loss: 1.1624, Train Acc: 41.14%, Val Loss: 1.6240, Val Acc: 35.80%\n",
      "Epoch [2/20], Train Loss: 0.9186, Train Acc: 56.92%, Val Loss: 2.2442, Val Acc: 30.67%\n",
      "Epoch [3/20], Train Loss: 0.8447, Train Acc: 61.57%, Val Loss: 2.2775, Val Acc: 36.72%\n",
      "Epoch [4/20], Train Loss: 0.7899, Train Acc: 64.52%, Val Loss: 3.0799, Val Acc: 35.58%\n",
      "Epoch [5/20], Train Loss: 0.7631, Train Acc: 65.36%, Val Loss: 2.6051, Val Acc: 28.05%\n",
      "Epoch [6/20], Train Loss: 0.7434, Train Acc: 66.38%, Val Loss: 2.9595, Val Acc: 35.01%\n",
      "Epoch [7/20], Train Loss: 0.7311, Train Acc: 67.49%, Val Loss: 2.9307, Val Acc: 31.70%\n",
      "Epoch [8/20], Train Loss: 0.7140, Train Acc: 68.00%, Val Loss: 2.9425, Val Acc: 32.04%\n",
      "Epoch [9/20], Train Loss: 0.6858, Train Acc: 69.73%, Val Loss: 2.7269, Val Acc: 33.18%\n",
      "Epoch [10/20], Train Loss: 0.6666, Train Acc: 70.58%, Val Loss: 3.7667, Val Acc: 30.90%\n",
      "Epoch [11/20], Train Loss: 0.6084, Train Acc: 72.85%, Val Loss: 3.5099, Val Acc: 33.18%\n",
      "Epoch [12/20], Train Loss: 0.5577, Train Acc: 74.57%, Val Loss: 4.2694, Val Acc: 34.21%\n",
      "Epoch [13/20], Train Loss: 0.5176, Train Acc: 76.83%, Val Loss: 5.3502, Val Acc: 32.27%\n",
      "Epoch [14/20], Train Loss: 0.4945, Train Acc: 77.57%, Val Loss: 5.7624, Val Acc: 32.95%\n",
      "Epoch [15/20], Train Loss: 0.4621, Train Acc: 79.04%, Val Loss: 5.5508, Val Acc: 32.61%\n",
      "Epoch [16/20], Train Loss: 0.4467, Train Acc: 79.57%, Val Loss: 5.4300, Val Acc: 34.78%\n",
      "Epoch [17/20], Train Loss: 0.4279, Train Acc: 80.72%, Val Loss: 7.4845, Val Acc: 30.79%\n",
      "Epoch [18/20], Train Loss: 0.4223, Train Acc: 80.50%, Val Loss: 5.7357, Val Acc: 35.69%\n",
      "Epoch [19/20], Train Loss: 0.3939, Train Acc: 81.63%, Val Loss: 7.8607, Val Acc: 30.22%\n",
      "Epoch [20/20], Train Loss: 0.4108, Train Acc: 81.46%, Val Loss: 7.2609, Val Acc: 35.69%\n",
      "Finished Training EEGConvNeXt_1D. Total time: 372.53 seconds\n"
     ]
    },
    {
     "name": "stderr",
     "output_type": "stream",
     "text": [
      "[I 2025-05-07 02:47:44,147] Trial 12 finished with value: 0.35689851767388825 and parameters: {'learning_rate': 0.0018416345993481713, 'weight_decay': 4.2902149686741474e-05, 'dropout_rate': 0.6898682175694308, 'base_dim': 128, 'n_blocks': 3, 'batch_size': 16}. Best is trial 5 with value: 0.4047890535917902.\n"
     ]
    },
    {
     "name": "stdout",
     "output_type": "stream",
     "text": [
      "\n",
      "--- Training EEGConvNeXt_1D ---\n",
      "Epoch [1/20], Train Loss: 1.0040, Train Acc: 55.07%, Val Loss: 1.8551, Val Acc: 26.23%\n",
      "Epoch [2/20], Train Loss: 0.7845, Train Acc: 63.12%, Val Loss: 2.2980, Val Acc: 35.80%\n",
      "Epoch [3/20], Train Loss: 0.7608, Train Acc: 63.98%, Val Loss: 1.8996, Val Acc: 29.42%\n",
      "Epoch [4/20], Train Loss: 0.7360, Train Acc: 65.58%, Val Loss: 2.1385, Val Acc: 31.47%\n",
      "Epoch [5/20], Train Loss: 0.7115, Train Acc: 67.16%, Val Loss: 2.1192, Val Acc: 34.89%\n",
      "Epoch [6/20], Train Loss: 0.6905, Train Acc: 68.97%, Val Loss: 2.2985, Val Acc: 30.22%\n",
      "Epoch [7/20], Train Loss: 0.6494, Train Acc: 71.23%, Val Loss: 2.2590, Val Acc: 32.38%\n",
      "Epoch [8/20], Train Loss: 0.5883, Train Acc: 73.88%, Val Loss: 2.9670, Val Acc: 39.34%\n",
      "Epoch [9/20], Train Loss: 0.5523, Train Acc: 74.36%, Val Loss: 3.6541, Val Acc: 27.94%\n",
      "Epoch [10/20], Train Loss: 0.5347, Train Acc: 75.32%, Val Loss: 2.6849, Val Acc: 34.78%\n",
      "Epoch [11/20], Train Loss: 0.5224, Train Acc: 76.09%, Val Loss: 3.3567, Val Acc: 35.23%\n",
      "Epoch [12/20], Train Loss: 0.5282, Train Acc: 75.58%, Val Loss: 3.0486, Val Acc: 27.14%\n",
      "Epoch [13/20], Train Loss: 0.5179, Train Acc: 76.32%, Val Loss: 3.6337, Val Acc: 29.99%\n",
      "Epoch [14/20], Train Loss: 0.5242, Train Acc: 76.32%, Val Loss: 2.1880, Val Acc: 31.36%\n",
      "Epoch [15/20], Train Loss: 0.5080, Train Acc: 76.35%, Val Loss: 2.4606, Val Acc: 38.08%\n",
      "Epoch [16/20], Train Loss: 0.5064, Train Acc: 76.86%, Val Loss: 5.1257, Val Acc: 26.91%\n",
      "Epoch [17/20], Train Loss: 0.4997, Train Acc: 76.74%, Val Loss: 4.9789, Val Acc: 40.36%\n",
      "Epoch [18/20], Train Loss: 0.4968, Train Acc: 76.81%, Val Loss: 4.6583, Val Acc: 37.29%\n",
      "Epoch [19/20], Train Loss: 0.4997, Train Acc: 76.81%, Val Loss: 2.7383, Val Acc: 39.11%\n",
      "Epoch [20/20], Train Loss: 0.4975, Train Acc: 76.94%, Val Loss: 2.8825, Val Acc: 37.86%\n",
      "Finished Training EEGConvNeXt_1D. Total time: 264.32 seconds\n"
     ]
    },
    {
     "name": "stderr",
     "output_type": "stream",
     "text": [
      "[I 2025-05-07 02:52:08,892] Trial 13 finished with value: 0.37856328392246297 and parameters: {'learning_rate': 0.002110057433318378, 'weight_decay': 0.001328695967351504, 'dropout_rate': 0.5826826195306846, 'base_dim': 64, 'n_blocks': 3, 'batch_size': 16}. Best is trial 5 with value: 0.4047890535917902.\n"
     ]
    },
    {
     "name": "stdout",
     "output_type": "stream",
     "text": [
      "\n",
      "--- Training EEGConvNeXt_1D ---\n",
      "Epoch [1/20], Train Loss: 1.0673, Train Acc: 42.97%, Val Loss: 1.5182, Val Acc: 38.88%\n",
      "Epoch [2/20], Train Loss: 0.9619, Train Acc: 52.86%, Val Loss: 1.7211, Val Acc: 37.06%\n",
      "Epoch [3/20], Train Loss: 0.8237, Train Acc: 61.89%, Val Loss: 2.0979, Val Acc: 35.92%\n",
      "Epoch [4/20], Train Loss: 0.7265, Train Acc: 67.43%, Val Loss: 2.8208, Val Acc: 29.76%\n",
      "Epoch [5/20], Train Loss: 0.6784, Train Acc: 69.68%, Val Loss: 2.8007, Val Acc: 30.56%\n",
      "Epoch [6/20], Train Loss: 0.6364, Train Acc: 71.51%, Val Loss: 3.4415, Val Acc: 28.51%\n",
      "Epoch [7/20], Train Loss: 0.6046, Train Acc: 73.10%, Val Loss: 2.4925, Val Acc: 36.15%\n",
      "Epoch [8/20], Train Loss: 0.5720, Train Acc: 75.20%, Val Loss: 2.7250, Val Acc: 34.55%\n",
      "Epoch [9/20], Train Loss: 0.5527, Train Acc: 75.89%, Val Loss: 2.7206, Val Acc: 36.26%\n",
      "Epoch [10/20], Train Loss: 0.5406, Train Acc: 76.24%, Val Loss: 2.6862, Val Acc: 38.20%\n",
      "Epoch [11/20], Train Loss: 0.5163, Train Acc: 77.74%, Val Loss: 3.2074, Val Acc: 31.36%\n",
      "Epoch [12/20], Train Loss: 0.4964, Train Acc: 77.90%, Val Loss: 2.9960, Val Acc: 35.23%\n",
      "Epoch [13/20], Train Loss: 0.4812, Train Acc: 78.54%, Val Loss: 2.9040, Val Acc: 39.79%\n",
      "Epoch [14/20], Train Loss: 0.4605, Train Acc: 79.63%, Val Loss: 3.2110, Val Acc: 38.08%\n",
      "Epoch [15/20], Train Loss: 0.4521, Train Acc: 79.87%, Val Loss: 3.4072, Val Acc: 35.01%\n",
      "Epoch [16/20], Train Loss: 0.4324, Train Acc: 80.65%, Val Loss: 3.4452, Val Acc: 36.72%\n",
      "Epoch [17/20], Train Loss: 0.4095, Train Acc: 81.28%, Val Loss: 3.7359, Val Acc: 35.58%\n",
      "Epoch [18/20], Train Loss: 0.3923, Train Acc: 81.75%, Val Loss: 5.1454, Val Acc: 31.13%\n",
      "Epoch [19/20], Train Loss: 0.3828, Train Acc: 82.14%, Val Loss: 4.2079, Val Acc: 38.65%\n",
      "Epoch [20/20], Train Loss: 0.3756, Train Acc: 82.72%, Val Loss: 5.1767, Val Acc: 32.61%\n",
      "Finished Training EEGConvNeXt_1D. Total time: 143.82 seconds\n"
     ]
    },
    {
     "name": "stderr",
     "output_type": "stream",
     "text": [
      "[I 2025-05-07 02:54:33,077] Trial 14 finished with value: 0.3261117445838084 and parameters: {'learning_rate': 1.3347235378213595e-05, 'weight_decay': 7.441857865967697e-06, 'dropout_rate': 0.44710618474792063, 'base_dim': 96, 'n_blocks': 2, 'batch_size': 32}. Best is trial 5 with value: 0.4047890535917902.\n"
     ]
    },
    {
     "name": "stdout",
     "output_type": "stream",
     "text": [
      "\n",
      "--- Training EEGConvNeXt_1D ---\n",
      "Epoch [1/20], Train Loss: 1.1305, Train Acc: 40.68%, Val Loss: 1.2707, Val Acc: 24.29%\n",
      "Epoch [2/20], Train Loss: 1.0467, Train Acc: 41.32%, Val Loss: 1.4113, Val Acc: 40.48%\n",
      "Epoch [3/20], Train Loss: 1.0453, Train Acc: 40.95%, Val Loss: 1.4053, Val Acc: 40.48%\n",
      "Epoch [4/20], Train Loss: 1.0446, Train Acc: 40.76%, Val Loss: 1.2270, Val Acc: 40.48%\n",
      "Epoch [5/20], Train Loss: 1.0440, Train Acc: 41.51%, Val Loss: 1.3157, Val Acc: 24.29%\n",
      "Epoch [6/20], Train Loss: 1.0428, Train Acc: 41.78%, Val Loss: 1.3218, Val Acc: 24.29%\n",
      "Epoch [7/20], Train Loss: 1.0439, Train Acc: 41.43%, Val Loss: 1.2207, Val Acc: 40.48%\n",
      "Epoch [8/20], Train Loss: 1.0440, Train Acc: 41.70%, Val Loss: 1.1838, Val Acc: 40.48%\n",
      "Epoch [9/20], Train Loss: 1.0437, Train Acc: 41.15%, Val Loss: 1.1201, Val Acc: 40.48%\n",
      "Epoch [10/20], Train Loss: 1.0428, Train Acc: 42.14%, Val Loss: 1.1822, Val Acc: 40.48%\n",
      "Epoch [11/20], Train Loss: 1.0432, Train Acc: 40.62%, Val Loss: 1.1933, Val Acc: 40.48%\n",
      "Epoch [12/20], Train Loss: 1.0442, Train Acc: 41.07%, Val Loss: 1.1415, Val Acc: 40.48%\n",
      "Epoch [13/20], Train Loss: 1.0423, Train Acc: 41.03%, Val Loss: 1.1646, Val Acc: 40.48%\n",
      "Epoch [14/20], Train Loss: 1.0431, Train Acc: 41.84%, Val Loss: 1.2167, Val Acc: 40.48%\n",
      "Epoch [15/20], Train Loss: 1.0439, Train Acc: 41.64%, Val Loss: 1.1693, Val Acc: 24.29%\n",
      "Epoch [16/20], Train Loss: 1.0423, Train Acc: 41.29%, Val Loss: 1.1470, Val Acc: 40.48%\n",
      "Epoch [17/20], Train Loss: 1.0425, Train Acc: 41.80%, Val Loss: 1.1768, Val Acc: 40.48%\n",
      "Epoch [18/20], Train Loss: 1.0432, Train Acc: 40.97%, Val Loss: 1.1955, Val Acc: 40.48%\n",
      "Epoch [19/20], Train Loss: 1.0424, Train Acc: 41.42%, Val Loss: 1.1356, Val Acc: 40.48%\n",
      "Epoch [20/20], Train Loss: 1.0441, Train Acc: 41.75%, Val Loss: 1.1862, Val Acc: 40.48%\n",
      "Finished Training EEGConvNeXt_1D. Total time: 412.22 seconds\n"
     ]
    },
    {
     "name": "stderr",
     "output_type": "stream",
     "text": [
      "[I 2025-05-07 03:01:26,053] Trial 15 finished with value: 0.4047890535917902 and parameters: {'learning_rate': 0.002002362131805346, 'weight_decay': 8.579921681313816e-05, 'dropout_rate': 0.6460676934367313, 'base_dim': 128, 'n_blocks': 2, 'batch_size': 8}. Best is trial 5 with value: 0.4047890535917902.\n"
     ]
    },
    {
     "name": "stdout",
     "output_type": "stream",
     "text": [
      "\n",
      "--- Training EEGConvNeXt_1D ---\n",
      "Epoch [1/20], Train Loss: 1.1486, Train Acc: 39.80%, Val Loss: 1.2595, Val Acc: 40.48%\n",
      "Epoch [2/20], Train Loss: 1.0601, Train Acc: 41.32%, Val Loss: 1.2391, Val Acc: 24.29%\n",
      "Epoch [3/20], Train Loss: 1.0596, Train Acc: 41.29%, Val Loss: 1.1474, Val Acc: 40.48%\n",
      "Epoch [4/20], Train Loss: 1.0580, Train Acc: 40.85%, Val Loss: 1.1585, Val Acc: 40.48%\n",
      "Epoch [5/20], Train Loss: 1.0540, Train Acc: 40.41%, Val Loss: 1.1929, Val Acc: 40.48%\n",
      "Epoch [6/20], Train Loss: 1.0590, Train Acc: 40.71%, Val Loss: 1.1380, Val Acc: 40.48%\n",
      "Epoch [7/20], Train Loss: 1.0583, Train Acc: 41.63%, Val Loss: 1.0830, Val Acc: 40.48%\n",
      "Epoch [8/20], Train Loss: 1.0561, Train Acc: 41.40%, Val Loss: 1.2699, Val Acc: 40.48%\n",
      "Epoch [9/20], Train Loss: 1.0610, Train Acc: 39.94%, Val Loss: 1.2106, Val Acc: 40.48%\n",
      "Epoch [10/20], Train Loss: 1.0574, Train Acc: 40.87%, Val Loss: 1.2153, Val Acc: 24.29%\n",
      "Epoch [11/20], Train Loss: 1.0584, Train Acc: 41.69%, Val Loss: 1.3539, Val Acc: 40.48%\n",
      "Epoch [12/20], Train Loss: 1.0571, Train Acc: 41.61%, Val Loss: 1.1533, Val Acc: 24.29%\n",
      "Epoch [13/20], Train Loss: 1.0561, Train Acc: 41.78%, Val Loss: 1.2993, Val Acc: 24.29%\n",
      "Epoch [14/20], Train Loss: 1.0593, Train Acc: 41.65%, Val Loss: 1.1231, Val Acc: 24.29%\n",
      "Epoch [15/20], Train Loss: 1.0545, Train Acc: 41.14%, Val Loss: 1.1949, Val Acc: 40.48%\n",
      "Epoch [16/20], Train Loss: 1.0621, Train Acc: 41.03%, Val Loss: 1.2555, Val Acc: 40.48%\n",
      "Epoch [17/20], Train Loss: 1.0600, Train Acc: 40.76%, Val Loss: 1.1810, Val Acc: 24.29%\n",
      "Epoch [18/20], Train Loss: 1.0555, Train Acc: 40.33%, Val Loss: 1.3058, Val Acc: 24.29%\n",
      "Epoch [19/20], Train Loss: 1.0579, Train Acc: 41.25%, Val Loss: 1.1837, Val Acc: 40.48%\n",
      "Epoch [20/20], Train Loss: 1.0565, Train Acc: 41.12%, Val Loss: 1.1412, Val Acc: 40.48%\n",
      "Finished Training EEGConvNeXt_1D. Total time: 410.81 seconds\n"
     ]
    },
    {
     "name": "stderr",
     "output_type": "stream",
     "text": [
      "[I 2025-05-07 03:08:17,612] Trial 16 finished with value: 0.4047890535917902 and parameters: {'learning_rate': 0.008970059409010227, 'weight_decay': 9.481473469046507e-05, 'dropout_rate': 0.5383662572676507, 'base_dim': 128, 'n_blocks': 2, 'batch_size': 8}. Best is trial 5 with value: 0.4047890535917902.\n"
     ]
    },
    {
     "name": "stdout",
     "output_type": "stream",
     "text": [
      "\n",
      "--- Training EEGConvNeXt_1D ---\n",
      "Epoch [1/20], Train Loss: 1.1932, Train Acc: 39.55%, Val Loss: 1.3852, Val Acc: 24.29%\n",
      "Epoch [2/20], Train Loss: 1.0510, Train Acc: 41.69%, Val Loss: 1.2061, Val Acc: 40.48%\n",
      "Epoch [3/20], Train Loss: 1.0492, Train Acc: 41.87%, Val Loss: 1.2713, Val Acc: 40.48%\n",
      "Epoch [4/20], Train Loss: 1.0471, Train Acc: 40.80%, Val Loss: 1.2270, Val Acc: 40.48%\n",
      "Epoch [5/20], Train Loss: 1.0456, Train Acc: 41.74%, Val Loss: 1.2379, Val Acc: 40.48%\n",
      "Epoch [6/20], Train Loss: 1.0448, Train Acc: 41.00%, Val Loss: 1.1480, Val Acc: 40.48%\n",
      "Epoch [7/20], Train Loss: 1.0456, Train Acc: 40.82%, Val Loss: 1.1442, Val Acc: 24.29%\n",
      "Epoch [8/20], Train Loss: 1.0447, Train Acc: 40.46%, Val Loss: 1.1724, Val Acc: 24.29%\n",
      "Epoch [9/20], Train Loss: 1.0448, Train Acc: 41.80%, Val Loss: 1.1770, Val Acc: 40.48%\n",
      "Epoch [10/20], Train Loss: 1.0456, Train Acc: 41.01%, Val Loss: 1.1325, Val Acc: 40.48%\n",
      "Epoch [11/20], Train Loss: 1.0447, Train Acc: 41.04%, Val Loss: 1.1805, Val Acc: 24.29%\n",
      "Epoch [12/20], Train Loss: 1.0446, Train Acc: 41.05%, Val Loss: 1.2342, Val Acc: 24.29%\n",
      "Epoch [13/20], Train Loss: 1.0438, Train Acc: 41.75%, Val Loss: 1.1127, Val Acc: 40.48%\n",
      "Epoch [14/20], Train Loss: 1.0447, Train Acc: 41.20%, Val Loss: 1.2156, Val Acc: 40.48%\n",
      "Epoch [15/20], Train Loss: 1.0448, Train Acc: 41.37%, Val Loss: 1.2131, Val Acc: 40.48%\n",
      "Epoch [16/20], Train Loss: 1.0449, Train Acc: 40.60%, Val Loss: 1.1284, Val Acc: 24.29%\n",
      "Epoch [17/20], Train Loss: 1.0439, Train Acc: 40.78%, Val Loss: 1.1873, Val Acc: 40.48%\n",
      "Epoch [18/20], Train Loss: 1.0440, Train Acc: 40.84%, Val Loss: 1.1816, Val Acc: 40.48%\n",
      "Epoch [19/20], Train Loss: 1.0446, Train Acc: 42.22%, Val Loss: 1.2289, Val Acc: 24.29%\n",
      "Epoch [20/20], Train Loss: 1.0433, Train Acc: 42.24%, Val Loss: 1.1683, Val Acc: 40.48%\n",
      "Finished Training EEGConvNeXt_1D. Total time: 407.85 seconds\n"
     ]
    },
    {
     "name": "stderr",
     "output_type": "stream",
     "text": [
      "[I 2025-05-07 03:15:06,208] Trial 17 finished with value: 0.4047890535917902 and parameters: {'learning_rate': 0.0023988052576423306, 'weight_decay': 5.845375592185409e-06, 'dropout_rate': 0.4335328736098069, 'base_dim': 128, 'n_blocks': 2, 'batch_size': 8}. Best is trial 5 with value: 0.4047890535917902.\n"
     ]
    },
    {
     "name": "stdout",
     "output_type": "stream",
     "text": [
      "\n",
      "--- Training EEGConvNeXt_1D ---\n",
      "Epoch [1/20], Train Loss: 1.1472, Train Acc: 40.03%, Val Loss: 1.4048, Val Acc: 40.48%\n",
      "Epoch [2/20], Train Loss: 1.0571, Train Acc: 41.56%, Val Loss: 1.3479, Val Acc: 40.48%\n",
      "Epoch [3/20], Train Loss: 1.0528, Train Acc: 41.41%, Val Loss: 1.2796, Val Acc: 40.48%\n",
      "Epoch [4/20], Train Loss: 1.0518, Train Acc: 41.33%, Val Loss: 1.2798, Val Acc: 24.29%\n",
      "Epoch [5/20], Train Loss: 1.0513, Train Acc: 41.18%, Val Loss: 1.3136, Val Acc: 24.29%\n",
      "Epoch [6/20], Train Loss: 1.0502, Train Acc: 40.64%, Val Loss: 1.1751, Val Acc: 40.48%\n",
      "Epoch [7/20], Train Loss: 1.0502, Train Acc: 41.60%, Val Loss: 1.2056, Val Acc: 24.29%\n",
      "Epoch [8/20], Train Loss: 1.0482, Train Acc: 41.38%, Val Loss: 1.1683, Val Acc: 40.48%\n",
      "Epoch [9/20], Train Loss: 1.0510, Train Acc: 40.67%, Val Loss: 1.1210, Val Acc: 40.48%\n",
      "Epoch [10/20], Train Loss: 1.0485, Train Acc: 41.61%, Val Loss: 1.2534, Val Acc: 24.29%\n",
      "Epoch [11/20], Train Loss: 1.0496, Train Acc: 41.15%, Val Loss: 1.1356, Val Acc: 40.48%\n",
      "Epoch [12/20], Train Loss: 1.0482, Train Acc: 41.07%, Val Loss: 1.2010, Val Acc: 40.48%\n",
      "Epoch [13/20], Train Loss: 1.0501, Train Acc: 40.28%, Val Loss: 1.1405, Val Acc: 40.48%\n",
      "Epoch [14/20], Train Loss: 1.0464, Train Acc: 41.58%, Val Loss: 1.1922, Val Acc: 24.29%\n",
      "Epoch [15/20], Train Loss: 1.0471, Train Acc: 41.10%, Val Loss: 1.1584, Val Acc: 24.29%\n",
      "Epoch [16/20], Train Loss: 1.0469, Train Acc: 41.31%, Val Loss: 1.2009, Val Acc: 24.29%\n",
      "Epoch [17/20], Train Loss: 1.0463, Train Acc: 41.41%, Val Loss: 1.1989, Val Acc: 24.29%\n",
      "Epoch [18/20], Train Loss: 1.0475, Train Acc: 41.91%, Val Loss: 1.2419, Val Acc: 40.48%\n",
      "Epoch [19/20], Train Loss: 1.0470, Train Acc: 41.81%, Val Loss: 1.1916, Val Acc: 24.29%\n",
      "Epoch [20/20], Train Loss: 1.0457, Train Acc: 41.50%, Val Loss: 1.1608, Val Acc: 40.48%\n",
      "Finished Training EEGConvNeXt_1D. Total time: 262.28 seconds\n"
     ]
    },
    {
     "name": "stderr",
     "output_type": "stream",
     "text": [
      "[I 2025-05-07 03:19:28,964] Trial 18 finished with value: 0.4047890535917902 and parameters: {'learning_rate': 0.0035079522850319325, 'weight_decay': 1.0595702347385217e-06, 'dropout_rate': 0.6149895592741483, 'base_dim': 128, 'n_blocks': 1, 'batch_size': 8}. Best is trial 5 with value: 0.4047890535917902.\n"
     ]
    },
    {
     "name": "stdout",
     "output_type": "stream",
     "text": [
      "\n",
      "--- Training EEGConvNeXt_1D ---\n",
      "Epoch [1/20], Train Loss: 1.0572, Train Acc: 53.46%, Val Loss: 2.3072, Val Acc: 28.51%\n",
      "Epoch [2/20], Train Loss: 0.6828, Train Acc: 68.81%, Val Loss: 2.9452, Val Acc: 30.56%\n",
      "Epoch [3/20], Train Loss: 0.5993, Train Acc: 72.91%, Val Loss: 2.6065, Val Acc: 32.61%\n",
      "Epoch [4/20], Train Loss: 0.5505, Train Acc: 74.95%, Val Loss: 2.5320, Val Acc: 37.17%\n",
      "Epoch [5/20], Train Loss: 0.5233, Train Acc: 75.82%, Val Loss: 4.3843, Val Acc: 31.70%\n",
      "Epoch [6/20], Train Loss: 0.5209, Train Acc: 76.28%, Val Loss: 4.0337, Val Acc: 30.90%\n",
      "Epoch [7/20], Train Loss: 0.4964, Train Acc: 76.69%, Val Loss: 3.1228, Val Acc: 39.79%\n",
      "Epoch [8/20], Train Loss: 0.4725, Train Acc: 78.59%, Val Loss: 3.3792, Val Acc: 42.19%\n",
      "Epoch [9/20], Train Loss: 0.4650, Train Acc: 78.80%, Val Loss: 3.9781, Val Acc: 39.45%\n",
      "Epoch [10/20], Train Loss: 0.4407, Train Acc: 79.48%, Val Loss: 3.7179, Val Acc: 41.51%\n",
      "Epoch [11/20], Train Loss: 0.4296, Train Acc: 80.64%, Val Loss: 3.7796, Val Acc: 35.69%\n",
      "Epoch [12/20], Train Loss: 0.4201, Train Acc: 80.67%, Val Loss: 3.7966, Val Acc: 39.00%\n",
      "Epoch [13/20], Train Loss: 0.4089, Train Acc: 81.21%, Val Loss: 5.1797, Val Acc: 31.36%\n",
      "Epoch [14/20], Train Loss: 0.3917, Train Acc: 82.32%, Val Loss: 4.3869, Val Acc: 38.43%\n",
      "Epoch [15/20], Train Loss: 0.3822, Train Acc: 82.54%, Val Loss: 5.2439, Val Acc: 37.86%\n",
      "Epoch [16/20], Train Loss: 0.3706, Train Acc: 83.74%, Val Loss: 5.1641, Val Acc: 38.08%\n",
      "Epoch [17/20], Train Loss: 0.3729, Train Acc: 84.09%, Val Loss: 5.2412, Val Acc: 40.71%\n",
      "Epoch [18/20], Train Loss: 0.3646, Train Acc: 83.93%, Val Loss: 4.6149, Val Acc: 37.86%\n",
      "Epoch [19/20], Train Loss: 0.3598, Train Acc: 85.24%, Val Loss: 4.8678, Val Acc: 36.49%\n",
      "Epoch [20/20], Train Loss: 0.3616, Train Acc: 84.44%, Val Loss: 5.1515, Val Acc: 37.74%\n",
      "Finished Training EEGConvNeXt_1D. Total time: 264.70 seconds\n"
     ]
    },
    {
     "name": "stderr",
     "output_type": "stream",
     "text": [
      "[I 2025-05-07 03:23:54,140] Trial 19 finished with value: 0.3774230330672748 and parameters: {'learning_rate': 0.0010192288443977998, 'weight_decay': 0.0001005627238639806, 'dropout_rate': 0.39183959578894956, 'base_dim': 128, 'n_blocks': 1, 'batch_size': 8}. Best is trial 5 with value: 0.4047890535917902.\n"
     ]
    },
    {
     "name": "stdout",
     "output_type": "stream",
     "text": [
      "\n",
      "--- Training EEGConvNeXt_1D ---\n",
      "Epoch [1/20], Train Loss: 1.1152, Train Acc: 41.25%, Val Loss: 1.2004, Val Acc: 24.29%\n",
      "Epoch [2/20], Train Loss: 1.0483, Train Acc: 41.01%, Val Loss: 1.1634, Val Acc: 24.29%\n",
      "Epoch [3/20], Train Loss: 1.0482, Train Acc: 42.09%, Val Loss: 1.1802, Val Acc: 40.48%\n",
      "Epoch [4/20], Train Loss: 1.0474, Train Acc: 41.83%, Val Loss: 1.2174, Val Acc: 40.48%\n",
      "Epoch [5/20], Train Loss: 1.0501, Train Acc: 40.48%, Val Loss: 1.1842, Val Acc: 40.48%\n",
      "Epoch [6/20], Train Loss: 1.0490, Train Acc: 41.21%, Val Loss: 1.2225, Val Acc: 40.48%\n",
      "Epoch [7/20], Train Loss: 1.0496, Train Acc: 41.65%, Val Loss: 1.1313, Val Acc: 24.29%\n",
      "Epoch [8/20], Train Loss: 1.0484, Train Acc: 41.15%, Val Loss: 1.1326, Val Acc: 40.48%\n",
      "Epoch [9/20], Train Loss: 1.0501, Train Acc: 41.11%, Val Loss: 1.2037, Val Acc: 40.48%\n",
      "Epoch [10/20], Train Loss: 1.0483, Train Acc: 41.07%, Val Loss: 1.2169, Val Acc: 40.48%\n",
      "Epoch [11/20], Train Loss: 1.0505, Train Acc: 41.35%, Val Loss: 1.2350, Val Acc: 40.48%\n",
      "Epoch [12/20], Train Loss: 1.0483, Train Acc: 41.13%, Val Loss: 1.1785, Val Acc: 24.29%\n",
      "Epoch [13/20], Train Loss: 1.0490, Train Acc: 40.87%, Val Loss: 1.1977, Val Acc: 24.29%\n",
      "Epoch [14/20], Train Loss: 1.0504, Train Acc: 41.70%, Val Loss: 1.2650, Val Acc: 40.48%\n",
      "Epoch [15/20], Train Loss: 1.0498, Train Acc: 41.08%, Val Loss: 1.2044, Val Acc: 24.29%\n",
      "Epoch [16/20], Train Loss: 1.0473, Train Acc: 41.21%, Val Loss: 1.2058, Val Acc: 24.29%\n",
      "Epoch [17/20], Train Loss: 1.0487, Train Acc: 41.69%, Val Loss: 1.2057, Val Acc: 24.29%\n",
      "Epoch [18/20], Train Loss: 1.0485, Train Acc: 41.33%, Val Loss: 1.1756, Val Acc: 24.29%\n",
      "Epoch [19/20], Train Loss: 1.0499, Train Acc: 41.42%, Val Loss: 1.1852, Val Acc: 40.48%\n",
      "Epoch [20/20], Train Loss: 1.0518, Train Acc: 40.67%, Val Loss: 1.1700, Val Acc: 24.29%\n",
      "Finished Training EEGConvNeXt_1D. Total time: 410.99 seconds\n"
     ]
    },
    {
     "name": "stderr",
     "output_type": "stream",
     "text": [
      "[I 2025-05-07 03:30:45,887] Trial 20 finished with value: 0.24287343215507412 and parameters: {'learning_rate': 0.004331078126634706, 'weight_decay': 0.0006160213193201132, 'dropout_rate': 0.6434146575170074, 'base_dim': 128, 'n_blocks': 2, 'batch_size': 8}. Best is trial 5 with value: 0.4047890535917902.\n"
     ]
    },
    {
     "name": "stdout",
     "output_type": "stream",
     "text": [
      "\n",
      "--- Training EEGConvNeXt_1D ---\n",
      "Epoch [1/20], Train Loss: 1.1712, Train Acc: 40.60%, Val Loss: 1.1021, Val Acc: 40.48%\n",
      "Epoch [2/20], Train Loss: 1.0615, Train Acc: 41.85%, Val Loss: 1.4675, Val Acc: 24.29%\n",
      "Epoch [3/20], Train Loss: 1.0631, Train Acc: 41.49%, Val Loss: 1.1443, Val Acc: 40.48%\n",
      "Epoch [4/20], Train Loss: 1.0581, Train Acc: 41.04%, Val Loss: 1.1249, Val Acc: 40.48%\n",
      "Epoch [5/20], Train Loss: 1.0614, Train Acc: 40.76%, Val Loss: 1.1627, Val Acc: 24.29%\n",
      "Epoch [6/20], Train Loss: 1.0558, Train Acc: 41.30%, Val Loss: 1.1940, Val Acc: 24.29%\n",
      "Epoch [7/20], Train Loss: 1.0633, Train Acc: 40.45%, Val Loss: 1.2301, Val Acc: 40.48%\n",
      "Epoch [8/20], Train Loss: 1.0647, Train Acc: 40.70%, Val Loss: 1.2491, Val Acc: 24.29%\n",
      "Epoch [9/20], Train Loss: 1.0578, Train Acc: 41.66%, Val Loss: 1.1302, Val Acc: 40.48%\n",
      "Epoch [10/20], Train Loss: 1.0655, Train Acc: 40.92%, Val Loss: 1.1134, Val Acc: 40.48%\n",
      "Epoch [11/20], Train Loss: 1.0593, Train Acc: 41.85%, Val Loss: 1.2713, Val Acc: 24.29%\n",
      "Epoch [12/20], Train Loss: 1.0587, Train Acc: 40.59%, Val Loss: 1.1056, Val Acc: 40.48%\n",
      "Epoch [13/20], Train Loss: 1.0565, Train Acc: 40.85%, Val Loss: 1.5747, Val Acc: 24.29%\n",
      "Epoch [14/20], Train Loss: 1.0681, Train Acc: 40.25%, Val Loss: 1.3207, Val Acc: 24.29%\n",
      "Epoch [15/20], Train Loss: 1.0570, Train Acc: 40.71%, Val Loss: 1.1564, Val Acc: 40.48%\n",
      "Epoch [16/20], Train Loss: 1.0552, Train Acc: 41.17%, Val Loss: 1.1910, Val Acc: 40.48%\n",
      "Epoch [17/20], Train Loss: 1.0649, Train Acc: 40.83%, Val Loss: 1.2099, Val Acc: 24.29%\n",
      "Epoch [18/20], Train Loss: 1.0579, Train Acc: 41.06%, Val Loss: 1.1025, Val Acc: 40.48%\n",
      "Epoch [19/20], Train Loss: 1.0603, Train Acc: 41.30%, Val Loss: 1.0784, Val Acc: 40.48%\n",
      "Epoch [20/20], Train Loss: 1.0610, Train Acc: 40.64%, Val Loss: 1.2322, Val Acc: 24.29%\n",
      "Finished Training EEGConvNeXt_1D. Total time: 408.81 seconds\n"
     ]
    },
    {
     "name": "stderr",
     "output_type": "stream",
     "text": [
      "[I 2025-05-07 03:37:35,447] Trial 21 finished with value: 0.24287343215507412 and parameters: {'learning_rate': 0.009697232486138992, 'weight_decay': 9.403368816765349e-05, 'dropout_rate': 0.5479005826754251, 'base_dim': 128, 'n_blocks': 2, 'batch_size': 8}. Best is trial 5 with value: 0.4047890535917902.\n"
     ]
    },
    {
     "name": "stdout",
     "output_type": "stream",
     "text": [
      "\n",
      "--- Training EEGConvNeXt_1D ---\n",
      "Epoch [1/20], Train Loss: 1.1905, Train Acc: 40.04%, Val Loss: 1.1531, Val Acc: 40.48%\n",
      "Epoch [2/20], Train Loss: 1.0582, Train Acc: 40.97%, Val Loss: 1.1380, Val Acc: 40.48%\n",
      "Epoch [3/20], Train Loss: 1.0603, Train Acc: 39.70%, Val Loss: 1.3681, Val Acc: 24.29%\n",
      "Epoch [4/20], Train Loss: 1.0599, Train Acc: 40.69%, Val Loss: 1.1709, Val Acc: 40.48%\n",
      "Epoch [5/20], Train Loss: 1.0573, Train Acc: 41.33%, Val Loss: 1.1384, Val Acc: 40.48%\n",
      "Epoch [6/20], Train Loss: 1.0680, Train Acc: 40.57%, Val Loss: 1.1946, Val Acc: 40.48%\n",
      "Epoch [7/20], Train Loss: 1.0603, Train Acc: 41.12%, Val Loss: 1.1781, Val Acc: 40.48%\n",
      "Epoch [8/20], Train Loss: 1.0576, Train Acc: 41.23%, Val Loss: 1.2108, Val Acc: 24.29%\n",
      "Epoch [9/20], Train Loss: 1.0584, Train Acc: 40.51%, Val Loss: 1.3162, Val Acc: 24.29%\n",
      "Epoch [10/20], Train Loss: 1.0586, Train Acc: 40.37%, Val Loss: 1.2375, Val Acc: 24.29%\n",
      "Epoch [11/20], Train Loss: 1.0537, Train Acc: 41.07%, Val Loss: 1.1869, Val Acc: 40.48%\n",
      "Epoch [12/20], Train Loss: 1.0625, Train Acc: 40.92%, Val Loss: 1.2058, Val Acc: 40.48%\n",
      "Epoch [13/20], Train Loss: 1.0623, Train Acc: 41.31%, Val Loss: 1.2337, Val Acc: 24.29%\n",
      "Epoch [14/20], Train Loss: 1.0614, Train Acc: 40.99%, Val Loss: 1.2711, Val Acc: 24.29%\n",
      "Epoch [15/20], Train Loss: 1.0590, Train Acc: 41.37%, Val Loss: 1.4101, Val Acc: 24.29%\n",
      "Epoch [16/20], Train Loss: 1.0602, Train Acc: 41.23%, Val Loss: 1.2409, Val Acc: 24.29%\n",
      "Epoch [17/20], Train Loss: 1.0557, Train Acc: 41.20%, Val Loss: 1.1785, Val Acc: 40.48%\n",
      "Epoch [18/20], Train Loss: 1.0588, Train Acc: 40.33%, Val Loss: 1.1904, Val Acc: 24.29%\n",
      "Epoch [19/20], Train Loss: 1.0541, Train Acc: 40.80%, Val Loss: 1.1785, Val Acc: 24.29%\n",
      "Epoch [20/20], Train Loss: 1.0634, Train Acc: 41.15%, Val Loss: 1.1846, Val Acc: 24.29%\n",
      "Finished Training EEGConvNeXt_1D. Total time: 418.74 seconds\n"
     ]
    },
    {
     "name": "stderr",
     "output_type": "stream",
     "text": [
      "[I 2025-05-07 03:44:34,939] Trial 22 finished with value: 0.24287343215507412 and parameters: {'learning_rate': 0.009697551648386314, 'weight_decay': 8.889802977975085e-05, 'dropout_rate': 0.5248457620646353, 'base_dim': 128, 'n_blocks': 2, 'batch_size': 8}. Best is trial 5 with value: 0.4047890535917902.\n"
     ]
    },
    {
     "name": "stdout",
     "output_type": "stream",
     "text": [
      "\n",
      "--- Training EEGConvNeXt_1D ---\n",
      "Epoch [1/20], Train Loss: 1.1400, Train Acc: 41.60%, Val Loss: 1.7550, Val Acc: 34.44%\n",
      "Epoch [2/20], Train Loss: 1.0283, Train Acc: 48.88%, Val Loss: 1.2832, Val Acc: 26.68%\n",
      "Epoch [3/20], Train Loss: 0.9641, Train Acc: 56.02%, Val Loss: 1.9652, Val Acc: 36.15%\n",
      "Epoch [4/20], Train Loss: 0.8330, Train Acc: 62.96%, Val Loss: 2.7469, Val Acc: 37.06%\n",
      "Epoch [5/20], Train Loss: 0.7807, Train Acc: 64.60%, Val Loss: 2.7156, Val Acc: 35.58%\n",
      "Epoch [6/20], Train Loss: 0.7406, Train Acc: 67.10%, Val Loss: 2.2645, Val Acc: 35.35%\n",
      "Epoch [7/20], Train Loss: 0.7081, Train Acc: 68.76%, Val Loss: 2.6244, Val Acc: 35.01%\n",
      "Epoch [8/20], Train Loss: 0.6546, Train Acc: 72.03%, Val Loss: 2.7151, Val Acc: 35.23%\n",
      "Epoch [9/20], Train Loss: 0.5966, Train Acc: 74.20%, Val Loss: 3.5329, Val Acc: 40.14%\n",
      "Epoch [10/20], Train Loss: 0.5280, Train Acc: 77.18%, Val Loss: 3.6672, Val Acc: 40.94%\n",
      "Epoch [11/20], Train Loss: 0.4950, Train Acc: 78.34%, Val Loss: 6.4157, Val Acc: 37.29%\n",
      "Epoch [12/20], Train Loss: 0.4734, Train Acc: 78.69%, Val Loss: 5.0621, Val Acc: 39.68%\n",
      "Epoch [13/20], Train Loss: 0.4376, Train Acc: 80.09%, Val Loss: 5.2054, Val Acc: 34.66%\n",
      "Epoch [14/20], Train Loss: 0.4399, Train Acc: 80.50%, Val Loss: 6.2636, Val Acc: 37.29%\n",
      "Epoch [15/20], Train Loss: 0.4134, Train Acc: 81.89%, Val Loss: 5.8809, Val Acc: 41.73%\n",
      "Epoch [16/20], Train Loss: 0.4130, Train Acc: 81.62%, Val Loss: 5.5218, Val Acc: 37.29%\n",
      "Epoch [17/20], Train Loss: 0.4026, Train Acc: 82.25%, Val Loss: 5.2144, Val Acc: 39.79%\n",
      "Epoch [18/20], Train Loss: 0.3939, Train Acc: 82.65%, Val Loss: 6.6096, Val Acc: 35.80%\n",
      "Epoch [19/20], Train Loss: 0.3722, Train Acc: 83.62%, Val Loss: 7.2804, Val Acc: 38.20%\n",
      "Epoch [20/20], Train Loss: 0.3849, Train Acc: 83.19%, Val Loss: 7.0941, Val Acc: 39.34%\n",
      "Finished Training EEGConvNeXt_1D. Total time: 421.62 seconds\n"
     ]
    },
    {
     "name": "stderr",
     "output_type": "stream",
     "text": [
      "[I 2025-05-07 03:51:37,311] Trial 23 finished with value: 0.3933865450399088 and parameters: {'learning_rate': 0.0015773004064479732, 'weight_decay': 1.384621276038966e-05, 'dropout_rate': 0.5890561809168028, 'base_dim': 128, 'n_blocks': 2, 'batch_size': 8}. Best is trial 5 with value: 0.4047890535917902.\n"
     ]
    },
    {
     "name": "stdout",
     "output_type": "stream",
     "text": [
      "\n",
      "--- Training EEGConvNeXt_1D ---\n",
      "Epoch [1/20], Train Loss: 1.1707, Train Acc: 40.98%, Val Loss: 1.3346, Val Acc: 24.29%\n",
      "Epoch [2/20], Train Loss: 1.0504, Train Acc: 40.54%, Val Loss: 1.3872, Val Acc: 24.29%\n",
      "Epoch [3/20], Train Loss: 1.0483, Train Acc: 41.18%, Val Loss: 1.1900, Val Acc: 24.29%\n",
      "Epoch [4/20], Train Loss: 1.0443, Train Acc: 41.54%, Val Loss: 1.1919, Val Acc: 40.48%\n",
      "Epoch [5/20], Train Loss: 1.0479, Train Acc: 40.87%, Val Loss: 1.2256, Val Acc: 24.29%\n",
      "Epoch [6/20], Train Loss: 1.0465, Train Acc: 40.65%, Val Loss: 1.2262, Val Acc: 40.48%\n",
      "Epoch [7/20], Train Loss: 1.0475, Train Acc: 41.32%, Val Loss: 1.1019, Val Acc: 40.48%\n",
      "Epoch [8/20], Train Loss: 1.0480, Train Acc: 40.61%, Val Loss: 1.1673, Val Acc: 40.48%\n",
      "Epoch [9/20], Train Loss: 1.0457, Train Acc: 41.74%, Val Loss: 1.1781, Val Acc: 40.48%\n",
      "Epoch [10/20], Train Loss: 1.0448, Train Acc: 41.66%, Val Loss: 1.2133, Val Acc: 24.29%\n",
      "Epoch [11/20], Train Loss: 1.0456, Train Acc: 41.52%, Val Loss: 1.1476, Val Acc: 40.48%\n",
      "Epoch [12/20], Train Loss: 1.0455, Train Acc: 41.13%, Val Loss: 1.1868, Val Acc: 40.48%\n",
      "Epoch [13/20], Train Loss: 1.0484, Train Acc: 41.51%, Val Loss: 1.1703, Val Acc: 40.48%\n",
      "Epoch [14/20], Train Loss: 1.0458, Train Acc: 42.12%, Val Loss: 1.2185, Val Acc: 40.48%\n",
      "Epoch [15/20], Train Loss: 1.0444, Train Acc: 41.72%, Val Loss: 1.1616, Val Acc: 40.48%\n",
      "Epoch [16/20], Train Loss: 1.0458, Train Acc: 40.92%, Val Loss: 1.1522, Val Acc: 40.48%\n",
      "Epoch [17/20], Train Loss: 1.0466, Train Acc: 40.61%, Val Loss: 1.1704, Val Acc: 40.48%\n",
      "Epoch [18/20], Train Loss: 1.0450, Train Acc: 41.41%, Val Loss: 1.2065, Val Acc: 40.48%\n",
      "Epoch [19/20], Train Loss: 1.0461, Train Acc: 40.85%, Val Loss: 1.1781, Val Acc: 40.48%\n",
      "Epoch [20/20], Train Loss: 1.0478, Train Acc: 41.38%, Val Loss: 1.1487, Val Acc: 40.48%\n",
      "Finished Training EEGConvNeXt_1D. Total time: 260.69 seconds\n"
     ]
    },
    {
     "name": "stderr",
     "output_type": "stream",
     "text": [
      "[I 2025-05-07 03:55:58,478] Trial 24 finished with value: 0.4047890535917902 and parameters: {'learning_rate': 0.003895686786767237, 'weight_decay': 5.083380996456361e-05, 'dropout_rate': 0.4983526147962659, 'base_dim': 128, 'n_blocks': 1, 'batch_size': 8}. Best is trial 5 with value: 0.4047890535917902.\n"
     ]
    },
    {
     "name": "stdout",
     "output_type": "stream",
     "text": [
      "\n",
      "--- Training EEGConvNeXt_1D ---\n",
      "Epoch [1/20], Train Loss: 0.9816, Train Acc: 59.39%, Val Loss: 2.6044, Val Acc: 39.00%\n",
      "Epoch [2/20], Train Loss: 0.5602, Train Acc: 74.53%, Val Loss: 3.8560, Val Acc: 25.88%\n",
      "Epoch [3/20], Train Loss: 0.4861, Train Acc: 76.47%, Val Loss: 2.6875, Val Acc: 40.59%\n",
      "Epoch [4/20], Train Loss: 0.4415, Train Acc: 78.71%, Val Loss: 3.4440, Val Acc: 37.17%\n",
      "Epoch [5/20], Train Loss: 0.4038, Train Acc: 80.39%, Val Loss: 3.3151, Val Acc: 33.18%\n",
      "Epoch [6/20], Train Loss: 0.3683, Train Acc: 82.09%, Val Loss: 3.7190, Val Acc: 36.49%\n",
      "Epoch [7/20], Train Loss: 0.3434, Train Acc: 83.19%, Val Loss: 4.2772, Val Acc: 35.35%\n",
      "Epoch [8/20], Train Loss: 0.3279, Train Acc: 83.90%, Val Loss: 3.6843, Val Acc: 37.06%\n",
      "Epoch [9/20], Train Loss: 0.3156, Train Acc: 84.66%, Val Loss: 4.5129, Val Acc: 35.35%\n",
      "Epoch [10/20], Train Loss: 0.2986, Train Acc: 85.79%, Val Loss: 4.7051, Val Acc: 36.26%\n",
      "Epoch [11/20], Train Loss: 0.2842, Train Acc: 86.94%, Val Loss: 4.1786, Val Acc: 34.32%\n",
      "Epoch [12/20], Train Loss: 0.2658, Train Acc: 87.94%, Val Loss: 4.7580, Val Acc: 40.25%\n",
      "Epoch [13/20], Train Loss: 0.2617, Train Acc: 88.58%, Val Loss: 4.5425, Val Acc: 39.11%\n",
      "Epoch [14/20], Train Loss: 0.2470, Train Acc: 89.30%, Val Loss: 4.7089, Val Acc: 37.40%\n",
      "Epoch [15/20], Train Loss: 0.2093, Train Acc: 91.01%, Val Loss: 4.6400, Val Acc: 37.63%\n",
      "Epoch [16/20], Train Loss: 0.1976, Train Acc: 91.96%, Val Loss: 5.1073, Val Acc: 41.39%\n",
      "Epoch [17/20], Train Loss: 0.1861, Train Acc: 92.52%, Val Loss: 5.5898, Val Acc: 36.37%\n",
      "Epoch [18/20], Train Loss: 0.1573, Train Acc: 93.96%, Val Loss: 5.3480, Val Acc: 38.77%\n",
      "Epoch [19/20], Train Loss: 0.1491, Train Acc: 94.14%, Val Loss: 6.3720, Val Acc: 38.77%\n",
      "Epoch [20/20], Train Loss: 0.1505, Train Acc: 94.52%, Val Loss: 6.3262, Val Acc: 35.12%\n",
      "Finished Training EEGConvNeXt_1D. Total time: 143.65 seconds\n"
     ]
    },
    {
     "name": "stderr",
     "output_type": "stream",
     "text": [
      "[I 2025-05-07 03:58:22,491] Trial 25 finished with value: 0.35119726339794755 and parameters: {'learning_rate': 0.0012730844332592484, 'weight_decay': 0.00015183917050989724, 'dropout_rate': 0.5440727771153413, 'base_dim': 96, 'n_blocks': 2, 'batch_size': 32}. Best is trial 5 with value: 0.4047890535917902.\n"
     ]
    },
    {
     "name": "stdout",
     "output_type": "stream",
     "text": [
      "\n",
      "--- Training EEGConvNeXt_1D ---\n",
      "Epoch [1/20], Train Loss: 1.1665, Train Acc: 38.95%, Val Loss: 1.1071, Val Acc: 40.48%\n",
      "Epoch [2/20], Train Loss: 1.0581, Train Acc: 40.67%, Val Loss: 1.2697, Val Acc: 40.48%\n",
      "Epoch [3/20], Train Loss: 1.0602, Train Acc: 41.15%, Val Loss: 1.2169, Val Acc: 24.29%\n",
      "Epoch [4/20], Train Loss: 1.0531, Train Acc: 41.60%, Val Loss: 1.2830, Val Acc: 24.29%\n",
      "Epoch [5/20], Train Loss: 1.0578, Train Acc: 40.48%, Val Loss: 1.2203, Val Acc: 40.48%\n",
      "Epoch [6/20], Train Loss: 1.0520, Train Acc: 40.46%, Val Loss: 1.2040, Val Acc: 40.48%\n",
      "Epoch [7/20], Train Loss: 1.0511, Train Acc: 40.74%, Val Loss: 1.2557, Val Acc: 24.29%\n",
      "Epoch [8/20], Train Loss: 1.0534, Train Acc: 41.23%, Val Loss: 1.1373, Val Acc: 40.48%\n",
      "Epoch [9/20], Train Loss: 1.0531, Train Acc: 41.90%, Val Loss: 1.2517, Val Acc: 40.48%\n",
      "Epoch [10/20], Train Loss: 1.0542, Train Acc: 40.78%, Val Loss: 1.1530, Val Acc: 24.29%\n",
      "Epoch [11/20], Train Loss: 1.0556, Train Acc: 40.90%, Val Loss: 1.2660, Val Acc: 24.29%\n",
      "Epoch [12/20], Train Loss: 1.0562, Train Acc: 40.78%, Val Loss: 1.2188, Val Acc: 40.48%\n",
      "Epoch [13/20], Train Loss: 1.0534, Train Acc: 40.60%, Val Loss: 1.1923, Val Acc: 40.48%\n",
      "Epoch [14/20], Train Loss: 1.0527, Train Acc: 41.45%, Val Loss: 1.1144, Val Acc: 40.48%\n",
      "Epoch [15/20], Train Loss: 1.0536, Train Acc: 41.51%, Val Loss: 1.1278, Val Acc: 40.48%\n",
      "Epoch [16/20], Train Loss: 1.0545, Train Acc: 41.43%, Val Loss: 1.2536, Val Acc: 40.48%\n",
      "Epoch [17/20], Train Loss: 1.0515, Train Acc: 40.52%, Val Loss: 1.1570, Val Acc: 40.48%\n",
      "Epoch [18/20], Train Loss: 1.0521, Train Acc: 41.03%, Val Loss: 1.1815, Val Acc: 40.48%\n",
      "Epoch [19/20], Train Loss: 1.0508, Train Acc: 41.43%, Val Loss: 1.1405, Val Acc: 40.48%\n",
      "Epoch [20/20], Train Loss: 1.0558, Train Acc: 40.86%, Val Loss: 1.1883, Val Acc: 24.29%\n",
      "Finished Training EEGConvNeXt_1D. Total time: 544.51 seconds\n"
     ]
    },
    {
     "name": "stderr",
     "output_type": "stream",
     "text": [
      "[I 2025-05-07 04:07:28,015] Trial 26 finished with value: 0.24287343215507412 and parameters: {'learning_rate': 0.006624488440602469, 'weight_decay': 2.179512362413413e-06, 'dropout_rate': 0.6497113918396089, 'base_dim': 128, 'n_blocks': 3, 'batch_size': 8}. Best is trial 5 with value: 0.4047890535917902.\n"
     ]
    },
    {
     "name": "stdout",
     "output_type": "stream",
     "text": [
      "\n",
      "--- Training EEGConvNeXt_1D ---\n",
      "Epoch [1/20], Train Loss: 1.1654, Train Acc: 39.75%, Val Loss: 1.4676, Val Acc: 40.48%\n",
      "Epoch [2/20], Train Loss: 1.0518, Train Acc: 41.23%, Val Loss: 1.1894, Val Acc: 24.29%\n",
      "Epoch [3/20], Train Loss: 1.0512, Train Acc: 41.62%, Val Loss: 1.2478, Val Acc: 40.48%\n",
      "Epoch [4/20], Train Loss: 1.0489, Train Acc: 41.05%, Val Loss: 1.2787, Val Acc: 24.29%\n",
      "Epoch [5/20], Train Loss: 1.0489, Train Acc: 41.73%, Val Loss: 1.2426, Val Acc: 40.48%\n",
      "Epoch [6/20], Train Loss: 1.0481, Train Acc: 40.92%, Val Loss: 1.2272, Val Acc: 40.48%\n",
      "Epoch [7/20], Train Loss: 1.0479, Train Acc: 41.38%, Val Loss: 1.1763, Val Acc: 24.29%\n",
      "Epoch [8/20], Train Loss: 1.0467, Train Acc: 42.12%, Val Loss: 1.1783, Val Acc: 40.48%\n",
      "Epoch [9/20], Train Loss: 1.0477, Train Acc: 41.26%, Val Loss: 1.1634, Val Acc: 40.48%\n",
      "Epoch [10/20], Train Loss: 1.0457, Train Acc: 41.03%, Val Loss: 1.1874, Val Acc: 40.48%\n",
      "Epoch [11/20], Train Loss: 1.0470, Train Acc: 41.17%, Val Loss: 1.1733, Val Acc: 40.48%\n",
      "Epoch [12/20], Train Loss: 1.0456, Train Acc: 41.32%, Val Loss: 1.1449, Val Acc: 40.48%\n",
      "Epoch [13/20], Train Loss: 1.0471, Train Acc: 40.53%, Val Loss: 1.1641, Val Acc: 24.29%\n",
      "Epoch [14/20], Train Loss: 1.0464, Train Acc: 40.84%, Val Loss: 1.1245, Val Acc: 40.48%\n",
      "Epoch [15/20], Train Loss: 1.0448, Train Acc: 41.63%, Val Loss: 1.1964, Val Acc: 24.29%\n",
      "Epoch [16/20], Train Loss: 1.0463, Train Acc: 41.28%, Val Loss: 1.2136, Val Acc: 40.48%\n",
      "Epoch [17/20], Train Loss: 1.0466, Train Acc: 40.99%, Val Loss: 1.1635, Val Acc: 40.48%\n",
      "Epoch [18/20], Train Loss: 1.0450, Train Acc: 41.19%, Val Loss: 1.2277, Val Acc: 24.29%\n",
      "Epoch [19/20], Train Loss: 1.0463, Train Acc: 41.42%, Val Loss: 1.2010, Val Acc: 24.29%\n",
      "Epoch [20/20], Train Loss: 1.0455, Train Acc: 40.28%, Val Loss: 1.1702, Val Acc: 24.29%\n",
      "Finished Training EEGConvNeXt_1D. Total time: 405.15 seconds\n"
     ]
    },
    {
     "name": "stderr",
     "output_type": "stream",
     "text": [
      "[I 2025-05-07 04:14:13,911] Trial 27 finished with value: 0.24287343215507412 and parameters: {'learning_rate': 0.003082265664979106, 'weight_decay': 1.2499240108618487e-05, 'dropout_rate': 0.5951217995327062, 'base_dim': 128, 'n_blocks': 2, 'batch_size': 8}. Best is trial 5 with value: 0.4047890535917902.\n"
     ]
    },
    {
     "name": "stdout",
     "output_type": "stream",
     "text": [
      "\n",
      "--- Training EEGConvNeXt_1D ---\n",
      "Epoch [1/20], Train Loss: 1.1572, Train Acc: 40.32%, Val Loss: 1.1399, Val Acc: 40.48%\n",
      "Epoch [2/20], Train Loss: 1.0530, Train Acc: 40.63%, Val Loss: 1.2004, Val Acc: 24.29%\n",
      "Epoch [3/20], Train Loss: 1.0517, Train Acc: 41.07%, Val Loss: 1.1919, Val Acc: 40.48%\n",
      "Epoch [4/20], Train Loss: 1.0503, Train Acc: 41.35%, Val Loss: 1.2108, Val Acc: 40.48%\n",
      "Epoch [5/20], Train Loss: 1.0491, Train Acc: 40.92%, Val Loss: 1.1201, Val Acc: 40.48%\n",
      "Epoch [6/20], Train Loss: 1.0512, Train Acc: 40.98%, Val Loss: 1.1690, Val Acc: 40.48%\n",
      "Epoch [7/20], Train Loss: 1.0486, Train Acc: 41.49%, Val Loss: 1.1876, Val Acc: 40.48%\n",
      "Epoch [8/20], Train Loss: 1.0497, Train Acc: 41.07%, Val Loss: 1.1839, Val Acc: 40.48%\n",
      "Epoch [9/20], Train Loss: 1.0487, Train Acc: 41.16%, Val Loss: 1.1775, Val Acc: 40.48%\n",
      "Epoch [10/20], Train Loss: 1.0505, Train Acc: 41.83%, Val Loss: 1.1067, Val Acc: 40.48%\n",
      "Epoch [11/20], Train Loss: 1.0467, Train Acc: 40.93%, Val Loss: 1.2527, Val Acc: 24.29%\n",
      "Epoch [12/20], Train Loss: 1.0502, Train Acc: 40.46%, Val Loss: 1.2742, Val Acc: 24.29%\n",
      "Epoch [13/20], Train Loss: 1.0505, Train Acc: 40.51%, Val Loss: 1.1625, Val Acc: 40.48%\n",
      "Epoch [14/20], Train Loss: 1.0526, Train Acc: 41.35%, Val Loss: 1.1644, Val Acc: 40.48%\n",
      "Epoch [15/20], Train Loss: 1.0462, Train Acc: 41.53%, Val Loss: 1.1979, Val Acc: 24.29%\n",
      "Epoch [16/20], Train Loss: 1.0472, Train Acc: 40.96%, Val Loss: 1.1922, Val Acc: 24.29%\n",
      "Epoch [17/20], Train Loss: 1.0543, Train Acc: 40.18%, Val Loss: 1.2039, Val Acc: 40.48%\n",
      "Epoch [18/20], Train Loss: 1.0475, Train Acc: 41.28%, Val Loss: 1.1651, Val Acc: 24.29%\n",
      "Epoch [19/20], Train Loss: 1.0467, Train Acc: 40.43%, Val Loss: 1.2020, Val Acc: 24.29%\n",
      "Epoch [20/20], Train Loss: 1.0520, Train Acc: 41.12%, Val Loss: 1.2028, Val Acc: 24.29%\n",
      "Finished Training EEGConvNeXt_1D. Total time: 261.85 seconds\n"
     ]
    },
    {
     "name": "stderr",
     "output_type": "stream",
     "text": [
      "[I 2025-05-07 04:18:36,238] Trial 28 finished with value: 0.24287343215507412 and parameters: {'learning_rate': 0.005549763780695552, 'weight_decay': 3.704023536301587e-05, 'dropout_rate': 0.49002876694535435, 'base_dim': 128, 'n_blocks': 1, 'batch_size': 8}. Best is trial 5 with value: 0.4047890535917902.\n"
     ]
    },
    {
     "name": "stdout",
     "output_type": "stream",
     "text": [
      "\n",
      "--- Training EEGConvNeXt_1D ---\n",
      "Epoch [1/20], Train Loss: 1.3986, Train Acc: 39.78%, Val Loss: 1.4090, Val Acc: 24.29%\n",
      "Epoch [2/20], Train Loss: 1.0600, Train Acc: 40.92%, Val Loss: 1.2853, Val Acc: 40.48%\n",
      "Epoch [3/20], Train Loss: 1.0607, Train Acc: 40.42%, Val Loss: 1.1268, Val Acc: 24.29%\n",
      "Epoch [4/20], Train Loss: 1.0540, Train Acc: 41.51%, Val Loss: 1.1300, Val Acc: 40.48%\n",
      "Epoch [5/20], Train Loss: 1.0598, Train Acc: 40.74%, Val Loss: 1.1400, Val Acc: 24.29%\n",
      "Epoch [6/20], Train Loss: 1.0509, Train Acc: 41.32%, Val Loss: 1.1802, Val Acc: 40.48%\n",
      "Epoch [7/20], Train Loss: 1.0540, Train Acc: 40.70%, Val Loss: 1.1865, Val Acc: 40.48%\n",
      "Epoch [8/20], Train Loss: 1.0517, Train Acc: 41.12%, Val Loss: 1.2456, Val Acc: 24.29%\n",
      "Epoch [9/20], Train Loss: 1.0505, Train Acc: 41.47%, Val Loss: 1.3215, Val Acc: 40.48%\n",
      "Epoch [10/20], Train Loss: 1.0505, Train Acc: 40.73%, Val Loss: 1.2184, Val Acc: 40.48%\n",
      "Epoch [11/20], Train Loss: 1.0533, Train Acc: 40.96%, Val Loss: 1.0915, Val Acc: 40.48%\n",
      "Epoch [12/20], Train Loss: 1.0468, Train Acc: 41.26%, Val Loss: 1.2047, Val Acc: 40.48%\n",
      "Epoch [13/20], Train Loss: 1.0492, Train Acc: 40.84%, Val Loss: 1.6952, Val Acc: 35.23%\n",
      "Epoch [14/20], Train Loss: 1.0493, Train Acc: 41.47%, Val Loss: 1.2185, Val Acc: 40.48%\n",
      "Epoch [15/20], Train Loss: 1.0463, Train Acc: 40.76%, Val Loss: 1.2155, Val Acc: 40.59%\n",
      "Epoch [16/20], Train Loss: 0.9886, Train Acc: 45.25%, Val Loss: 1.3845, Val Acc: 40.02%\n",
      "Epoch [17/20], Train Loss: 0.9692, Train Acc: 47.52%, Val Loss: 1.5553, Val Acc: 34.21%\n",
      "Epoch [18/20], Train Loss: 0.9513, Train Acc: 48.36%, Val Loss: 1.5290, Val Acc: 39.00%\n",
      "Epoch [19/20], Train Loss: 0.9295, Train Acc: 49.89%, Val Loss: 1.7115, Val Acc: 22.69%\n",
      "Epoch [20/20], Train Loss: 0.9289, Train Acc: 50.01%, Val Loss: 1.7693, Val Acc: 37.51%\n",
      "Finished Training EEGConvNeXt_1D. Total time: 212.93 seconds\n"
     ]
    },
    {
     "name": "stderr",
     "output_type": "stream",
     "text": [
      "[I 2025-05-07 04:22:09,724] Trial 29 finished with value: 0.3751425313568985 and parameters: {'learning_rate': 0.009862451579782659, 'weight_decay': 3.0501047531634456e-06, 'dropout_rate': 0.5577038710930484, 'base_dim': 128, 'n_blocks': 2, 'batch_size': 32}. Best is trial 5 with value: 0.4047890535917902.\n"
     ]
    },
    {
     "name": "stdout",
     "output_type": "stream",
     "text": [
      "Best Val Acc: 0.4048\n",
      "Best hyperparams:\n",
      "  learning_rate: 0.00836174147858395\n",
      "  weight_decay: 1.8056443588778537e-05\n",
      "  dropout_rate: 0.5845118646576506\n",
      "  base_dim: 128\n",
      "  n_blocks: 1\n",
      "  batch_size: 8\n"
     ]
    }
   ],
   "source": [
    "# Optionally use a pruner to stop bad trials early:\n",
    "pruner = optuna.pruners.MedianPruner()\n",
    "\n",
    "study = optuna.create_study(\n",
    "    direction=\"maximize\",\n",
    "    study_name=\"eeg_hpo\",\n",
    "    pruner=pruner\n",
    ")\n",
    "\n",
    "study.optimize(objective, n_trials=30, timeout=9600)  # e.g. 30 trials or 1h max\n",
    "\n",
    "print(f\"Best Val Acc: {study.best_value:.4f}\")\n",
    "print(\"Best hyperparams:\")\n",
    "for key, val in study.best_params.items():\n",
    "    print(f\"  {key}: {val}\")\n"
   ]
  },
  {
   "cell_type": "code",
   "execution_count": 27,
   "metadata": {
    "colab": {
     "base_uri": "https://localhost:8080/",
     "height": 1000
    },
    "id": "9vwCKoFkU5X-",
    "outputId": "04c9b3af-fcc2-4d83-a8b2-1dd41622b842"
   },
   "outputs": [
    {
     "name": "stdout",
     "output_type": "stream",
     "text": [
      "\n",
      "--- Training EEGConvNeXt_1D ---\n",
      "Epoch [1/50], Train Loss: 1.1415, Train Acc: 44.56%, Val Loss: 1.3575, Val Acc: 33.75%\n",
      "Epoch [2/50], Train Loss: 0.9509, Train Acc: 54.13%, Val Loss: 1.6488, Val Acc: 32.95%\n",
      "Epoch [3/50], Train Loss: 0.8659, Train Acc: 60.41%, Val Loss: 2.0506, Val Acc: 35.69%\n",
      "Epoch [4/50], Train Loss: 0.8216, Train Acc: 63.42%, Val Loss: 1.5788, Val Acc: 33.30%\n",
      "Epoch [5/50], Train Loss: 0.7966, Train Acc: 64.35%, Val Loss: 1.7242, Val Acc: 36.83%\n",
      "Epoch [6/50], Train Loss: 0.7768, Train Acc: 65.32%, Val Loss: 2.0016, Val Acc: 34.66%\n",
      "Epoch [7/50], Train Loss: 0.7513, Train Acc: 66.27%, Val Loss: 1.8058, Val Acc: 29.08%\n",
      "Epoch [8/50], Train Loss: 0.7112, Train Acc: 67.51%, Val Loss: 2.5081, Val Acc: 29.76%\n",
      "Epoch [9/50], Train Loss: 0.6932, Train Acc: 67.16%, Val Loss: 3.0328, Val Acc: 30.44%\n",
      "Epoch [10/50], Train Loss: 0.6586, Train Acc: 68.00%, Val Loss: 3.7614, Val Acc: 29.99%\n",
      "Epoch [11/50], Train Loss: 0.6400, Train Acc: 68.50%, Val Loss: 3.5207, Val Acc: 34.66%\n",
      "Epoch [12/50], Train Loss: 0.6124, Train Acc: 70.80%, Val Loss: 5.0833, Val Acc: 32.27%\n",
      "Epoch [13/50], Train Loss: 0.5579, Train Acc: 73.57%, Val Loss: 5.2913, Val Acc: 32.95%\n",
      "Epoch [14/50], Train Loss: 0.5033, Train Acc: 77.20%, Val Loss: 4.9719, Val Acc: 36.72%\n",
      "Epoch [15/50], Train Loss: 0.4551, Train Acc: 78.73%, Val Loss: 5.1096, Val Acc: 38.65%\n",
      "Epoch [16/50], Train Loss: 0.4085, Train Acc: 80.95%, Val Loss: 5.9827, Val Acc: 35.69%\n",
      "Epoch [17/50], Train Loss: 0.3649, Train Acc: 83.16%, Val Loss: 7.1225, Val Acc: 34.44%\n",
      "Epoch [18/50], Train Loss: 0.3448, Train Acc: 84.03%, Val Loss: 8.8969, Val Acc: 30.33%\n",
      "Epoch [19/50], Train Loss: 0.3368, Train Acc: 84.42%, Val Loss: 8.8665, Val Acc: 31.70%\n",
      "Epoch [20/50], Train Loss: 0.2995, Train Acc: 86.34%, Val Loss: 8.7089, Val Acc: 35.92%\n",
      "Epoch [21/50], Train Loss: 0.3129, Train Acc: 85.74%, Val Loss: 8.8536, Val Acc: 31.70%\n",
      "Epoch [22/50], Train Loss: 0.2838, Train Acc: 87.53%, Val Loss: 8.2994, Val Acc: 33.98%\n",
      "Epoch [23/50], Train Loss: 0.2785, Train Acc: 87.33%, Val Loss: 10.1105, Val Acc: 32.38%\n",
      "Epoch [24/50], Train Loss: 0.2647, Train Acc: 88.56%, Val Loss: 12.0386, Val Acc: 32.61%\n",
      "Epoch [25/50], Train Loss: 0.2519, Train Acc: 88.63%, Val Loss: 12.5748, Val Acc: 29.99%\n",
      "Epoch [26/50], Train Loss: 0.2498, Train Acc: 89.27%, Val Loss: 11.2499, Val Acc: 33.98%\n",
      "Epoch [27/50], Train Loss: 0.2443, Train Acc: 89.75%, Val Loss: 10.6994, Val Acc: 31.47%\n",
      "Epoch [28/50], Train Loss: 0.2398, Train Acc: 89.42%, Val Loss: 11.3819, Val Acc: 30.79%\n",
      "Epoch [29/50], Train Loss: 0.2250, Train Acc: 90.57%, Val Loss: 12.3083, Val Acc: 36.37%\n",
      "Epoch [30/50], Train Loss: 0.2283, Train Acc: 90.22%, Val Loss: 12.5579, Val Acc: 34.89%\n",
      "Epoch [31/50], Train Loss: 0.2091, Train Acc: 90.88%, Val Loss: 12.4530, Val Acc: 36.72%\n",
      "Epoch [32/50], Train Loss: 0.2053, Train Acc: 91.35%, Val Loss: 9.7347, Val Acc: 36.60%\n",
      "Epoch [33/50], Train Loss: 0.2018, Train Acc: 91.35%, Val Loss: 10.9605, Val Acc: 38.31%\n",
      "Epoch [34/50], Train Loss: 0.1988, Train Acc: 91.68%, Val Loss: 12.8883, Val Acc: 36.37%\n",
      "Epoch [35/50], Train Loss: 0.1785, Train Acc: 92.06%, Val Loss: 12.4806, Val Acc: 37.40%\n",
      "Epoch [36/50], Train Loss: 0.1794, Train Acc: 92.20%, Val Loss: 12.6082, Val Acc: 34.55%\n",
      "Epoch [37/50], Train Loss: 0.1815, Train Acc: 92.14%, Val Loss: 11.8162, Val Acc: 32.95%\n",
      "Epoch [38/50], Train Loss: 0.1729, Train Acc: 92.32%, Val Loss: 15.7330, Val Acc: 33.41%\n",
      "Epoch [39/50], Train Loss: 0.1802, Train Acc: 92.08%, Val Loss: 13.1475, Val Acc: 29.87%\n",
      "Epoch [40/50], Train Loss: 0.1705, Train Acc: 92.60%, Val Loss: 12.9972, Val Acc: 32.73%\n",
      "Epoch [41/50], Train Loss: 0.1665, Train Acc: 92.58%, Val Loss: 12.9148, Val Acc: 36.60%\n",
      "Epoch [42/50], Train Loss: 0.1531, Train Acc: 92.93%, Val Loss: 14.7536, Val Acc: 36.15%\n",
      "Epoch [43/50], Train Loss: 0.1601, Train Acc: 92.84%, Val Loss: 15.5615, Val Acc: 32.04%\n",
      "Epoch [44/50], Train Loss: 0.1567, Train Acc: 92.95%, Val Loss: 13.2956, Val Acc: 38.31%\n",
      "Epoch [45/50], Train Loss: 0.1563, Train Acc: 92.99%, Val Loss: 13.5580, Val Acc: 35.01%\n",
      "Epoch [46/50], Train Loss: 0.1549, Train Acc: 92.91%, Val Loss: 14.8551, Val Acc: 35.23%\n",
      "Epoch [47/50], Train Loss: 0.1523, Train Acc: 93.24%, Val Loss: 13.8343, Val Acc: 34.44%\n",
      "Epoch [48/50], Train Loss: 0.1502, Train Acc: 93.25%, Val Loss: 13.2119, Val Acc: 35.80%\n",
      "Epoch [49/50], Train Loss: 0.1428, Train Acc: 93.45%, Val Loss: 18.5099, Val Acc: 34.89%\n",
      "Epoch [50/50], Train Loss: 0.1477, Train Acc: 93.52%, Val Loss: 13.5443, Val Acc: 35.12%\n",
      "Finished Training EEGConvNeXt_1D. Total time: 374.49 seconds\n",
      "\n",
      "=== Final Model ===\n",
      "Accuracy: 41.09%\n"
     ]
    },
    {
     "data": {
      "text/html": [
       "<div>\n",
       "<style scoped>\n",
       "    .dataframe tbody tr th:only-of-type {\n",
       "        vertical-align: middle;\n",
       "    }\n",
       "\n",
       "    .dataframe tbody tr th {\n",
       "        vertical-align: top;\n",
       "    }\n",
       "\n",
       "    .dataframe thead th {\n",
       "        text-align: right;\n",
       "    }\n",
       "</style>\n",
       "<table border=\"1\" class=\"dataframe\">\n",
       "  <thead>\n",
       "    <tr style=\"text-align: right;\">\n",
       "      <th></th>\n",
       "      <th>precision</th>\n",
       "      <th>recall</th>\n",
       "      <th>f1-score</th>\n",
       "      <th>support</th>\n",
       "    </tr>\n",
       "  </thead>\n",
       "  <tbody>\n",
       "    <tr>\n",
       "      <th>0</th>\n",
       "      <td>0.506369</td>\n",
       "      <td>0.417323</td>\n",
       "      <td>0.457554</td>\n",
       "      <td>381.000000</td>\n",
       "    </tr>\n",
       "    <tr>\n",
       "      <th>1</th>\n",
       "      <td>0.379921</td>\n",
       "      <td>0.739464</td>\n",
       "      <td>0.501951</td>\n",
       "      <td>261.000000</td>\n",
       "    </tr>\n",
       "    <tr>\n",
       "      <th>2</th>\n",
       "      <td>0.223684</td>\n",
       "      <td>0.066406</td>\n",
       "      <td>0.102410</td>\n",
       "      <td>256.000000</td>\n",
       "    </tr>\n",
       "    <tr>\n",
       "      <th>accuracy</th>\n",
       "      <td>0.410913</td>\n",
       "      <td>0.410913</td>\n",
       "      <td>0.410913</td>\n",
       "      <td>0.410913</td>\n",
       "    </tr>\n",
       "    <tr>\n",
       "      <th>macro avg</th>\n",
       "      <td>0.369992</td>\n",
       "      <td>0.407731</td>\n",
       "      <td>0.353971</td>\n",
       "      <td>898.000000</td>\n",
       "    </tr>\n",
       "    <tr>\n",
       "      <th>weighted avg</th>\n",
       "      <td>0.389030</td>\n",
       "      <td>0.410913</td>\n",
       "      <td>0.369214</td>\n",
       "      <td>898.000000</td>\n",
       "    </tr>\n",
       "  </tbody>\n",
       "</table>\n",
       "</div>"
      ],
      "text/plain": [
       "              precision    recall  f1-score     support\n",
       "0              0.506369  0.417323  0.457554  381.000000\n",
       "1              0.379921  0.739464  0.501951  261.000000\n",
       "2              0.223684  0.066406  0.102410  256.000000\n",
       "accuracy       0.410913  0.410913  0.410913    0.410913\n",
       "macro avg      0.369992  0.407731  0.353971  898.000000\n",
       "weighted avg   0.389030  0.410913  0.369214  898.000000"
      ]
     },
     "metadata": {},
     "output_type": "display_data"
    },
    {
     "data": {
      "image/png": "[encoded data removed]",
      "text/plain": [
       "<Figure size 800x600 with 1 Axes>"
      ]
     },
     "metadata": {},
     "output_type": "display_data"
    },
    {
     "data": {
      "text/plain": [
       "{'Final Model':               precision    recall  f1-score     support\n",
       " 0              0.506369  0.417323  0.457554  381.000000\n",
       " 1              0.379921  0.739464  0.501951  261.000000\n",
       " 2              0.223684  0.066406  0.102410  256.000000\n",
       " accuracy       0.410913  0.410913  0.410913    0.410913\n",
       " macro avg      0.369992  0.407731  0.353971  898.000000\n",
       " weighted avg   0.389030  0.410913  0.369214  898.000000}"
      ]
     },
     "execution_count": 27,
     "metadata": {},
     "output_type": "execute_result"
    }
   ],
   "source": [
    "best = study.best_params\n",
    "\n",
    "final_model = EEGConvNeXt_1D(\n",
    "    n_channels=actual_n_channels,\n",
    "    n_timesteps=actual_n_timesteps,\n",
    "    num_classes=num_classes_actual,\n",
    "    depths=[best[\"n_blocks\"]]*2 + [best[\"n_blocks\"]*2]*1 + [best[\"n_blocks\"]],  # or however you want to map them\n",
    "    dims=[best[\"base_dim\"], best[\"base_dim\"]*2, best[\"base_dim\"]*4, best[\"base_dim\"]*8],\n",
    "    dropout_rate=best[\"dropout_rate\"]\n",
    ").to(device)\n",
    "\n",
    "opt_final = optim.Adam(final_model.parameters(), lr=best[\"learning_rate\"])\n",
    "crit_final = nn.CrossEntropyLoss(weight=class_weights.to(device))\n",
    "\n",
    "# Train fully\n",
    "train_model(final_model, train_loader, val_loader, crit_final, opt_final, num_epochs=50, device=device)\n",
    "\n",
    "# Evaluate on test set as before...\n",
    "evaluate_and_compare_models(final_model, \"Final Model\", test_loader, device, num_classes_actual)\n"
   ]
  },
  {
   "cell_type": "code",
   "execution_count": null,
   "metadata": {},
   "outputs": [],
   "source": []
  }
 ],
 "metadata": {
  "accelerator": "GPU",
  "colab": {
   "gpuType": "T4",
   "provenance": []
  },
  "kernelspec": {
   "display_name": "Python 3 (ipykernel)",
   "language": "python",
   "name": "python3"
  },
  "language_info": {
   "codemirror_mode": {
    "name": "ipython",
    "version": 3
   },
   "file_extension": ".py",
   "mimetype": "text/x-python",
   "name": "python",
   "nbconvert_exporter": "python",
   "pygments_lexer": "ipython3",
   "version": "3.9.18"
  }
 },
 "nbformat": 4,
 "nbformat_minor": 4
}
